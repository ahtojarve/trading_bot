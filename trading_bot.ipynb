{
 "cells": [
  {
   "cell_type": "code",
   "execution_count": 9,
   "id": "ca2e9cb1-fbce-4cb7-acd1-506595a40e6e",
   "metadata": {},
   "outputs": [],
   "source": [
    "# IMPORTING PACKAGES\n",
    "\n",
    "import pandas as pd\n",
    "import requests\n",
    "import pandas_ta as ta\n",
    "import matplotlib.pyplot as plt\n",
    "from termcolor import colored as cl\n",
    "import math \n",
    "\n",
    "plt.rcParams['figure.figsize'] = (20,10)\n",
    "plt.style.use('fivethirtyeight')"
   ]
  },
  {
   "cell_type": "code",
   "execution_count": 15,
   "id": "9a9d9ae9-bc53-46b9-a2b5-eb4df9665366",
   "metadata": {},
   "outputs": [
    {
     "name": "stdout",
     "output_type": "stream",
     "text": [
      "[\"Access denied for user 0 \\\"anonymous\\\"\"]\n",
      "\n"
     ]
    }
   ],
   "source": [
    "\n",
    "import requests\n",
    "\n",
    "url = \"https://api.benzinga.com/api/v2/bars\"\n",
    "\n",
    "querystring = {\"symbols\":\"AAPL\",\"from\":\"1993-01-01\",\"interval\":\"1W\",\"token\":\"5d4f7a014e214f119e0db81e0762bf31\"}\n",
    "\n",
    "headers = {\"accept\": \"application/json\"}\n",
    "\n",
    "response = requests.request(\"GET\", url, headers=headers, params=querystring)\n",
    "\n",
    "print(response.text)"
   ]
  },
  {
   "cell_type": "code",
   "execution_count": 11,
   "id": "0eb7af11-2661-4e32-b11d-a6847e837994",
   "metadata": {},
   "outputs": [
    {
     "name": "stdout",
     "output_type": "stream",
     "text": [
      "Error fetching data: 403 Client Error: Forbidden for url: https://api.benzinga.com/api/v2/bars?token=Y5d4f7a014e214f119e0db81e0762bf31&symbols=AAPL&from=1993-01-01&interval=1W\n"
     ]
    }
   ],
   "source": [
    "# EXTRACTING HISTORICAL DATA\n",
    "\n",
    "def get_historical_data(symbol, start_date, interval):\n",
    "    url = \"https://api.benzinga.com/api/v2/bars\"\n",
    "    querystring = {\"token\":\"Y5d4f7a014e214f119e0db81e0762bf31\",\"symbols\":f\"{symbol}\",\"from\":f\"{start_date}\",\"interval\":f\"{interval}\"}\n",
    "\n",
    "    hist_json = requests.get(url, params = querystring).json()\n",
    "    df = pd.DataFrame(hist_json[0]['candles'])\n",
    "    \n",
    "    return df\n",
    "\n",
    "aapl = get_historical_data('AAPL', '1993-01-01', '1W')\n",
    "aapl.tail()"
   ]
  }
 ],
 "metadata": {
  "kernelspec": {
   "display_name": "Python 3 (ipykernel)",
   "language": "python",
   "name": "python3"
  },
  "language_info": {
   "codemirror_mode": {
    "name": "ipython",
    "version": 3
   },
   "file_extension": ".py",
   "mimetype": "text/x-python",
   "name": "python",
   "nbconvert_exporter": "python",
   "pygments_lexer": "ipython3",
   "version": "3.11.5"
  }
 },
 "nbformat": 4,
 "nbformat_minor": 5
}
