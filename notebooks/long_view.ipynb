{
 "cells": [
  {
   "cell_type": "markdown",
   "id": "70d60c15-63e0-461f-b40f-85fc66bd0da1",
   "metadata": {},
   "source": [
    "#EXTRACTING DATA"
   ]
  },
  {
   "cell_type": "code",
   "execution_count": 1,
   "id": "ca2e9cb1-fbce-4cb7-acd1-506595a40e6e",
   "metadata": {},
   "outputs": [],
   "source": [
    "# IMPORTING PACKAGES\n",
    "\n",
    "import pandas as pd\n",
    "import requests\n",
    "import pandas_ta as ta\n",
    "#import matplotlib.pyplot as plt\n",
    "#from termcolor import colored as cl\n",
    "#import math \n",
    "from datetime import datetime, timedelta\n",
    "import sqlite3\n",
    "\n",
    "#plt.rcParams['figure.figsize'] = (20,10)\n",
    "#plt.style.use('fivethirtyeight')"
   ]
  },
  {
   "cell_type": "markdown",
   "id": "9047d6a5-cb4f-4e60-a2b0-aa9af9df685a",
   "metadata": {},
   "source": [
    "## Getting historical data from binance API"
   ]
  },
  {
   "cell_type": "code",
   "execution_count": 2,
   "id": "37e522c4-cb49-49cc-8b8e-f694373eaee2",
   "metadata": {},
   "outputs": [],
   "source": [
    "#The variable days_back represents the number of days in the past from which I intend to retrieve the data.\n",
    "#The variable symbol is a coin pair. For example if you want bitcoin historical data, the symbol to use is BTCUSDT. \n",
    "\n",
    "API_URL = 'https://api.binance.com/api/v3/klines' # Binance API endpoint for candlestick data\n",
    "\n",
    "def get_historical_data(symbol, days_back, interval):\n",
    "    # Calculate the start time in milliseconds\n",
    "    start_time = int((datetime.now() - timedelta(days=days_back)).timestamp() * 1000)\n",
    "\n",
    "    # Calculate the current time in milliseconds\n",
    "    end_time = int(datetime.now().timestamp() * 1000)\n",
    "\n",
    "    # Make an API request to retrieve historical data\n",
    "    hist_json = requests.get(API_URL, params={\n",
    "        'symbol': symbol,\n",
    "        'interval': interval,\n",
    "        'startTime': start_time,\n",
    "        'endTime': end_time,\n",
    "        'limit': 1000  # Maximum number of data points per request\n",
    "    }).json()\n",
    "\n",
    "    #print(hist_json)\n",
    "\n",
    "    # Making a df from response\n",
    "    # Extract only the relevant elements for each row\n",
    "    df = pd.DataFrame(hist_json, columns=[\n",
    "        'Time', 'Open Price', 'High Price', 'Low Price',\n",
    "        'Close Price', 'Volume', 'Kline Close Time', 'Quote Asset Volume',\n",
    "        'Number of Trades', 'Taker Buy Base Asset Volume',\n",
    "        'Taker Buy Quote Asset Volume', 'Unused Field'\n",
    "    ])\n",
    "\n",
    "    # Select only the relevant columns (Open Time, Open Price, High Price, Low Price, Close Price, Volume)\n",
    "    df = df[['Time', 'Open Price', 'High Price', 'Low Price', 'Close Price', 'Volume']]\n",
    "    df['dateTime'] = pd.to_datetime(df['Time'], unit='ms')\n",
    "    \n",
    "    return df\n"
   ]
  },
  {
   "cell_type": "markdown",
   "id": "ec1d9ae0-f482-456a-a131-82d6a7242e70",
   "metadata": {},
   "source": [
    "## creating a table for calculating elder impulse"
   ]
  },
  {
   "cell_type": "code",
   "execution_count": null,
   "id": "a60cfa61-6e44-4e4e-99cd-9fe6315d8388",
   "metadata": {},
   "outputs": [],
   "source": [
    "Elder Impulse\n",
    "https://school.stockcharts.com/doku.php?id=chart_analysis:elder_impulse_system\n",
    "MACD-histogram\n",
    "https://www.investopedia.com/ask/answers/122414/what-moving-average-convergence-divergence-macd-formula-and-how-it-calculated.asp"
   ]
  },
  {
   "cell_type": "code",
   "execution_count": 19,
   "id": "5f1f88b5-1183-418f-9a8c-a442cd8dc806",
   "metadata": {},
   "outputs": [],
   "source": [
    "df_elder = get_historical_data('BTCUSDT', 30, '1d')\n"
   ]
  },
  {
   "cell_type": "code",
   "execution_count": 20,
   "id": "c412ff1a-c572-40b0-a8fc-64d0e886325a",
   "metadata": {},
   "outputs": [
    {
     "data": {
      "text/html": [
       "<div>\n",
       "<style scoped>\n",
       "    .dataframe tbody tr th:only-of-type {\n",
       "        vertical-align: middle;\n",
       "    }\n",
       "\n",
       "    .dataframe tbody tr th {\n",
       "        vertical-align: top;\n",
       "    }\n",
       "\n",
       "    .dataframe thead th {\n",
       "        text-align: right;\n",
       "    }\n",
       "</style>\n",
       "<table border=\"1\" class=\"dataframe\">\n",
       "  <thead>\n",
       "    <tr style=\"text-align: right;\">\n",
       "      <th></th>\n",
       "      <th>Time</th>\n",
       "      <th>Open Price</th>\n",
       "      <th>High Price</th>\n",
       "      <th>Low Price</th>\n",
       "      <th>Close Price</th>\n",
       "      <th>Volume</th>\n",
       "      <th>dateTime</th>\n",
       "    </tr>\n",
       "  </thead>\n",
       "  <tbody>\n",
       "    <tr>\n",
       "      <th>25</th>\n",
       "      <td>1707436800000</td>\n",
       "      <td>45288.66000000</td>\n",
       "      <td>48200.00000000</td>\n",
       "      <td>45242.12000000</td>\n",
       "      <td>47132.77000000</td>\n",
       "      <td>73503.48100000</td>\n",
       "      <td>2024-02-09</td>\n",
       "    </tr>\n",
       "    <tr>\n",
       "      <th>26</th>\n",
       "      <td>1707523200000</td>\n",
       "      <td>47132.78000000</td>\n",
       "      <td>48170.00000000</td>\n",
       "      <td>46800.00000000</td>\n",
       "      <td>47751.09000000</td>\n",
       "      <td>24802.35936000</td>\n",
       "      <td>2024-02-10</td>\n",
       "    </tr>\n",
       "    <tr>\n",
       "      <th>27</th>\n",
       "      <td>1707609600000</td>\n",
       "      <td>47751.08000000</td>\n",
       "      <td>48592.66000000</td>\n",
       "      <td>47557.16000000</td>\n",
       "      <td>48299.99000000</td>\n",
       "      <td>29958.80837000</td>\n",
       "      <td>2024-02-11</td>\n",
       "    </tr>\n",
       "    <tr>\n",
       "      <th>28</th>\n",
       "      <td>1707696000000</td>\n",
       "      <td>48300.00000000</td>\n",
       "      <td>50334.82000000</td>\n",
       "      <td>47710.01000000</td>\n",
       "      <td>49917.27000000</td>\n",
       "      <td>59009.96705000</td>\n",
       "      <td>2024-02-12</td>\n",
       "    </tr>\n",
       "    <tr>\n",
       "      <th>29</th>\n",
       "      <td>1707782400000</td>\n",
       "      <td>49917.28000000</td>\n",
       "      <td>50368.61000000</td>\n",
       "      <td>48300.95000000</td>\n",
       "      <td>49163.78000000</td>\n",
       "      <td>47913.61831000</td>\n",
       "      <td>2024-02-13</td>\n",
       "    </tr>\n",
       "  </tbody>\n",
       "</table>\n",
       "</div>"
      ],
      "text/plain": [
       "             Time      Open Price      High Price       Low Price  \\\n",
       "25  1707436800000  45288.66000000  48200.00000000  45242.12000000   \n",
       "26  1707523200000  47132.78000000  48170.00000000  46800.00000000   \n",
       "27  1707609600000  47751.08000000  48592.66000000  47557.16000000   \n",
       "28  1707696000000  48300.00000000  50334.82000000  47710.01000000   \n",
       "29  1707782400000  49917.28000000  50368.61000000  48300.95000000   \n",
       "\n",
       "       Close Price          Volume   dateTime  \n",
       "25  47132.77000000  73503.48100000 2024-02-09  \n",
       "26  47751.09000000  24802.35936000 2024-02-10  \n",
       "27  48299.99000000  29958.80837000 2024-02-11  \n",
       "28  49917.27000000  59009.96705000 2024-02-12  \n",
       "29  49163.78000000  47913.61831000 2024-02-13  "
      ]
     },
     "execution_count": 20,
     "metadata": {},
     "output_type": "execute_result"
    }
   ],
   "source": [
    "df_elder.tail()\n"
   ]
  },
  {
   "cell_type": "code",
   "execution_count": 21,
   "id": "23ff4a4e-4370-455b-8c06-c85f4c599c0a",
   "metadata": {},
   "outputs": [],
   "source": [
    "df_elder['13EMA'] = df_elder['Close Price'].ewm(span=13, adjust=False).mean()"
   ]
  },
  {
   "cell_type": "code",
   "execution_count": 22,
   "id": "830a874e-993c-4ed7-bcae-b46cfa2e7f8a",
   "metadata": {},
   "outputs": [
    {
     "data": {
      "text/html": [
       "<div>\n",
       "<style scoped>\n",
       "    .dataframe tbody tr th:only-of-type {\n",
       "        vertical-align: middle;\n",
       "    }\n",
       "\n",
       "    .dataframe tbody tr th {\n",
       "        vertical-align: top;\n",
       "    }\n",
       "\n",
       "    .dataframe thead th {\n",
       "        text-align: right;\n",
       "    }\n",
       "</style>\n",
       "<table border=\"1\" class=\"dataframe\">\n",
       "  <thead>\n",
       "    <tr style=\"text-align: right;\">\n",
       "      <th></th>\n",
       "      <th>Time</th>\n",
       "      <th>Open Price</th>\n",
       "      <th>High Price</th>\n",
       "      <th>Low Price</th>\n",
       "      <th>Close Price</th>\n",
       "      <th>Volume</th>\n",
       "      <th>dateTime</th>\n",
       "      <th>13EMA</th>\n",
       "    </tr>\n",
       "  </thead>\n",
       "  <tbody>\n",
       "    <tr>\n",
       "      <th>25</th>\n",
       "      <td>1707436800000</td>\n",
       "      <td>45288.66000000</td>\n",
       "      <td>48200.00000000</td>\n",
       "      <td>45242.12000000</td>\n",
       "      <td>47132.77000000</td>\n",
       "      <td>73503.48100000</td>\n",
       "      <td>2024-02-09</td>\n",
       "      <td>43731.059158</td>\n",
       "    </tr>\n",
       "    <tr>\n",
       "      <th>26</th>\n",
       "      <td>1707523200000</td>\n",
       "      <td>47132.78000000</td>\n",
       "      <td>48170.00000000</td>\n",
       "      <td>46800.00000000</td>\n",
       "      <td>47751.09000000</td>\n",
       "      <td>24802.35936000</td>\n",
       "      <td>2024-02-10</td>\n",
       "      <td>44305.349278</td>\n",
       "    </tr>\n",
       "    <tr>\n",
       "      <th>27</th>\n",
       "      <td>1707609600000</td>\n",
       "      <td>47751.08000000</td>\n",
       "      <td>48592.66000000</td>\n",
       "      <td>47557.16000000</td>\n",
       "      <td>48299.99000000</td>\n",
       "      <td>29958.80837000</td>\n",
       "      <td>2024-02-11</td>\n",
       "      <td>44876.012239</td>\n",
       "    </tr>\n",
       "    <tr>\n",
       "      <th>28</th>\n",
       "      <td>1707696000000</td>\n",
       "      <td>48300.00000000</td>\n",
       "      <td>50334.82000000</td>\n",
       "      <td>47710.01000000</td>\n",
       "      <td>49917.27000000</td>\n",
       "      <td>59009.96705000</td>\n",
       "      <td>2024-02-12</td>\n",
       "      <td>45596.191919</td>\n",
       "    </tr>\n",
       "    <tr>\n",
       "      <th>29</th>\n",
       "      <td>1707782400000</td>\n",
       "      <td>49917.28000000</td>\n",
       "      <td>50368.61000000</td>\n",
       "      <td>48300.95000000</td>\n",
       "      <td>49163.78000000</td>\n",
       "      <td>47913.61831000</td>\n",
       "      <td>2024-02-13</td>\n",
       "      <td>46105.847359</td>\n",
       "    </tr>\n",
       "  </tbody>\n",
       "</table>\n",
       "</div>"
      ],
      "text/plain": [
       "             Time      Open Price      High Price       Low Price  \\\n",
       "25  1707436800000  45288.66000000  48200.00000000  45242.12000000   \n",
       "26  1707523200000  47132.78000000  48170.00000000  46800.00000000   \n",
       "27  1707609600000  47751.08000000  48592.66000000  47557.16000000   \n",
       "28  1707696000000  48300.00000000  50334.82000000  47710.01000000   \n",
       "29  1707782400000  49917.28000000  50368.61000000  48300.95000000   \n",
       "\n",
       "       Close Price          Volume   dateTime         13EMA  \n",
       "25  47132.77000000  73503.48100000 2024-02-09  43731.059158  \n",
       "26  47751.09000000  24802.35936000 2024-02-10  44305.349278  \n",
       "27  48299.99000000  29958.80837000 2024-02-11  44876.012239  \n",
       "28  49917.27000000  59009.96705000 2024-02-12  45596.191919  \n",
       "29  49163.78000000  47913.61831000 2024-02-13  46105.847359  "
      ]
     },
     "execution_count": 22,
     "metadata": {},
     "output_type": "execute_result"
    }
   ],
   "source": [
    "df_elder.tail()"
   ]
  },
  {
   "cell_type": "code",
   "execution_count": 23,
   "id": "0455bd91-aafc-4644-927d-81fb1b9edf55",
   "metadata": {},
   "outputs": [],
   "source": [
    "# Calculate 12-period EMA\n",
    "df_elder['12EMA'] = df_elder['Close Price'].ewm(span=12, adjust=False).mean()\n",
    "\n",
    "# Calculate 26-period EMA\n",
    "df_elder['26EMA'] = df_elder['Close Price'].ewm(span=26, adjust=False).mean()\n",
    "\n",
    "# Calculate MACD Line (12EMA - 26EMA)\n",
    "df_elder['MACD'] = df_elder['12EMA'] - df_elder['26EMA']\n",
    "\n",
    "# Calculate Signal Line (9-period EMA of MACD)\n",
    "df_elder['Signal'] = df_elder['MACD'].ewm(span=9, adjust=False).mean()\n",
    "\n",
    "# Calculate MACD Histogram\n",
    "df_elder['Histogram'] = df_elder['MACD'] - df_elder['Signal']"
   ]
  },
  {
   "cell_type": "code",
   "execution_count": 24,
   "id": "35f73ce3-54a3-4479-8776-bb4d4334493f",
   "metadata": {},
   "outputs": [
    {
     "data": {
      "text/html": [
       "<div>\n",
       "<style scoped>\n",
       "    .dataframe tbody tr th:only-of-type {\n",
       "        vertical-align: middle;\n",
       "    }\n",
       "\n",
       "    .dataframe tbody tr th {\n",
       "        vertical-align: top;\n",
       "    }\n",
       "\n",
       "    .dataframe thead th {\n",
       "        text-align: right;\n",
       "    }\n",
       "</style>\n",
       "<table border=\"1\" class=\"dataframe\">\n",
       "  <thead>\n",
       "    <tr style=\"text-align: right;\">\n",
       "      <th></th>\n",
       "      <th>Time</th>\n",
       "      <th>Open Price</th>\n",
       "      <th>High Price</th>\n",
       "      <th>Low Price</th>\n",
       "      <th>Close Price</th>\n",
       "      <th>Volume</th>\n",
       "      <th>dateTime</th>\n",
       "      <th>13EMA</th>\n",
       "      <th>12EMA</th>\n",
       "      <th>26EMA</th>\n",
       "      <th>MACD</th>\n",
       "      <th>Signal</th>\n",
       "      <th>Histogram</th>\n",
       "    </tr>\n",
       "  </thead>\n",
       "  <tbody>\n",
       "    <tr>\n",
       "      <th>25</th>\n",
       "      <td>1707436800000</td>\n",
       "      <td>45288.66000000</td>\n",
       "      <td>48200.00000000</td>\n",
       "      <td>45242.12000000</td>\n",
       "      <td>47132.77000000</td>\n",
       "      <td>73503.48100000</td>\n",
       "      <td>2024-02-09</td>\n",
       "      <td>43731.059158</td>\n",
       "      <td>43832.816377</td>\n",
       "      <td>43020.198550</td>\n",
       "      <td>812.617826</td>\n",
       "      <td>350.569135</td>\n",
       "      <td>462.048691</td>\n",
       "    </tr>\n",
       "    <tr>\n",
       "      <th>26</th>\n",
       "      <td>1707523200000</td>\n",
       "      <td>47132.78000000</td>\n",
       "      <td>48170.00000000</td>\n",
       "      <td>46800.00000000</td>\n",
       "      <td>47751.09000000</td>\n",
       "      <td>24802.35936000</td>\n",
       "      <td>2024-02-10</td>\n",
       "      <td>44305.349278</td>\n",
       "      <td>44435.627703</td>\n",
       "      <td>43370.634954</td>\n",
       "      <td>1064.992749</td>\n",
       "      <td>493.453858</td>\n",
       "      <td>571.538891</td>\n",
       "    </tr>\n",
       "    <tr>\n",
       "      <th>27</th>\n",
       "      <td>1707609600000</td>\n",
       "      <td>47751.08000000</td>\n",
       "      <td>48592.66000000</td>\n",
       "      <td>47557.16000000</td>\n",
       "      <td>48299.99000000</td>\n",
       "      <td>29958.80837000</td>\n",
       "      <td>2024-02-11</td>\n",
       "      <td>44876.012239</td>\n",
       "      <td>45030.144980</td>\n",
       "      <td>43735.772365</td>\n",
       "      <td>1294.372615</td>\n",
       "      <td>653.637610</td>\n",
       "      <td>640.735005</td>\n",
       "    </tr>\n",
       "    <tr>\n",
       "      <th>28</th>\n",
       "      <td>1707696000000</td>\n",
       "      <td>48300.00000000</td>\n",
       "      <td>50334.82000000</td>\n",
       "      <td>47710.01000000</td>\n",
       "      <td>49917.27000000</td>\n",
       "      <td>59009.96705000</td>\n",
       "      <td>2024-02-12</td>\n",
       "      <td>45596.191919</td>\n",
       "      <td>45782.010368</td>\n",
       "      <td>44193.661079</td>\n",
       "      <td>1588.349289</td>\n",
       "      <td>840.579945</td>\n",
       "      <td>747.769343</td>\n",
       "    </tr>\n",
       "    <tr>\n",
       "      <th>29</th>\n",
       "      <td>1707782400000</td>\n",
       "      <td>49917.28000000</td>\n",
       "      <td>50368.61000000</td>\n",
       "      <td>48300.95000000</td>\n",
       "      <td>49163.78000000</td>\n",
       "      <td>47913.61831000</td>\n",
       "      <td>2024-02-13</td>\n",
       "      <td>46105.847359</td>\n",
       "      <td>46302.282619</td>\n",
       "      <td>44561.818036</td>\n",
       "      <td>1740.464583</td>\n",
       "      <td>1020.556873</td>\n",
       "      <td>719.907710</td>\n",
       "    </tr>\n",
       "  </tbody>\n",
       "</table>\n",
       "</div>"
      ],
      "text/plain": [
       "             Time      Open Price      High Price       Low Price  \\\n",
       "25  1707436800000  45288.66000000  48200.00000000  45242.12000000   \n",
       "26  1707523200000  47132.78000000  48170.00000000  46800.00000000   \n",
       "27  1707609600000  47751.08000000  48592.66000000  47557.16000000   \n",
       "28  1707696000000  48300.00000000  50334.82000000  47710.01000000   \n",
       "29  1707782400000  49917.28000000  50368.61000000  48300.95000000   \n",
       "\n",
       "       Close Price          Volume   dateTime         13EMA         12EMA  \\\n",
       "25  47132.77000000  73503.48100000 2024-02-09  43731.059158  43832.816377   \n",
       "26  47751.09000000  24802.35936000 2024-02-10  44305.349278  44435.627703   \n",
       "27  48299.99000000  29958.80837000 2024-02-11  44876.012239  45030.144980   \n",
       "28  49917.27000000  59009.96705000 2024-02-12  45596.191919  45782.010368   \n",
       "29  49163.78000000  47913.61831000 2024-02-13  46105.847359  46302.282619   \n",
       "\n",
       "           26EMA         MACD       Signal   Histogram  \n",
       "25  43020.198550   812.617826   350.569135  462.048691  \n",
       "26  43370.634954  1064.992749   493.453858  571.538891  \n",
       "27  43735.772365  1294.372615   653.637610  640.735005  \n",
       "28  44193.661079  1588.349289   840.579945  747.769343  \n",
       "29  44561.818036  1740.464583  1020.556873  719.907710  "
      ]
     },
     "execution_count": 24,
     "metadata": {},
     "output_type": "execute_result"
    }
   ],
   "source": [
    "df_elder.tail()"
   ]
  },
  {
   "cell_type": "markdown",
   "id": "1377c86b-4dd4-46a0-bfa5-41064b0df179",
   "metadata": {},
   "source": [
    "## Calculating elder impulse"
   ]
  },
  {
   "cell_type": "code",
   "execution_count": 30,
   "id": "24e369f5-c101-45a7-89cc-ad4a7cd27d9d",
   "metadata": {},
   "outputs": [
    {
     "name": "stdout",
     "output_type": "stream",
     "text": [
      "Last row EMA_13: 46105.84735904187\n",
      "Second-to-last row EMA_13: 45596.191918882185\n"
     ]
    }
   ],
   "source": [
    "last_row_13ema = df_elder.iloc[-1]['13EMA']\n",
    "second_to_last_row_13ema = df_elder.iloc[-2]['13EMA']\n",
    "# Print the comparison\n",
    "print(f\"Last row EMA_13: {last_row_13ema}\")\n",
    "print(f\"Second-to-last row EMA_13: {second_to_last_row_13ema}\")"
   ]
  },
  {
   "cell_type": "code",
   "execution_count": 31,
   "id": "cef72a65-307d-41eb-a4cb-add2f67cddd0",
   "metadata": {},
   "outputs": [
    {
     "data": {
      "text/plain": [
       "1"
      ]
     },
     "execution_count": 31,
     "metadata": {},
     "output_type": "execute_result"
    }
   ],
   "source": [
    "ema_comparison = 0\n",
    "\n",
    "if last_row_13ema > second_to_last_row_13ema:\n",
    "    ema_comparison = 1\n",
    "elif last_row_13ema < second_to_last_row_13ema:\n",
    "    ema_comparison = -1\n",
    "\n",
    "ema_comparison"
   ]
  },
  {
   "cell_type": "code",
   "execution_count": 34,
   "id": "97e6aee7-aabb-4168-8a35-89fe31db3183",
   "metadata": {},
   "outputs": [
    {
     "data": {
      "text/plain": [
       "1"
      ]
     },
     "execution_count": 34,
     "metadata": {},
     "output_type": "execute_result"
    }
   ],
   "source": [
    "elder_impulse = 0\n",
    "\n",
    "if ema_comparison == 1 and df_elder['Histogram'].iloc[-1] > 0:\n",
    "    elder_impulse = 1\n",
    "elif ema_comparison == -1 and df_elder['Histogram'].iloc[-1] < 0:\n",
    "    elder_impulse = -1\n",
    "else:\n",
    "    elder_impulse = 0\n",
    "\n",
    "elder_impulse"
   ]
  },
  {
   "cell_type": "markdown",
   "id": "19de6537-bc3a-48a9-ada9-53ba5bac5e08",
   "metadata": {},
   "source": [
    "if elder_impulse is 1, it means you can go long; \n",
    "if it is -1 , you can go short;\n",
    "if it is 0 you can do nothing"
   ]
  }
 ],
 "metadata": {
  "kernelspec": {
   "display_name": "Python 3 (ipykernel)",
   "language": "python",
   "name": "python3"
  },
  "language_info": {
   "codemirror_mode": {
    "name": "ipython",
    "version": 3
   },
   "file_extension": ".py",
   "mimetype": "text/x-python",
   "name": "python",
   "nbconvert_exporter": "python",
   "pygments_lexer": "ipython3",
   "version": "3.11.5"
  }
 },
 "nbformat": 4,
 "nbformat_minor": 5
}
