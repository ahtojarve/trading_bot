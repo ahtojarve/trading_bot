{
 "cells": [
  {
   "cell_type": "markdown",
   "id": "70d60c15-63e0-461f-b40f-85fc66bd0da1",
   "metadata": {},
   "source": [
    "# Calculating Elder Impulse for long view"
   ]
  },
  {
   "cell_type": "code",
   "execution_count": 1,
   "id": "ca2e9cb1-fbce-4cb7-acd1-506595a40e6e",
   "metadata": {},
   "outputs": [],
   "source": [
    "# IMPORTING PACKAGES\n",
    "\n",
    "import pandas as pd\n",
    "import requests\n",
    "import pandas_ta as ta\n",
    "#import matplotlib.pyplot as plt\n",
    "#from termcolor import colored as cl\n",
    "#import math \n",
    "from datetime import datetime, timedelta\n",
    "import sqlite3\n",
    "\n",
    "#plt.rcParams['figure.figsize'] = (20,10)\n",
    "#plt.style.use('fivethirtyeight')"
   ]
  },
  {
   "cell_type": "markdown",
   "id": "9047d6a5-cb4f-4e60-a2b0-aa9af9df685a",
   "metadata": {},
   "source": [
    "## Getting historical data from binance API"
   ]
  },
  {
   "cell_type": "code",
   "execution_count": 2,
   "id": "37e522c4-cb49-49cc-8b8e-f694373eaee2",
   "metadata": {},
   "outputs": [],
   "source": [
    "#The variable days_back represents the number of days in the past from which I intend to retrieve the data.\n",
    "#The variable symbol is a coin pair. For example if you want bitcoin historical data, the symbol to use is BTCUSDT. \n",
    "\n",
    "API_URL = 'https://api.binance.com/api/v3/klines' # Binance API endpoint for candlestick data\n",
    "\n",
    "def get_historical_data(symbol, days_back, interval):\n",
    "    # Calculate the start time in milliseconds\n",
    "    start_time = int((datetime.now() - timedelta(days=days_back)).timestamp() * 1000)\n",
    "\n",
    "    # Calculate the current time in milliseconds\n",
    "    end_time = int(datetime.now().timestamp() * 1000)\n",
    "\n",
    "    # Make an API request to retrieve historical data\n",
    "    hist_json = requests.get(API_URL, params={\n",
    "        'symbol': symbol,\n",
    "        'interval': interval,\n",
    "        'startTime': start_time,\n",
    "        'endTime': end_time,\n",
    "        'limit': 1000  # Maximum number of data points per request\n",
    "    }).json()\n",
    "\n",
    "    #print(hist_json)\n",
    "\n",
    "    # Making a df from response\n",
    "    # Extract only the relevant elements for each row\n",
    "    df = pd.DataFrame(hist_json, columns=[\n",
    "        'Time', 'Open Price', 'High Price', 'Low Price',\n",
    "        'Close Price', 'Volume', 'Kline Close Time', 'Quote Asset Volume',\n",
    "        'Number of Trades', 'Taker Buy Base Asset Volume',\n",
    "        'Taker Buy Quote Asset Volume', 'Unused Field'\n",
    "    ])\n",
    "\n",
    "    # Select only the relevant columns (Open Time, Open Price, High Price, Low Price, Close Price, Volume)\n",
    "    df = df[['Time', 'Open Price', 'High Price', 'Low Price', 'Close Price', 'Volume']]\n",
    "    df['dateTime'] = pd.to_datetime(df['Time'], unit='ms')\n",
    "    \n",
    "    return df\n"
   ]
  },
  {
   "cell_type": "markdown",
   "id": "ec1d9ae0-f482-456a-a131-82d6a7242e70",
   "metadata": {},
   "source": [
    "## creating a table for calculating elder impulse"
   ]
  },
  {
   "cell_type": "markdown",
   "id": "5e2aeb56-b200-42b1-ab9b-4eec9785a283",
   "metadata": {},
   "source": [
    "Elder Impulse\n",
    "https://school.stockcharts.com/doku.php?id=chart_analysis:elder_impulse_system\n",
    "MACD-histogram\n",
    "https://www.investopedia.com/ask/answers/122414/what-moving-average-convergence-divergence-macd-formula-and-how-it-calculated.asp"
   ]
  },
  {
   "cell_type": "code",
   "execution_count": 4,
   "id": "5f1f88b5-1183-418f-9a8c-a442cd8dc806",
   "metadata": {},
   "outputs": [],
   "source": [
    "df_long = get_historical_data('BTCUSDT', 30, '1w')\n"
   ]
  },
  {
   "cell_type": "code",
   "execution_count": 5,
   "id": "c412ff1a-c572-40b0-a8fc-64d0e886325a",
   "metadata": {},
   "outputs": [
    {
     "data": {
      "text/html": [
       "<div>\n",
       "<style scoped>\n",
       "    .dataframe tbody tr th:only-of-type {\n",
       "        vertical-align: middle;\n",
       "    }\n",
       "\n",
       "    .dataframe tbody tr th {\n",
       "        vertical-align: top;\n",
       "    }\n",
       "\n",
       "    .dataframe thead th {\n",
       "        text-align: right;\n",
       "    }\n",
       "</style>\n",
       "<table border=\"1\" class=\"dataframe\">\n",
       "  <thead>\n",
       "    <tr style=\"text-align: right;\">\n",
       "      <th></th>\n",
       "      <th>Time</th>\n",
       "      <th>Open Price</th>\n",
       "      <th>High Price</th>\n",
       "      <th>Low Price</th>\n",
       "      <th>Close Price</th>\n",
       "      <th>Volume</th>\n",
       "      <th>dateTime</th>\n",
       "    </tr>\n",
       "  </thead>\n",
       "  <tbody>\n",
       "    <tr>\n",
       "      <th>0</th>\n",
       "      <td>1705276800000</td>\n",
       "      <td>41732.35000000</td>\n",
       "      <td>43578.01000000</td>\n",
       "      <td>40280.00000000</td>\n",
       "      <td>41580.33000000</td>\n",
       "      <td>238486.27274000</td>\n",
       "      <td>2024-01-15</td>\n",
       "    </tr>\n",
       "    <tr>\n",
       "      <th>1</th>\n",
       "      <td>1705881600000</td>\n",
       "      <td>41580.32000000</td>\n",
       "      <td>42842.68000000</td>\n",
       "      <td>38555.00000000</td>\n",
       "      <td>42031.06000000</td>\n",
       "      <td>274603.16207000</td>\n",
       "      <td>2024-01-22</td>\n",
       "    </tr>\n",
       "    <tr>\n",
       "      <th>2</th>\n",
       "      <td>1706486400000</td>\n",
       "      <td>42031.05000000</td>\n",
       "      <td>43882.36000000</td>\n",
       "      <td>41804.88000000</td>\n",
       "      <td>42582.88000000</td>\n",
       "      <td>203036.61925000</td>\n",
       "      <td>2024-01-29</td>\n",
       "    </tr>\n",
       "    <tr>\n",
       "      <th>3</th>\n",
       "      <td>1707091200000</td>\n",
       "      <td>42582.88000000</td>\n",
       "      <td>48592.66000000</td>\n",
       "      <td>42258.10000000</td>\n",
       "      <td>48299.99000000</td>\n",
       "      <td>262240.48357000</td>\n",
       "      <td>2024-02-05</td>\n",
       "    </tr>\n",
       "    <tr>\n",
       "      <th>4</th>\n",
       "      <td>1707696000000</td>\n",
       "      <td>48300.00000000</td>\n",
       "      <td>50368.61000000</td>\n",
       "      <td>47710.01000000</td>\n",
       "      <td>49178.53000000</td>\n",
       "      <td>108182.35760000</td>\n",
       "      <td>2024-02-12</td>\n",
       "    </tr>\n",
       "  </tbody>\n",
       "</table>\n",
       "</div>"
      ],
      "text/plain": [
       "            Time      Open Price      High Price       Low Price  \\\n",
       "0  1705276800000  41732.35000000  43578.01000000  40280.00000000   \n",
       "1  1705881600000  41580.32000000  42842.68000000  38555.00000000   \n",
       "2  1706486400000  42031.05000000  43882.36000000  41804.88000000   \n",
       "3  1707091200000  42582.88000000  48592.66000000  42258.10000000   \n",
       "4  1707696000000  48300.00000000  50368.61000000  47710.01000000   \n",
       "\n",
       "      Close Price           Volume   dateTime  \n",
       "0  41580.33000000  238486.27274000 2024-01-15  \n",
       "1  42031.06000000  274603.16207000 2024-01-22  \n",
       "2  42582.88000000  203036.61925000 2024-01-29  \n",
       "3  48299.99000000  262240.48357000 2024-02-05  \n",
       "4  49178.53000000  108182.35760000 2024-02-12  "
      ]
     },
     "execution_count": 5,
     "metadata": {},
     "output_type": "execute_result"
    }
   ],
   "source": [
    "df_long.tail()\n"
   ]
  },
  {
   "cell_type": "code",
   "execution_count": 6,
   "id": "23ff4a4e-4370-455b-8c06-c85f4c599c0a",
   "metadata": {},
   "outputs": [],
   "source": [
    "df_long['13EMA'] = df_long['Close Price'].ewm(span=13, adjust=False).mean()"
   ]
  },
  {
   "cell_type": "code",
   "execution_count": 7,
   "id": "830a874e-993c-4ed7-bcae-b46cfa2e7f8a",
   "metadata": {},
   "outputs": [
    {
     "data": {
      "text/html": [
       "<div>\n",
       "<style scoped>\n",
       "    .dataframe tbody tr th:only-of-type {\n",
       "        vertical-align: middle;\n",
       "    }\n",
       "\n",
       "    .dataframe tbody tr th {\n",
       "        vertical-align: top;\n",
       "    }\n",
       "\n",
       "    .dataframe thead th {\n",
       "        text-align: right;\n",
       "    }\n",
       "</style>\n",
       "<table border=\"1\" class=\"dataframe\">\n",
       "  <thead>\n",
       "    <tr style=\"text-align: right;\">\n",
       "      <th></th>\n",
       "      <th>Time</th>\n",
       "      <th>Open Price</th>\n",
       "      <th>High Price</th>\n",
       "      <th>Low Price</th>\n",
       "      <th>Close Price</th>\n",
       "      <th>Volume</th>\n",
       "      <th>dateTime</th>\n",
       "      <th>13EMA</th>\n",
       "    </tr>\n",
       "  </thead>\n",
       "  <tbody>\n",
       "    <tr>\n",
       "      <th>0</th>\n",
       "      <td>1705276800000</td>\n",
       "      <td>41732.35000000</td>\n",
       "      <td>43578.01000000</td>\n",
       "      <td>40280.00000000</td>\n",
       "      <td>41580.33000000</td>\n",
       "      <td>238486.27274000</td>\n",
       "      <td>2024-01-15</td>\n",
       "      <td>41580.330000</td>\n",
       "    </tr>\n",
       "    <tr>\n",
       "      <th>1</th>\n",
       "      <td>1705881600000</td>\n",
       "      <td>41580.32000000</td>\n",
       "      <td>42842.68000000</td>\n",
       "      <td>38555.00000000</td>\n",
       "      <td>42031.06000000</td>\n",
       "      <td>274603.16207000</td>\n",
       "      <td>2024-01-22</td>\n",
       "      <td>41644.720000</td>\n",
       "    </tr>\n",
       "    <tr>\n",
       "      <th>2</th>\n",
       "      <td>1706486400000</td>\n",
       "      <td>42031.05000000</td>\n",
       "      <td>43882.36000000</td>\n",
       "      <td>41804.88000000</td>\n",
       "      <td>42582.88000000</td>\n",
       "      <td>203036.61925000</td>\n",
       "      <td>2024-01-29</td>\n",
       "      <td>41778.742857</td>\n",
       "    </tr>\n",
       "    <tr>\n",
       "      <th>3</th>\n",
       "      <td>1707091200000</td>\n",
       "      <td>42582.88000000</td>\n",
       "      <td>48592.66000000</td>\n",
       "      <td>42258.10000000</td>\n",
       "      <td>48299.99000000</td>\n",
       "      <td>262240.48357000</td>\n",
       "      <td>2024-02-05</td>\n",
       "      <td>42710.349592</td>\n",
       "    </tr>\n",
       "    <tr>\n",
       "      <th>4</th>\n",
       "      <td>1707696000000</td>\n",
       "      <td>48300.00000000</td>\n",
       "      <td>50368.61000000</td>\n",
       "      <td>47710.01000000</td>\n",
       "      <td>49178.53000000</td>\n",
       "      <td>108182.35760000</td>\n",
       "      <td>2024-02-12</td>\n",
       "      <td>43634.375364</td>\n",
       "    </tr>\n",
       "  </tbody>\n",
       "</table>\n",
       "</div>"
      ],
      "text/plain": [
       "            Time      Open Price      High Price       Low Price  \\\n",
       "0  1705276800000  41732.35000000  43578.01000000  40280.00000000   \n",
       "1  1705881600000  41580.32000000  42842.68000000  38555.00000000   \n",
       "2  1706486400000  42031.05000000  43882.36000000  41804.88000000   \n",
       "3  1707091200000  42582.88000000  48592.66000000  42258.10000000   \n",
       "4  1707696000000  48300.00000000  50368.61000000  47710.01000000   \n",
       "\n",
       "      Close Price           Volume   dateTime         13EMA  \n",
       "0  41580.33000000  238486.27274000 2024-01-15  41580.330000  \n",
       "1  42031.06000000  274603.16207000 2024-01-22  41644.720000  \n",
       "2  42582.88000000  203036.61925000 2024-01-29  41778.742857  \n",
       "3  48299.99000000  262240.48357000 2024-02-05  42710.349592  \n",
       "4  49178.53000000  108182.35760000 2024-02-12  43634.375364  "
      ]
     },
     "execution_count": 7,
     "metadata": {},
     "output_type": "execute_result"
    }
   ],
   "source": [
    "df_long.tail()"
   ]
  },
  {
   "cell_type": "code",
   "execution_count": 8,
   "id": "0455bd91-aafc-4644-927d-81fb1b9edf55",
   "metadata": {},
   "outputs": [],
   "source": [
    "# Calculate 12-period EMA\n",
    "df_long['12EMA'] = df_long['Close Price'].ewm(span=12, adjust=False).mean()\n",
    "\n",
    "# Calculate 26-period EMA\n",
    "df_long['26EMA'] = df_long['Close Price'].ewm(span=26, adjust=False).mean()\n",
    "\n",
    "# Calculate MACD Line (12EMA - 26EMA)\n",
    "df_long['MACD'] = df_long['12EMA'] - df_long['26EMA']\n",
    "\n",
    "# Calculate Signal Line (9-period EMA of MACD)\n",
    "df_long['Signal'] = df_long['MACD'].ewm(span=9, adjust=False).mean()\n",
    "\n",
    "# Calculate MACD Histogram\n",
    "df_long['Histogram'] = df_long['MACD'] - df_long['Signal']"
   ]
  },
  {
   "cell_type": "code",
   "execution_count": 9,
   "id": "35f73ce3-54a3-4479-8776-bb4d4334493f",
   "metadata": {},
   "outputs": [
    {
     "data": {
      "text/html": [
       "<div>\n",
       "<style scoped>\n",
       "    .dataframe tbody tr th:only-of-type {\n",
       "        vertical-align: middle;\n",
       "    }\n",
       "\n",
       "    .dataframe tbody tr th {\n",
       "        vertical-align: top;\n",
       "    }\n",
       "\n",
       "    .dataframe thead th {\n",
       "        text-align: right;\n",
       "    }\n",
       "</style>\n",
       "<table border=\"1\" class=\"dataframe\">\n",
       "  <thead>\n",
       "    <tr style=\"text-align: right;\">\n",
       "      <th></th>\n",
       "      <th>Time</th>\n",
       "      <th>Open Price</th>\n",
       "      <th>High Price</th>\n",
       "      <th>Low Price</th>\n",
       "      <th>Close Price</th>\n",
       "      <th>Volume</th>\n",
       "      <th>dateTime</th>\n",
       "      <th>13EMA</th>\n",
       "      <th>12EMA</th>\n",
       "      <th>26EMA</th>\n",
       "      <th>MACD</th>\n",
       "      <th>Signal</th>\n",
       "      <th>Histogram</th>\n",
       "    </tr>\n",
       "  </thead>\n",
       "  <tbody>\n",
       "    <tr>\n",
       "      <th>0</th>\n",
       "      <td>1705276800000</td>\n",
       "      <td>41732.35000000</td>\n",
       "      <td>43578.01000000</td>\n",
       "      <td>40280.00000000</td>\n",
       "      <td>41580.33000000</td>\n",
       "      <td>238486.27274000</td>\n",
       "      <td>2024-01-15</td>\n",
       "      <td>41580.330000</td>\n",
       "      <td>41580.330000</td>\n",
       "      <td>41580.330000</td>\n",
       "      <td>0.000000</td>\n",
       "      <td>0.000000</td>\n",
       "      <td>0.000000</td>\n",
       "    </tr>\n",
       "    <tr>\n",
       "      <th>1</th>\n",
       "      <td>1705881600000</td>\n",
       "      <td>41580.32000000</td>\n",
       "      <td>42842.68000000</td>\n",
       "      <td>38555.00000000</td>\n",
       "      <td>42031.06000000</td>\n",
       "      <td>274603.16207000</td>\n",
       "      <td>2024-01-22</td>\n",
       "      <td>41644.720000</td>\n",
       "      <td>41649.673077</td>\n",
       "      <td>41613.717407</td>\n",
       "      <td>35.955670</td>\n",
       "      <td>7.191134</td>\n",
       "      <td>28.764536</td>\n",
       "    </tr>\n",
       "    <tr>\n",
       "      <th>2</th>\n",
       "      <td>1706486400000</td>\n",
       "      <td>42031.05000000</td>\n",
       "      <td>43882.36000000</td>\n",
       "      <td>41804.88000000</td>\n",
       "      <td>42582.88000000</td>\n",
       "      <td>203036.61925000</td>\n",
       "      <td>2024-01-29</td>\n",
       "      <td>41778.742857</td>\n",
       "      <td>41793.243373</td>\n",
       "      <td>41685.507229</td>\n",
       "      <td>107.736144</td>\n",
       "      <td>27.300136</td>\n",
       "      <td>80.436008</td>\n",
       "    </tr>\n",
       "    <tr>\n",
       "      <th>3</th>\n",
       "      <td>1707091200000</td>\n",
       "      <td>42582.88000000</td>\n",
       "      <td>48592.66000000</td>\n",
       "      <td>42258.10000000</td>\n",
       "      <td>48299.99000000</td>\n",
       "      <td>262240.48357000</td>\n",
       "      <td>2024-02-05</td>\n",
       "      <td>42710.349592</td>\n",
       "      <td>42794.281315</td>\n",
       "      <td>42175.468916</td>\n",
       "      <td>618.812400</td>\n",
       "      <td>145.602589</td>\n",
       "      <td>473.209811</td>\n",
       "    </tr>\n",
       "    <tr>\n",
       "      <th>4</th>\n",
       "      <td>1707696000000</td>\n",
       "      <td>48300.00000000</td>\n",
       "      <td>50368.61000000</td>\n",
       "      <td>47710.01000000</td>\n",
       "      <td>49178.53000000</td>\n",
       "      <td>108182.35760000</td>\n",
       "      <td>2024-02-12</td>\n",
       "      <td>43634.375364</td>\n",
       "      <td>43776.473421</td>\n",
       "      <td>42694.214181</td>\n",
       "      <td>1082.259239</td>\n",
       "      <td>332.933919</td>\n",
       "      <td>749.325321</td>\n",
       "    </tr>\n",
       "  </tbody>\n",
       "</table>\n",
       "</div>"
      ],
      "text/plain": [
       "            Time      Open Price      High Price       Low Price  \\\n",
       "0  1705276800000  41732.35000000  43578.01000000  40280.00000000   \n",
       "1  1705881600000  41580.32000000  42842.68000000  38555.00000000   \n",
       "2  1706486400000  42031.05000000  43882.36000000  41804.88000000   \n",
       "3  1707091200000  42582.88000000  48592.66000000  42258.10000000   \n",
       "4  1707696000000  48300.00000000  50368.61000000  47710.01000000   \n",
       "\n",
       "      Close Price           Volume   dateTime         13EMA         12EMA  \\\n",
       "0  41580.33000000  238486.27274000 2024-01-15  41580.330000  41580.330000   \n",
       "1  42031.06000000  274603.16207000 2024-01-22  41644.720000  41649.673077   \n",
       "2  42582.88000000  203036.61925000 2024-01-29  41778.742857  41793.243373   \n",
       "3  48299.99000000  262240.48357000 2024-02-05  42710.349592  42794.281315   \n",
       "4  49178.53000000  108182.35760000 2024-02-12  43634.375364  43776.473421   \n",
       "\n",
       "          26EMA         MACD      Signal   Histogram  \n",
       "0  41580.330000     0.000000    0.000000    0.000000  \n",
       "1  41613.717407    35.955670    7.191134   28.764536  \n",
       "2  41685.507229   107.736144   27.300136   80.436008  \n",
       "3  42175.468916   618.812400  145.602589  473.209811  \n",
       "4  42694.214181  1082.259239  332.933919  749.325321  "
      ]
     },
     "execution_count": 9,
     "metadata": {},
     "output_type": "execute_result"
    }
   ],
   "source": [
    "df_long.tail()"
   ]
  },
  {
   "cell_type": "markdown",
   "id": "1377c86b-4dd4-46a0-bfa5-41064b0df179",
   "metadata": {},
   "source": [
    "## Calculating elder impulse"
   ]
  },
  {
   "cell_type": "code",
   "execution_count": 10,
   "id": "24e369f5-c101-45a7-89cc-ad4a7cd27d9d",
   "metadata": {},
   "outputs": [
    {
     "name": "stdout",
     "output_type": "stream",
     "text": [
      "Last row EMA_13: 43634.37536443149\n",
      "Second-to-last row EMA_13: 42710.34959183674\n"
     ]
    }
   ],
   "source": [
    "last_row_13ema = df_long.iloc[-1]['13EMA']\n",
    "second_to_last_row_13ema = df_long.iloc[-2]['13EMA']\n",
    "# Print the comparison\n",
    "print(f\"Last row EMA_13: {last_row_13ema}\")\n",
    "print(f\"Second-to-last row EMA_13: {second_to_last_row_13ema}\")"
   ]
  },
  {
   "cell_type": "code",
   "execution_count": 11,
   "id": "cef72a65-307d-41eb-a4cb-add2f67cddd0",
   "metadata": {},
   "outputs": [
    {
     "data": {
      "text/plain": [
       "1"
      ]
     },
     "execution_count": 11,
     "metadata": {},
     "output_type": "execute_result"
    }
   ],
   "source": [
    "ema_comparison = 0\n",
    "\n",
    "if last_row_13ema > second_to_last_row_13ema:\n",
    "    ema_comparison = 1\n",
    "elif last_row_13ema < second_to_last_row_13ema:\n",
    "    ema_comparison = -1\n",
    "\n",
    "ema_comparison"
   ]
  },
  {
   "cell_type": "code",
   "execution_count": 12,
   "id": "97e6aee7-aabb-4168-8a35-89fe31db3183",
   "metadata": {},
   "outputs": [
    {
     "data": {
      "text/plain": [
       "1"
      ]
     },
     "execution_count": 12,
     "metadata": {},
     "output_type": "execute_result"
    }
   ],
   "source": [
    "elder_impulse = 0\n",
    "\n",
    "if ema_comparison == 1 and df_long['Histogram'].iloc[-1] > 0:\n",
    "    elder_impulse = 1\n",
    "elif ema_comparison == -1 and df_long['Histogram'].iloc[-1] < 0:\n",
    "    elder_impulse = -1\n",
    "else:\n",
    "    elder_impulse = 0\n",
    "\n",
    "elder_impulse"
   ]
  },
  {
   "cell_type": "markdown",
   "id": "19de6537-bc3a-48a9-ada9-53ba5bac5e08",
   "metadata": {},
   "source": [
    "if elder_impulse is 1, it means you can go long; \n",
    "if it is -1 , you can go short;\n",
    "if it is 0 you can do nothing"
   ]
  },
  {
   "cell_type": "markdown",
   "id": "beca2e2b-095a-4d5f-9f54-eb03fba60119",
   "metadata": {},
   "source": [
    "# Creating Medium view and ATR channels"
   ]
  },
  {
   "cell_type": "code",
   "execution_count": null,
   "id": "430bbe63-0ee2-4be3-af1c-df98fe6fbbe0",
   "metadata": {},
   "outputs": [],
   "source": [
    "df_medium = get_historical_data('BTCUSDT', 30, '1w')"
   ]
  }
 ],
 "metadata": {
  "kernelspec": {
   "display_name": "Python 3 (ipykernel)",
   "language": "python",
   "name": "python3"
  },
  "language_info": {
   "codemirror_mode": {
    "name": "ipython",
    "version": 3
   },
   "file_extension": ".py",
   "mimetype": "text/x-python",
   "name": "python",
   "nbconvert_exporter": "python",
   "pygments_lexer": "ipython3",
   "version": "3.11.5"
  }
 },
 "nbformat": 4,
 "nbformat_minor": 5
}
