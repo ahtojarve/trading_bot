{
 "cells": [
  {
   "cell_type": "markdown",
   "id": "70d60c15-63e0-461f-b40f-85fc66bd0da1",
   "metadata": {},
   "source": [
    "# SCREENER"
   ]
  },
  {
   "cell_type": "markdown",
   "id": "097c1c65",
   "metadata": {},
   "source": [
    "Importing packages"
   ]
  },
  {
   "cell_type": "code",
   "execution_count": 96,
   "id": "ca2e9cb1-fbce-4cb7-acd1-506595a40e6e",
   "metadata": {},
   "outputs": [],
   "source": [
    "\n",
    "\n",
    "# ========================\n",
    "# Data Import and Handling\n",
    "# ========================\n",
    "import pandas as pd  # For data manipulation and analysis\n",
    "import requests  # For making HTTP requests\n",
    "import os\n",
    "\n",
    "# =======================\n",
    "# Date and Time Handling\n",
    "# =======================\n",
    "from datetime import datetime, timedelta  # For working with dates and times\n",
    "\n",
    "# ==============================\n",
    "# Technical Analysis Indicators\n",
    "# ==============================\n",
    "import talib  # For technical analysis indicators\n",
    "\n",
    "# ===================\n",
    "# Plotting with Matplotlib\n",
    "# ===================\n",
    "import matplotlib.pyplot as plt  # For plotting using Matplotlib\n",
    "\n",
    "# ======================\n",
    "# Interactive Plotting\n",
    "# ======================\n",
    "import plotly.graph_objects as go  # For interactive plotting with Plotly\n",
    "import plotly.io as pio\n",
    "\n",
    "# ============================\n",
    "# Statistical Data Visualization\n",
    "# ============================\n",
    "import seaborn as sns  # For statistical data visualization\n",
    "\n",
    "# ==============================\n",
    "# Displaying HTML in IPython\n",
    "# ==============================\n",
    "from IPython.display import HTML  \n",
    "\n",
    "# ===============================\n",
    "# Financial Charting with mplfinance\n",
    "# ===============================\n",
    "import mplfinance as mpf  # For financial charting with Matplotlib\n",
    "\n",
    "# ===============================\n",
    "# Email\n",
    "# ===============================\n",
    "import smtplib, ssl\n"
   ]
  },
  {
   "cell_type": "code",
   "execution_count": 97,
   "id": "e822ba45",
   "metadata": {},
   "outputs": [],
   "source": [
    "API_URL = 'https://api.binance.com/api/v3/klines' # Binance API endpoint for candlestick data"
   ]
  },
  {
   "cell_type": "markdown",
   "id": "9047d6a5-cb4f-4e60-a2b0-aa9af9df685a",
   "metadata": {},
   "source": [
    "## Functions"
   ]
  },
  {
   "cell_type": "code",
   "execution_count": 120,
   "id": "37e522c4-cb49-49cc-8b8e-f694373eaee2",
   "metadata": {},
   "outputs": [],
   "source": [
    "# ==============================\n",
    "# RETRIEVING DATA FROM API\n",
    "# ==============================\n",
    "\n",
    "#The variable days_back represents the number of days in the past from which I intend to retrieve the data.\n",
    "#The variable symbol is a coin pair. For example if you want bitcoin historical data, the symbol to use is BTCUSDT. \n",
    "\n",
    "\n",
    "def get_historical_data(symbol, days_back, interval):\n",
    "    # Calculate the start time in milliseconds\n",
    "    start_time = int((datetime.now() - timedelta(days=days_back)).timestamp() * 1000)\n",
    "\n",
    "    # Calculate the current time in milliseconds\n",
    "    end_time = int(datetime.now().timestamp() * 1000)\n",
    "\n",
    "    # Make an API request to retrieve historical data\n",
    "    response = requests.get(API_URL, params={\n",
    "        'symbol': symbol,\n",
    "        'interval': interval,\n",
    "        'startTime': start_time,\n",
    "        'endTime': end_time,\n",
    "        'limit': 1000  # Maximum number of data points per request\n",
    "    })\n",
    "\n",
    "    # Check if the request was successful (status code 200)\n",
    "    if response.status_code == 200:\n",
    "        # API request was successful\n",
    "        hist_json = response.json()\n",
    "\n",
    "        # Making a df from response\n",
    "        # Extract only the relevant elements for each row\n",
    "        df = pd.DataFrame(hist_json, columns=[\n",
    "            'Time', 'Open Price', 'High Price', 'Low Price',\n",
    "            'Close Price', 'Volume', 'Kline Close Time', 'Quote Asset Volume',\n",
    "            'Number of Trades', 'Taker Buy Base Asset Volume',\n",
    "            'Taker Buy Quote Asset Volume', 'Unused Field'\n",
    "        ])\n",
    "\n",
    "        # Select only the relevant columns (Open Time, Open Price, High Price, Low Price, Close Price, Volume)\n",
    "        df = df[['Time', 'Open Price', 'High Price', 'Low Price', 'Close Price', 'Volume']]\n",
    "        df['dateTime'] = pd.to_datetime(df['Time'], unit='ms')\n",
    "        print(\"Retrived data for: \" + symbol)\n",
    "\n",
    "        return df\n",
    "    else:\n",
    "        # API request was not successful, print an error message\n",
    "        print(f\"Error: API request failed with status code {response.status_code}\")\n",
    "        return None\n",
    "\n",
    "# ==============================\n",
    "# TRANSFORM DATA\n",
    "# ==============================\n",
    "\n",
    "def transform_hist_data(df_name):\n",
    "    df_name['Open Price'] = pd.to_numeric(df_name['Open Price'], errors='coerce').astype(float)\n",
    "    df_name['High Price'] = pd.to_numeric(df_name['High Price'], errors='coerce').astype(float)\n",
    "    df_name['Low Price'] = pd.to_numeric(df_name['Low Price'], errors='coerce').astype(float)\n",
    "    df_name['Close Price'] = pd.to_numeric(df_name['Close Price'], errors='coerce').astype(float)\n",
    "    df_name['Volume'] = pd.to_numeric(df_name['Volume'], errors='coerce').astype(float)\n",
    "    return df_name\n",
    "\n",
    "# ==============================\n",
    "# CALCULATE EMA 12, 13 and 26\n",
    "# ==============================\n",
    "def calculate_emas(df_name):\n",
    "    df_name['13EMA'] = df_name['Close Price'].ewm(span=13, adjust=False).mean()\n",
    "    df_name['12EMA'] = df_name['Close Price'].ewm(span=12, adjust=False).mean()\n",
    "    df_name['26EMA'] = df_name['Close Price'].ewm(span=26, adjust=False).mean()\n",
    "    return df_name\n",
    "    \n",
    "# ==============================\n",
    "# CALCULATE MACD 12, 26, 9\n",
    "# ==============================\n",
    "\n",
    "def calculate_macd(df_name):\n",
    "    # Calculate MACD Line (12EMA - 26EMA)\n",
    "    df_name['MACD'] = df_name['12EMA'] - df_name['26EMA']\n",
    "\n",
    "    # Calculate Signal Line (9-period EMA of MACD)\n",
    "    df_name['Signal'] = df_name['MACD'].ewm(span=9, adjust=False).mean()\n",
    "\n",
    "    # Calculate MACD Histogram\n",
    "    df_name['Histogram'] = df_name['MACD'] - df_name['Signal']\n",
    "    return df_name\n",
    "    \n",
    "# ==============================\n",
    "# CALCULATE ELDER IMPULSE\n",
    "# ==============================\n",
    "\n",
    "def calculate_elder(df_name):\n",
    "\n",
    "    for i in range(1, len(df_name)):\n",
    "        ema_comparison = 0\n",
    "        macd_comparison = 0\n",
    "        first_row_ema = df_name.iloc[i-1]['13EMA']\n",
    "        second_row_ema = df_name.iloc[i]['13EMA']\n",
    "        if second_row_ema > first_row_ema:\n",
    "            ema_comparison = 1\n",
    "        elif second_row_ema < first_row_ema:\n",
    "            ema_comparison = -1\n",
    "        first_row_macd = df_name.iloc[i-1]['Histogram']\n",
    "        second_row_macd = df_name.iloc[i]['Histogram']\n",
    "        if second_row_macd > first_row_macd:\n",
    "            macd_comparison = 1\n",
    "        elif second_row_macd < first_row_macd:\n",
    "            macd_comparison = -1\n",
    "        if ema_comparison == 1 and macd_comparison == 1:\n",
    "              df_name.at[i, 'elder_impulse'] = 1\n",
    "        elif ema_comparison == -1 and macd_comparison == -1:\n",
    "            df_name.at[i, 'elder_impulse'] = -1\n",
    "        else:\n",
    "            df_name.at[i, 'elder_impulse'] = 0\n",
    "    return df_name\n",
    "# ==============================\n",
    "# CALCULATE ATR CHANNELS\n",
    "# ==============================\n",
    "def calculate_ATR(df_name):\n",
    "    df_name['ATR21'] = talib.ATR(df_name['High Price'], df_name['Low Price'], df_name['Close Price'], timeperiod=21)\n",
    "    df_name['21EMA'] = df_name['Close Price'].ewm(span=21, adjust=False).mean()\n",
    "    df_name['ATR+1'] = df_name['21EMA'] + df_name['ATR21'] \n",
    "    df_name['ATR+2'] = df_name['21EMA'] + 2 * df_name['ATR21'] \n",
    "    df_name['ATR+3'] = df_name['21EMA'] + 3 * df_name['ATR21'] \n",
    "    df_name['ATR-1'] = df_name['21EMA'] - df_name['ATR21'] \n",
    "    df_name['ATR-2'] = df_name['21EMA'] - 2 * df_name['ATR21'] \n",
    "    df_name['ATR-3'] = df_name['21EMA'] - 3 * df_name['ATR21'] \n",
    "    return df_name\n",
    "# ==============================\n",
    "# TOP CRYPTO TO USDT LIST\n",
    "# ==============================\n",
    "\n",
    "def get_top_cryptos_with_usdt(number = 30):\n",
    "    url = \"https://api.binance.com/api/v3/ticker/24hr\"\n",
    "    response = requests.get(url)\n",
    "\n",
    "    if response.status_code == 200:\n",
    "        data = response.json()\n",
    "        symbol_count_dict = {entry.get('symbol', None): entry.get('count', None) for entry in data if 'USDT' in entry.get('symbol', '')}\n",
    "        sorted_dict_values = dict(sorted(symbol_count_dict.items(), key=lambda item: item[1], reverse = True))\n",
    "        top_crypto_usdt = list(sorted_dict_values.keys())[:number]\n",
    "        return top_crypto_usdt\n",
    "    else:\n",
    "        print(f\"Error: {response.status_code}\")\n",
    "        return None\n",
    "\n",
    "\n",
    "# ==============================\n",
    "# DRAW ATR GRAPH\n",
    "# ==============================\n",
    "\n",
    "def draw_ATR_GRAPH(df_name):\n",
    "\n",
    "\n",
    "    # Create a candlestick trace\n",
    "    df_name['formatted_date'] = df_name['dateTime'].dt.strftime('%m-%d')\n",
    "    candlestick = go.Candlestick(x=df_name['formatted_date'],\n",
    "                                open=df_name['Open Price'],\n",
    "                                high=df_name['High Price'],\n",
    "                                low=df_name['Low Price'],\n",
    "                                close=df_name['Close Price'],\n",
    "                                name='Candlestick')\n",
    "\n",
    "    # 21 EMA trace\n",
    "    line_trace_21_EMA = go.Scatter(x=df_name['formatted_date'],\n",
    "                        y=df_name['21EMA'],\n",
    "                        mode='lines',\n",
    "                        name='21EMA',\n",
    "                        line=dict(color= 'black'))\n",
    "    # ATR +1 trace\n",
    "    line_trace_ATR_1 = go.Scatter(x=df_name['formatted_date'],\n",
    "                        y=df_name['ATR+1'],\n",
    "                        mode='lines',\n",
    "                        name='ATR+1',\n",
    "                        line=dict(color= 'green'))\n",
    "\n",
    "    # ATR +2 trace\n",
    "    line_trace_ATR_2 = go.Scatter(x=df_name['formatted_date'],\n",
    "                        y=df_name['ATR+2'],\n",
    "                        mode='lines',\n",
    "                        name='ATR+2',\n",
    "                        line=dict(color= 'orange'))\n",
    "\n",
    "\n",
    "    # ATR +3 trace\n",
    "    line_trace_ATR_3 = go.Scatter(x=df_name['formatted_date'],\n",
    "                        y=df_name['ATR+3'],\n",
    "                        mode='lines',\n",
    "                        name='ATR+3',\n",
    "                        line=dict(color= 'red'))\n",
    "\n",
    "    # ATR -1 trace\n",
    "    line_trace_ATR_neg1 = go.Scatter(x=df_name['formatted_date'],\n",
    "                        y=df_name['ATR-1'],\n",
    "                        mode='lines',\n",
    "                        name='ATR-1',\n",
    "                        line=dict(color= 'green'))\n",
    "    # ATR -2 trace\n",
    "    line_trace_ATR_neg2 = go.Scatter(x=df_name['formatted_date'],\n",
    "                        y=df_name['ATR-2'],\n",
    "                        mode='lines',\n",
    "                        name='ATR-2',\n",
    "                        line=dict(color= 'orange'))\n",
    "    # ATR -3 trace\n",
    "    line_trace_ATR_neg3 = go.Scatter(x=df_name['formatted_date'],\n",
    "                        y=df_name['ATR-3'],\n",
    "                        mode='lines',\n",
    "                        name='ATR-3',\n",
    "                        line=dict(color= 'red'))\n",
    "\n",
    "    # Create layout\n",
    "    layout = go.Layout(title='Candlestick Chart with Extra Line',\n",
    "                    xaxis=dict(type='category', categoryorder='category ascending'),\n",
    "                    yaxis=dict(title='Price'))\n",
    "\n",
    "    # Create figure\n",
    "\n",
    "    fig = go.Figure(data=[candlestick, line_trace_21_EMA, line_trace_ATR_1, line_trace_ATR_2, line_trace_ATR_3, line_trace_ATR_neg1, line_trace_ATR_neg2, line_trace_ATR_neg3], layout=layout)\n",
    "    return fig\n",
    "\n",
    "# ==============================\n",
    "# CREATE BEAR CHARTS and put them into a figures folder\n",
    "# ==============================\n",
    "\n",
    "def create_bear_charts():\n",
    "\n",
    "    # Get today's date in the format YYYY-MM-DD\n",
    "    today_date = datetime.now().strftime('%Y-%m-%d')\n",
    "\n",
    "    # Specify the folder path\n",
    "    folder_path = f'/Users/ahtojarve/Trading_bot/reports/figures/{today_date}/bear'\n",
    "\n",
    "    # Create the folder if it doesn't exist\n",
    "    if not os.path.exists(folder_path):\n",
    "        os.makedirs(folder_path)\n",
    "        print(f'Folder \"{folder_path}\" created successfully.')\n",
    "    else:\n",
    "        print(f'Folder \"{folder_path}\" already exists.')\n",
    "\n",
    "   # Create an empty DataFrame\n",
    "\n",
    "    for crypto in bear_set:\n",
    "        df_medium = get_historical_data(crypto, 60, '1d')\n",
    "        if len(df_medium) < 60:\n",
    "            print(f\"Skipping {crypto} - Insufficient historical data (less than 60 rows).\")\n",
    "            continue\n",
    "        df_medium = calculate_ATR(df_medium)\n",
    "        df_medium = transform_hist_data(df_medium)\n",
    "        fig = draw_ATR_GRAPH(df_medium)\n",
    "        chart_filename = f\"{folder_path}/{crypto}.html\"\n",
    "        pio.write_html(fig, file = chart_filename)\n",
    "\n",
    "# ==============================\n",
    "# CREATE BULL CHARTS and put them into a figures folder\n",
    "# ==============================\n",
    "\n",
    "def create_bull_charts():\n",
    "\n",
    "    # Get today's date in the format YYYY-MM-DD\n",
    "    today_date = datetime.now().strftime('%Y-%m-%d')\n",
    "\n",
    "    # Specify the folder path\n",
    "    folder_path = f'/Users/ahtojarve/Trading_bot/reports/figures/{today_date}/bull'\n",
    "\n",
    "    # Create the folder if it doesn't exist\n",
    "    if not os.path.exists(folder_path):\n",
    "        os.makedirs(folder_path)\n",
    "        print(f'Folder \"{folder_path}\" created successfully.')\n",
    "    else:\n",
    "        print(f'Folder \"{folder_path}\" already exists.')\n",
    "\n",
    "    for crypto in bull_set:\n",
    "        df_medium = get_historical_data(crypto, 60, '1d')\n",
    "        if len(df_medium) < 60:\n",
    "            print(f\"Skipping {crypto} - Insufficient historical data (less than 60 rows).\")\n",
    "            continue\n",
    "        df_medium = calculate_ATR(df_medium)\n",
    "        df_medium = transform_hist_data(df_medium)\n",
    "        fig = draw_ATR_GRAPH(df_medium)\n",
    "        chart_filename = f\"{folder_path}/{crypto}.html\"\n",
    "        pio.write_html(fig, file = chart_filename)\n"
   ]
  },
  {
   "cell_type": "markdown",
   "id": "ec1d9ae0-f482-456a-a131-82d6a7242e70",
   "metadata": {},
   "source": [
    "## Creating a table with elder impulse"
   ]
  },
  {
   "cell_type": "markdown",
   "id": "5e2aeb56-b200-42b1-ab9b-4eec9785a283",
   "metadata": {},
   "source": [
    "Elder Impulse\n",
    "https://school.stockcharts.com/doku.php?id=chart_analysis:elder_impulse_system\n",
    "MACD-histogram\n",
    "https://www.investopedia.com/ask/answers/122414/what-moving-average-convergence-divergence-macd-formula-and-how-it-calculated.asp"
   ]
  },
  {
   "cell_type": "code",
   "execution_count": 13,
   "id": "5f1f88b5-1183-418f-9a8c-a442cd8dc806",
   "metadata": {},
   "outputs": [
    {
     "name": "stdout",
     "output_type": "stream",
     "text": [
      "Retrived data for: BTCUSDT\n"
     ]
    }
   ],
   "source": [
    "df_long = get_historical_data('BTCUSDT', 360, '1w')\n",
    "df_long = transform_hist_data(df_long)\n",
    "df_long = calculate_emas(df_long)\n",
    "df_long = calculate_macd(df_long)\n",
    "df_long = calculate_elder(df_long)"
   ]
  },
  {
   "cell_type": "code",
   "execution_count": 14,
   "id": "d7c1e890-b576-4b99-9b21-a9d692cadc28",
   "metadata": {
    "scrolled": true
   },
   "outputs": [
    {
     "data": {
      "text/html": [
       "<div>\n",
       "<style scoped>\n",
       "    .dataframe tbody tr th:only-of-type {\n",
       "        vertical-align: middle;\n",
       "    }\n",
       "\n",
       "    .dataframe tbody tr th {\n",
       "        vertical-align: top;\n",
       "    }\n",
       "\n",
       "    .dataframe thead th {\n",
       "        text-align: right;\n",
       "    }\n",
       "</style>\n",
       "<table border=\"1\" class=\"dataframe\">\n",
       "  <thead>\n",
       "    <tr style=\"text-align: right;\">\n",
       "      <th></th>\n",
       "      <th>Time</th>\n",
       "      <th>Open Price</th>\n",
       "      <th>High Price</th>\n",
       "      <th>Low Price</th>\n",
       "      <th>Close Price</th>\n",
       "      <th>Volume</th>\n",
       "      <th>dateTime</th>\n",
       "      <th>13EMA</th>\n",
       "      <th>12EMA</th>\n",
       "      <th>26EMA</th>\n",
       "      <th>MACD</th>\n",
       "      <th>Signal</th>\n",
       "      <th>Histogram</th>\n",
       "      <th>elder_impulse</th>\n",
       "    </tr>\n",
       "  </thead>\n",
       "  <tbody>\n",
       "    <tr>\n",
       "      <th>42</th>\n",
       "      <td>1704067200000</td>\n",
       "      <td>42283.58</td>\n",
       "      <td>45879.63</td>\n",
       "      <td>40750.00</td>\n",
       "      <td>43929.02</td>\n",
       "      <td>310487.48622</td>\n",
       "      <td>2024-01-01</td>\n",
       "      <td>38590.195710</td>\n",
       "      <td>38995.953657</td>\n",
       "      <td>35008.801205</td>\n",
       "      <td>3987.152452</td>\n",
       "      <td>2903.195983</td>\n",
       "      <td>1083.956469</td>\n",
       "      <td>0.0</td>\n",
       "    </tr>\n",
       "    <tr>\n",
       "      <th>43</th>\n",
       "      <td>1704672000000</td>\n",
       "      <td>43929.01</td>\n",
       "      <td>48969.48</td>\n",
       "      <td>41500.00</td>\n",
       "      <td>41732.35</td>\n",
       "      <td>470798.80434</td>\n",
       "      <td>2024-01-08</td>\n",
       "      <td>39039.074894</td>\n",
       "      <td>39416.937710</td>\n",
       "      <td>35506.841857</td>\n",
       "      <td>3910.095853</td>\n",
       "      <td>3104.575957</td>\n",
       "      <td>805.519896</td>\n",
       "      <td>0.0</td>\n",
       "    </tr>\n",
       "    <tr>\n",
       "      <th>44</th>\n",
       "      <td>1705276800000</td>\n",
       "      <td>41732.35</td>\n",
       "      <td>43578.01</td>\n",
       "      <td>40280.00</td>\n",
       "      <td>41580.33</td>\n",
       "      <td>238486.27274</td>\n",
       "      <td>2024-01-15</td>\n",
       "      <td>39402.111338</td>\n",
       "      <td>39749.767293</td>\n",
       "      <td>35956.729867</td>\n",
       "      <td>3793.037426</td>\n",
       "      <td>3242.268250</td>\n",
       "      <td>550.769175</td>\n",
       "      <td>0.0</td>\n",
       "    </tr>\n",
       "    <tr>\n",
       "      <th>45</th>\n",
       "      <td>1705881600000</td>\n",
       "      <td>41580.32</td>\n",
       "      <td>42842.68</td>\n",
       "      <td>38555.00</td>\n",
       "      <td>42031.06</td>\n",
       "      <td>274603.16207</td>\n",
       "      <td>2024-01-22</td>\n",
       "      <td>39777.675432</td>\n",
       "      <td>40100.735402</td>\n",
       "      <td>36406.680247</td>\n",
       "      <td>3694.055154</td>\n",
       "      <td>3332.625631</td>\n",
       "      <td>361.429523</td>\n",
       "      <td>0.0</td>\n",
       "    </tr>\n",
       "    <tr>\n",
       "      <th>46</th>\n",
       "      <td>1706486400000</td>\n",
       "      <td>42031.05</td>\n",
       "      <td>43882.36</td>\n",
       "      <td>41804.88</td>\n",
       "      <td>42582.88</td>\n",
       "      <td>203036.61925</td>\n",
       "      <td>2024-01-29</td>\n",
       "      <td>40178.418942</td>\n",
       "      <td>40482.603801</td>\n",
       "      <td>36864.176525</td>\n",
       "      <td>3618.427276</td>\n",
       "      <td>3389.785960</td>\n",
       "      <td>228.641316</td>\n",
       "      <td>0.0</td>\n",
       "    </tr>\n",
       "    <tr>\n",
       "      <th>47</th>\n",
       "      <td>1707091200000</td>\n",
       "      <td>42582.88</td>\n",
       "      <td>48592.66</td>\n",
       "      <td>42258.10</td>\n",
       "      <td>48299.99</td>\n",
       "      <td>262240.48357</td>\n",
       "      <td>2024-02-05</td>\n",
       "      <td>41338.643379</td>\n",
       "      <td>41685.278601</td>\n",
       "      <td>37711.273820</td>\n",
       "      <td>3974.004781</td>\n",
       "      <td>3506.629724</td>\n",
       "      <td>467.375057</td>\n",
       "      <td>1.0</td>\n",
       "    </tr>\n",
       "    <tr>\n",
       "      <th>48</th>\n",
       "      <td>1707696000000</td>\n",
       "      <td>48300.00</td>\n",
       "      <td>52816.62</td>\n",
       "      <td>47710.01</td>\n",
       "      <td>52137.67</td>\n",
       "      <td>310862.30170</td>\n",
       "      <td>2024-02-12</td>\n",
       "      <td>42881.361468</td>\n",
       "      <td>43293.338816</td>\n",
       "      <td>38779.895759</td>\n",
       "      <td>4513.443057</td>\n",
       "      <td>3707.992391</td>\n",
       "      <td>805.450666</td>\n",
       "      <td>1.0</td>\n",
       "    </tr>\n",
       "    <tr>\n",
       "      <th>49</th>\n",
       "      <td>1708300800000</td>\n",
       "      <td>52137.68</td>\n",
       "      <td>52985.00</td>\n",
       "      <td>50521.00</td>\n",
       "      <td>51728.85</td>\n",
       "      <td>223366.16186</td>\n",
       "      <td>2024-02-19</td>\n",
       "      <td>44145.288401</td>\n",
       "      <td>44591.109768</td>\n",
       "      <td>39739.077555</td>\n",
       "      <td>4852.032213</td>\n",
       "      <td>3936.800355</td>\n",
       "      <td>915.231858</td>\n",
       "      <td>1.0</td>\n",
       "    </tr>\n",
       "    <tr>\n",
       "      <th>50</th>\n",
       "      <td>1708905600000</td>\n",
       "      <td>51728.85</td>\n",
       "      <td>64000.00</td>\n",
       "      <td>50901.44</td>\n",
       "      <td>63113.97</td>\n",
       "      <td>417907.83383</td>\n",
       "      <td>2024-02-26</td>\n",
       "      <td>46855.100058</td>\n",
       "      <td>47440.780573</td>\n",
       "      <td>41470.551069</td>\n",
       "      <td>5970.229504</td>\n",
       "      <td>4343.486185</td>\n",
       "      <td>1626.743319</td>\n",
       "      <td>1.0</td>\n",
       "    </tr>\n",
       "    <tr>\n",
       "      <th>51</th>\n",
       "      <td>1709510400000</td>\n",
       "      <td>63113.97</td>\n",
       "      <td>67524.99</td>\n",
       "      <td>62300.00</td>\n",
       "      <td>67335.70</td>\n",
       "      <td>69899.23920</td>\n",
       "      <td>2024-03-04</td>\n",
       "      <td>49780.900050</td>\n",
       "      <td>50501.537408</td>\n",
       "      <td>43386.488027</td>\n",
       "      <td>7115.049381</td>\n",
       "      <td>4897.798824</td>\n",
       "      <td>2217.250557</td>\n",
       "      <td>1.0</td>\n",
       "    </tr>\n",
       "  </tbody>\n",
       "</table>\n",
       "</div>"
      ],
      "text/plain": [
       "             Time  Open Price  High Price  Low Price  Close Price  \\\n",
       "42  1704067200000    42283.58    45879.63   40750.00     43929.02   \n",
       "43  1704672000000    43929.01    48969.48   41500.00     41732.35   \n",
       "44  1705276800000    41732.35    43578.01   40280.00     41580.33   \n",
       "45  1705881600000    41580.32    42842.68   38555.00     42031.06   \n",
       "46  1706486400000    42031.05    43882.36   41804.88     42582.88   \n",
       "47  1707091200000    42582.88    48592.66   42258.10     48299.99   \n",
       "48  1707696000000    48300.00    52816.62   47710.01     52137.67   \n",
       "49  1708300800000    52137.68    52985.00   50521.00     51728.85   \n",
       "50  1708905600000    51728.85    64000.00   50901.44     63113.97   \n",
       "51  1709510400000    63113.97    67524.99   62300.00     67335.70   \n",
       "\n",
       "          Volume   dateTime         13EMA         12EMA         26EMA  \\\n",
       "42  310487.48622 2024-01-01  38590.195710  38995.953657  35008.801205   \n",
       "43  470798.80434 2024-01-08  39039.074894  39416.937710  35506.841857   \n",
       "44  238486.27274 2024-01-15  39402.111338  39749.767293  35956.729867   \n",
       "45  274603.16207 2024-01-22  39777.675432  40100.735402  36406.680247   \n",
       "46  203036.61925 2024-01-29  40178.418942  40482.603801  36864.176525   \n",
       "47  262240.48357 2024-02-05  41338.643379  41685.278601  37711.273820   \n",
       "48  310862.30170 2024-02-12  42881.361468  43293.338816  38779.895759   \n",
       "49  223366.16186 2024-02-19  44145.288401  44591.109768  39739.077555   \n",
       "50  417907.83383 2024-02-26  46855.100058  47440.780573  41470.551069   \n",
       "51   69899.23920 2024-03-04  49780.900050  50501.537408  43386.488027   \n",
       "\n",
       "           MACD       Signal    Histogram  elder_impulse  \n",
       "42  3987.152452  2903.195983  1083.956469            0.0  \n",
       "43  3910.095853  3104.575957   805.519896            0.0  \n",
       "44  3793.037426  3242.268250   550.769175            0.0  \n",
       "45  3694.055154  3332.625631   361.429523            0.0  \n",
       "46  3618.427276  3389.785960   228.641316            0.0  \n",
       "47  3974.004781  3506.629724   467.375057            1.0  \n",
       "48  4513.443057  3707.992391   805.450666            1.0  \n",
       "49  4852.032213  3936.800355   915.231858            1.0  \n",
       "50  5970.229504  4343.486185  1626.743319            1.0  \n",
       "51  7115.049381  4897.798824  2217.250557            1.0  "
      ]
     },
     "execution_count": 14,
     "metadata": {},
     "output_type": "execute_result"
    }
   ],
   "source": [
    "df_long.tail(10)"
   ]
  },
  {
   "cell_type": "markdown",
   "id": "19de6537-bc3a-48a9-ada9-53ba5bac5e08",
   "metadata": {},
   "source": [
    "if elder_impulse is 1, it means you can go long; \n",
    "if it is -1 , you can go short;\n",
    "if it is 0 you can do both. \n",
    "It is best to go long if impulse is 1 or 0 after -1. (This should be considered good metricks for stock screening)"
   ]
  },
  {
   "cell_type": "markdown",
   "id": "985816ae-69d5-4390-b1e2-7cdf2b53fa61",
   "metadata": {},
   "source": [
    "# SCREENER"
   ]
  },
  {
   "cell_type": "markdown",
   "id": "49c60102-e9e3-408d-8802-56e9e11ddd46",
   "metadata": {},
   "source": [
    "- Leian top krüptod\n",
    "- Laen iga krüpto kohta alla pika vaate\n",
    "- Teen EMA ja MACD arvutused\n",
    "- Teen Elder Impulse arvutused\n",
    "- Värviliselt näitan ainult neid, kus peale punast tuleb roheline või sinine või siis peale rohelist tuleb sinine või punane\n"
   ]
  },
  {
   "cell_type": "markdown",
   "id": "d6f92c70",
   "metadata": {},
   "source": [
    "## Leian top krüptod"
   ]
  },
  {
   "cell_type": "code",
   "execution_count": 99,
   "id": "070df240-9838-4290-b925-618950a059fe",
   "metadata": {
    "scrolled": true
   },
   "outputs": [
    {
     "name": "stdout",
     "output_type": "stream",
     "text": [
      "Retrived data for: BTCUSDT\n",
      "BTCUSDT is not acceptable\n",
      "Retrived data for: FDUSDUSDT\n"
     ]
    },
    {
     "data": {
      "text/html": [
       "<span style='color:#00cc00'>Added FDUSDUSDT to bull_set</span>"
      ],
      "text/plain": [
       "<IPython.core.display.HTML object>"
      ]
     },
     "metadata": {},
     "output_type": "display_data"
    },
    {
     "name": "stdout",
     "output_type": "stream",
     "text": [
      "Retrived data for: SHIBUSDT\n",
      "SHIBUSDT is not acceptable\n",
      "Retrived data for: SOLUSDT\n",
      "SOLUSDT is not acceptable\n",
      "Retrived data for: FETUSDT\n",
      "FETUSDT is not acceptable\n",
      "Retrived data for: ETHUSDT\n",
      "ETHUSDT is not acceptable\n",
      "Retrived data for: PEPEUSDT\n",
      "PEPEUSDT is not acceptable\n",
      "Retrived data for: AGIXUSDT\n",
      "AGIXUSDT is not acceptable\n",
      "Retrived data for: RNDRUSDT\n",
      "RNDRUSDT is not acceptable\n",
      "Retrived data for: DOGEUSDT\n",
      "DOGEUSDT is not acceptable\n",
      "Retrived data for: FLOKIUSDT\n",
      "FLOKIUSDT is not acceptable\n",
      "Retrived data for: NEARUSDT\n",
      "NEARUSDT is not acceptable\n",
      "Retrived data for: NFPUSDT\n",
      "NFPUSDT is not acceptable\n",
      "Retrived data for: ANKRUSDT\n",
      "ANKRUSDT is not acceptable\n",
      "Retrived data for: PHBUSDT\n",
      "PHBUSDT is not acceptable\n",
      "Retrived data for: FTMUSDT\n",
      "FTMUSDT is not acceptable\n",
      "Retrived data for: BONKUSDT\n",
      "BONKUSDT is not acceptable\n",
      "Retrived data for: AIUSDT\n",
      "AIUSDT is not acceptable\n",
      "Retrived data for: WLDUSDT\n"
     ]
    },
    {
     "data": {
      "text/html": [
       "<span style='color:#ff6666'>Added WLDUSDT to bear_set</span>"
      ],
      "text/plain": [
       "<IPython.core.display.HTML object>"
      ]
     },
     "metadata": {},
     "output_type": "display_data"
    },
    {
     "name": "stdout",
     "output_type": "stream",
     "text": [
      "Retrived data for: RSRUSDT\n",
      "RSRUSDT is not acceptable\n",
      "Retrived data for: MDTUSDT\n",
      "MDTUSDT is not acceptable\n",
      "Retrived data for: JUPUSDT\n",
      "JUPUSDT is not acceptable\n",
      "Retrived data for: LUNAUSDT\n",
      "LUNAUSDT is not acceptable\n",
      "Retrived data for: LUNCUSDT\n",
      "LUNCUSDT is not acceptable\n",
      "Retrived data for: BNBUSDT\n",
      "BNBUSDT is not acceptable\n",
      "Retrived data for: XAIUSDT\n",
      "XAIUSDT is not acceptable\n",
      "Retrived data for: MANTAUSDT\n",
      "MANTAUSDT is not acceptable\n",
      "Retrived data for: SEIUSDT\n",
      "SEIUSDT is not acceptable\n",
      "Retrived data for: ARUSDT\n",
      "ARUSDT is not acceptable\n",
      "Retrived data for: ORDIUSDT\n"
     ]
    },
    {
     "data": {
      "text/html": [
       "<span style='color:#ff6666'>Added ORDIUSDT to bear_set</span>"
      ],
      "text/plain": [
       "<IPython.core.display.HTML object>"
      ]
     },
     "metadata": {},
     "output_type": "display_data"
    },
    {
     "name": "stdout",
     "output_type": "stream",
     "text": [
      "Retrived data for: XRPUSDT\n",
      "XRPUSDT is not acceptable\n",
      "Retrived data for: OCEANUSDT\n",
      "OCEANUSDT is not acceptable\n",
      "Retrived data for: WIFUSDT\n",
      "WIFUSDT is not acceptable\n",
      "Retrived data for: PIXELUSDT\n"
     ]
    },
    {
     "data": {
      "text/html": [
       "<span style='color:#00cc00'>Added PIXELUSDT to bull_set</span>"
      ],
      "text/plain": [
       "<IPython.core.display.HTML object>"
      ]
     },
     "metadata": {},
     "output_type": "display_data"
    },
    {
     "name": "stdout",
     "output_type": "stream",
     "text": [
      "Retrived data for: ALTUSDT\n",
      "ALTUSDT is not acceptable\n",
      "Retrived data for: MATICUSDT\n",
      "MATICUSDT is not acceptable\n",
      "Retrived data for: FILUSDT\n",
      "FILUSDT is not acceptable\n",
      "Retrived data for: APTUSDT\n",
      "APTUSDT is not acceptable\n",
      "Retrived data for: ARBUSDT\n",
      "ARBUSDT is not acceptable\n",
      "Retrived data for: ARKMUSDT\n",
      "ARKMUSDT is not acceptable\n",
      "Retrived data for: MEMEUSDT\n",
      "MEMEUSDT is not acceptable\n",
      "Retrived data for: JASMYUSDT\n",
      "JASMYUSDT is not acceptable\n",
      "Retrived data for: GRTUSDT\n",
      "GRTUSDT is not acceptable\n",
      "Retrived data for: SUIUSDT\n",
      "SUIUSDT is not acceptable\n",
      "Retrived data for: 1000SATSUSDT\n",
      "1000SATSUSDT is not acceptable\n",
      "Retrived data for: GTCUSDT\n",
      "GTCUSDT is not acceptable\n",
      "Retrived data for: INJUSDT\n",
      "INJUSDT is not acceptable\n",
      "Retrived data for: RUNEUSDT\n",
      "RUNEUSDT is not acceptable\n",
      "Retrived data for: FIDAUSDT\n",
      "FIDAUSDT is not acceptable\n",
      "Retrived data for: JTOUSDT\n",
      "JTOUSDT is not acceptable\n",
      "Retrived data for: ATOMUSDT\n",
      "ATOMUSDT is not acceptable\n",
      "Retrived data for: DOTUSDT\n",
      "DOTUSDT is not acceptable\n",
      "Retrived data for: ADAUSDT\n",
      "ADAUSDT is not acceptable\n",
      "Retrived data for: USDCUSDT\n",
      "USDCUSDT is not acceptable\n",
      "Retrived data for: STRKUSDT\n"
     ]
    },
    {
     "data": {
      "text/html": [
       "<span style='color:#00cc00'>Added STRKUSDT to bull_set</span>"
      ],
      "text/plain": [
       "<IPython.core.display.HTML object>"
      ]
     },
     "metadata": {},
     "output_type": "display_data"
    },
    {
     "name": "stdout",
     "output_type": "stream",
     "text": [
      "Retrived data for: USDTTRY\n",
      "USDTTRY is not acceptable\n",
      "Retrived data for: RAYUSDT\n",
      "RAYUSDT is not acceptable\n",
      "Retrived data for: IDUSDT\n",
      "IDUSDT is not acceptable\n",
      "Retrived data for: AVAXUSDT\n",
      "AVAXUSDT is not acceptable\n",
      "Retrived data for: LPTUSDT\n",
      "LPTUSDT is not acceptable\n",
      "Retrived data for: FISUSDT\n",
      "FISUSDT is not acceptable\n",
      "Retrived data for: LINKUSDT\n"
     ]
    },
    {
     "data": {
      "text/html": [
       "<span style='color:#ff6666'>Added LINKUSDT to bear_set</span>"
      ],
      "text/plain": [
       "<IPython.core.display.HTML object>"
      ]
     },
     "metadata": {},
     "output_type": "display_data"
    },
    {
     "name": "stdout",
     "output_type": "stream",
     "text": [
      "Retrived data for: DEXEUSDT\n",
      "DEXEUSDT is not acceptable\n",
      "Retrived data for: ICPUSDT\n",
      "ICPUSDT is not acceptable\n",
      "Retrived data for: ZRXUSDT\n",
      "ZRXUSDT is not acceptable\n",
      "Retrived data for: OPUSDT\n",
      "OPUSDT is not acceptable\n",
      "Retrived data for: MTLUSDT\n",
      "MTLUSDT is not acceptable\n",
      "Retrived data for: THETAUSDT\n",
      "THETAUSDT is not acceptable\n",
      "Retrived data for: MOVRUSDT\n",
      "MOVRUSDT is not acceptable\n",
      "Retrived data for: UNIUSDT\n",
      "UNIUSDT is not acceptable\n",
      "Retrived data for: FTTUSDT\n",
      "FTTUSDT is not acceptable\n",
      "Retrived data for: ALGOUSDT\n",
      "ALGOUSDT is not acceptable\n",
      "Retrived data for: GALAUSDT\n",
      "GALAUSDT is not acceptable\n",
      "Retrived data for: CFXUSDT\n",
      "CFXUSDT is not acceptable\n",
      "Retrived data for: ROSEUSDT\n",
      "ROSEUSDT is not acceptable\n",
      "Retrived data for: BEAMXUSDT\n",
      "BEAMXUSDT is not acceptable\n",
      "Retrived data for: SUPERUSDT\n",
      "SUPERUSDT is not acceptable\n",
      "Retrived data for: COTIUSDT\n",
      "COTIUSDT is not acceptable\n",
      "Retrived data for: CKBUSDT\n",
      "CKBUSDT is not acceptable\n",
      "Retrived data for: ONEUSDT\n",
      "ONEUSDT is not acceptable\n",
      "Retrived data for: AAVEUSDT\n",
      "AAVEUSDT is not acceptable\n",
      "Retrived data for: LTCUSDT\n",
      "LTCUSDT is not acceptable\n",
      "Retrived data for: IMXUSDT\n"
     ]
    },
    {
     "data": {
      "text/html": [
       "<span style='color:#ff6666'>Added IMXUSDT to bear_set</span>"
      ],
      "text/plain": [
       "<IPython.core.display.HTML object>"
      ]
     },
     "metadata": {},
     "output_type": "display_data"
    },
    {
     "name": "stdout",
     "output_type": "stream",
     "text": [
      "Retrived data for: DYDXUSDT\n",
      "DYDXUSDT is not acceptable\n",
      "Retrived data for: PROMUSDT\n",
      "PROMUSDT is not acceptable\n",
      "Retrived data for: KEYUSDT\n",
      "KEYUSDT is not acceptable\n",
      "Retrived data for: SANDUSDT\n",
      "SANDUSDT is not acceptable\n",
      "Retrived data for: SPELLUSDT\n",
      "SPELLUSDT is not acceptable\n",
      "Retrived data for: ACHUSDT\n",
      "ACHUSDT is not acceptable\n",
      "Retrived data for: CRVUSDT\n",
      "CRVUSDT is not acceptable\n",
      "Retrived data for: FLOWUSDT\n",
      "FLOWUSDT is not acceptable\n",
      "Retrived data for: CYBERUSDT\n",
      "CYBERUSDT is not acceptable\n",
      "Retrived data for: BCHUSDT\n",
      "BCHUSDT is not acceptable\n",
      "Retrived data for: ORNUSDT\n",
      "ORNUSDT is not acceptable\n",
      "Retrived data for: HOTUSDT\n",
      "HOTUSDT is not acceptable\n",
      "Retrived data for: DYMUSDT\n"
     ]
    },
    {
     "data": {
      "text/html": [
       "<span style='color:#00cc00'>Added DYMUSDT to bull_set</span>"
      ],
      "text/plain": [
       "<IPython.core.display.HTML object>"
      ]
     },
     "metadata": {},
     "output_type": "display_data"
    },
    {
     "name": "stdout",
     "output_type": "stream",
     "text": [
      "Retrived data for: TIAUSDT\n",
      "TIAUSDT is not acceptable\n",
      "Retrived data for: HBARUSDT\n",
      "HBARUSDT is not acceptable\n",
      "Retrived data for: CHESSUSDT\n",
      "CHESSUSDT is not acceptable\n",
      "Retrived data for: CELOUSDT\n",
      "CELOUSDT is not acceptable\n"
     ]
    }
   ],
   "source": [
    "\n",
    "\n",
    "# Define colors\n",
    "green_color = \"#00cc00\"\n",
    "red_color = \"#ff6666\"\n",
    "\n",
    "bull_set = set() #Creating a set for all bulls\n",
    "bear_set = set() #Creating a set for all bears\n",
    "\n",
    "top_cryptos_usdt = get_top_cryptos_with_usdt(100)\n",
    "\n",
    "for crypto in top_cryptos_usdt:\n",
    "    #Teen arvutused ja panen tabelisse\n",
    "    df = get_historical_data(crypto, 360, '1w')\n",
    "    df = transform_hist_data(df)\n",
    "    df = calculate_emas(df)\n",
    "    df = calculate_macd(df)\n",
    "    df = calculate_elder(df)\n",
    "    #Kui elder on roheline või sinine peale punast, siis on pull\n",
    "    if len(df) >=2:\n",
    "\n",
    "        if df.iloc[-2]['elder_impulse'] == -1 and (df.iloc[-1]['elder_impulse'] == 0 or df.iloc[-1]['elder_impulse'] == 1):\n",
    "            bull_set.add(crypto)\n",
    "            display(HTML(f\"<span style='color:{green_color}'>Added {crypto} to bull_set</span>\"))\n",
    "        #Kui elder on punane või sinine peale rohelist, siis on karu\n",
    "        elif df.iloc[-2]['elder_impulse'] == 1 and (df.iloc[-1]['elder_impulse'] == 0 or df.iloc[-1]['elder_impulse'] == -1):\n",
    "            bear_set.add(crypto)\n",
    "            display(HTML(f\"<span style='color:{red_color}'>Added {crypto} to bear_set</span>\"))\n",
    "        else:\n",
    "            print(crypto + \" is not acceptable\")\n",
    "    else:\n",
    "        print(crypto + \" is not acceptable\")\n",
    "    time.sleep(0.1)\n",
    "    \n",
    "    \n",
    "    "
   ]
  },
  {
   "cell_type": "markdown",
   "id": "beca2e2b-095a-4d5f-9f54-eb03fba60119",
   "metadata": {},
   "source": [
    "## Creating Medium view and ATR channels"
   ]
  },
  {
   "cell_type": "code",
   "execution_count": 113,
   "id": "430bbe63-0ee2-4be3-af1c-df98fe6fbbe0",
   "metadata": {},
   "outputs": [
    {
     "name": "stdout",
     "output_type": "stream",
     "text": [
      "Retrived data for: BTCUSDT\n"
     ]
    }
   ],
   "source": [
    "df_medium = get_historical_data('BTCUSDT', 60, '1d')\n",
    "df_medium = calculate_ATR(df_medium)\n",
    "df_medium = transform_hist_data(df_medium)"
   ]
  },
  {
   "cell_type": "code",
   "execution_count": 52,
   "id": "fa31700d",
   "metadata": {},
   "outputs": [
    {
     "data": {
      "application/vnd.plotly.v1+json": {
       "config": {
        "plotlyServerURL": "https://plot.ly"
       },
       "data": [
        {
         "close": [
          44145.11,
          43968.32,
          43929.02,
          46951.04,
          46110,
          46653.99,
          46339.16,
          42782.73,
          42847.99,
          41732.35,
          42511.1,
          43137.95,
          42776.1,
          41327.5,
          41659.03,
          41696.04,
          41580.33,
          39568.02,
          39897.6,
          40084.88,
          39961.09,
          41823.51,
          42120.63,
          42031.06,
          43302.7,
          42941.1,
          42580,
          43082.94,
          43200,
          43011.09,
          42582.88,
          42708.7,
          43098.95,
          44349.6,
          45288.65,
          47132.77,
          47751.09,
          48299.99,
          49917.27,
          49699.59,
          51795.17,
          51880,
          52124.11,
          51642.64,
          52137.67,
          51774.73,
          52258.82,
          51849.39,
          51288.42,
          50744.15,
          51568.22,
          51728.85,
          54476.47,
          57037.34,
          62432.1,
          61130.98,
          62387.9,
          61987.28,
          63113.97,
          67386.87
         ],
         "high": [
          44357.46,
          44214.42,
          44480.59,
          47248.99,
          47972,
          47695.93,
          48969.48,
          46515.53,
          43257,
          43079,
          43400.43,
          43578.01,
          43198,
          42930,
          42196.86,
          41872.56,
          41881.39,
          41689.65,
          40176.74,
          40555,
          40300.24,
          42246.82,
          42200,
          42842.68,
          43333,
          43882.36,
          43745.11,
          43285.13,
          43488,
          43380.01,
          43119.04,
          43569.76,
          43399.98,
          44396.5,
          45614.3,
          48200,
          48170,
          48592.66,
          50334.82,
          50368.61,
          52043.71,
          52816.62,
          52572.08,
          52162.82,
          52377,
          52488.77,
          52985,
          52366.8,
          52065.78,
          51548.54,
          51698,
          51958.55,
          54910,
          57588.15,
          64000,
          63676.35,
          63114.23,
          62433.19,
          63231.88,
          67524.99
         ],
         "low": [
          42450,
          43397.05,
          43572.09,
          43175,
          44748.67,
          44300.36,
          45606.06,
          41500,
          42436.12,
          41720,
          41718.05,
          42050,
          42200.69,
          40683.28,
          40280,
          41456.3,
          41500.98,
          39431.58,
          38555,
          39484.19,
          39550,
          39822.52,
          41394.34,
          41620.81,
          41804.88,
          42683.99,
          42276.84,
          41884.28,
          42546.79,
          42880,
          42222,
          42258.1,
          42574,
          42788,
          44331.1,
          45242.12,
          46800,
          47557.16,
          47710.01,
          48300.95,
          49225.01,
          51314,
          51566,
          50625,
          51163.28,
          51677,
          50760.37,
          50625,
          50940.78,
          50521,
          50585,
          51279.8,
          50901.44,
          54450.13,
          56691.85,
          60364.7,
          60777,
          61561.12,
          61320,
          62300
         ],
         "name": "Candlestick",
         "open": [
          44151.1,
          44145.12,
          43968.32,
          43929.01,
          46951.04,
          46110,
          46654,
          46339.16,
          42782.74,
          42847.99,
          41732.35,
          42511.1,
          43137.94,
          42776.09,
          41327.51,
          41659.03,
          41696.05,
          41580.32,
          39568.02,
          39897.59,
          40084.89,
          39961.09,
          41823.51,
          42120.63,
          42031.05,
          43302.71,
          42941.1,
          42580,
          43082.95,
          43199.99,
          43011.1,
          42582.88,
          42708.7,
          43098.96,
          44349.6,
          45288.66,
          47132.78,
          47751.08,
          48300,
          49917.28,
          49699.6,
          51795.17,
          51880.01,
          52124.1,
          51642.64,
          52137.68,
          51774.74,
          52258.82,
          51849.38,
          51288.42,
          50744.15,
          51568.21,
          51728.85,
          54476.48,
          57037.35,
          62432.11,
          61130.99,
          62387.9,
          61987.28,
          63113.97
         ],
         "type": "candlestick",
         "x": [
          "01-05",
          "01-06",
          "01-07",
          "01-08",
          "01-09",
          "01-10",
          "01-11",
          "01-12",
          "01-13",
          "01-14",
          "01-15",
          "01-16",
          "01-17",
          "01-18",
          "01-19",
          "01-20",
          "01-21",
          "01-22",
          "01-23",
          "01-24",
          "01-25",
          "01-26",
          "01-27",
          "01-28",
          "01-29",
          "01-30",
          "01-31",
          "02-01",
          "02-02",
          "02-03",
          "02-04",
          "02-05",
          "02-06",
          "02-07",
          "02-08",
          "02-09",
          "02-10",
          "02-11",
          "02-12",
          "02-13",
          "02-14",
          "02-15",
          "02-16",
          "02-17",
          "02-18",
          "02-19",
          "02-20",
          "02-21",
          "02-22",
          "02-23",
          "02-24",
          "02-25",
          "02-26",
          "02-27",
          "02-28",
          "02-29",
          "03-01",
          "03-02",
          "03-03",
          "03-04"
         ]
        },
        {
         "line": {
          "color": "black"
         },
         "mode": "lines",
         "name": "21EMA",
         "type": "scatter",
         "x": [
          "01-05",
          "01-06",
          "01-07",
          "01-08",
          "01-09",
          "01-10",
          "01-11",
          "01-12",
          "01-13",
          "01-14",
          "01-15",
          "01-16",
          "01-17",
          "01-18",
          "01-19",
          "01-20",
          "01-21",
          "01-22",
          "01-23",
          "01-24",
          "01-25",
          "01-26",
          "01-27",
          "01-28",
          "01-29",
          "01-30",
          "01-31",
          "02-01",
          "02-02",
          "02-03",
          "02-04",
          "02-05",
          "02-06",
          "02-07",
          "02-08",
          "02-09",
          "02-10",
          "02-11",
          "02-12",
          "02-13",
          "02-14",
          "02-15",
          "02-16",
          "02-17",
          "02-18",
          "02-19",
          "02-20",
          "02-21",
          "02-22",
          "02-23",
          "02-24",
          "02-25",
          "02-26",
          "02-27",
          "02-28",
          "02-29",
          "03-01",
          "03-02",
          "03-03",
          "03-04"
         ],
         "y": [
          44145.11,
          44129.038181818185,
          44110.8547107438,
          44369.053373403454,
          44527.32124854859,
          44720.65477140781,
          44867.79161037074,
          44678.24055488249,
          44511.854140802265,
          44259.17194618387,
          44100.25631471261,
          44012.77392246601,
          43900.349020423644,
          43666.453654930585,
          43483.96059539144,
          43321.42235944676,
          43163.14123586069,
          42836.312032600625,
          42569.15639327329,
          42343.3130847939,
          42126.747349812635,
          42099.18031801149,
          42101.13028910135,
          42094.76026281941,
          42204.57296619946,
          42271.52996927224,
          42299.572699338394,
          42370.78790848945,
          42446.1708258995,
          42497.52711445409,
          42505.28646768553,
          42523.778606986845,
          42576.066915442585,
          42737.297195856896,
          42969.23835986991,
          43347.74123624537,
          43748.045669313964,
          44161.85879028542,
          44685.07799116857,
          45140.94271924415,
          45745.87247204014,
          46303.5204291274,
          46832.66493557036,
          47269.93539597306,
          47712.456723611875,
          48081.754294192615,
          48461.487540175105,
          48769.47867288646,
          48998.473338987686,
          49157.17121726153,
          49376.35747023775,
          49590.220427488865,
          50034.42493408079,
          50671.05357643708,
          51740.239614942795,
          52593.94328631163,
          53484.302987556024,
          54257.30089777821,
          55062.45263434383,
          56182.85421303984
         ]
        },
        {
         "line": {
          "color": "green"
         },
         "mode": "lines",
         "name": "ATR+1",
         "type": "scatter",
         "x": [
          "01-05",
          "01-06",
          "01-07",
          "01-08",
          "01-09",
          "01-10",
          "01-11",
          "01-12",
          "01-13",
          "01-14",
          "01-15",
          "01-16",
          "01-17",
          "01-18",
          "01-19",
          "01-20",
          "01-21",
          "01-22",
          "01-23",
          "01-24",
          "01-25",
          "01-26",
          "01-27",
          "01-28",
          "01-29",
          "01-30",
          "01-31",
          "02-01",
          "02-02",
          "02-03",
          "02-04",
          "02-05",
          "02-06",
          "02-07",
          "02-08",
          "02-09",
          "02-10",
          "02-11",
          "02-12",
          "02-13",
          "02-14",
          "02-15",
          "02-16",
          "02-17",
          "02-18",
          "02-19",
          "02-20",
          "02-21",
          "02-22",
          "02-23",
          "02-24",
          "02-25",
          "02-26",
          "02-27",
          "02-28",
          "02-29",
          "03-01",
          "03-02",
          "03-03",
          "03-04"
         ],
         "y": [
          null,
          null,
          null,
          null,
          null,
          null,
          null,
          null,
          null,
          null,
          null,
          null,
          null,
          null,
          null,
          null,
          null,
          null,
          null,
          null,
          null,
          44016.832698963866,
          43965.83065191314,
          43928.84965597349,
          44024.092388250974,
          44061.47084741654,
          44074.19591661868,
          44127.61240113734,
          44164.1565331832,
          44157.5139785338,
          44128.94252871384,
          44132.57771272809,
          44147.588920910435,
          44310.580058207226,
          44528.70775258451,
          44973.801610259274,
          45361.91269218435,
          45748.18452635245,
          46320.855358851455,
          46797.28592656119,
          47457.56600281827,
          48005.258077487524,
          48501.27602924668,
          48932.31834233145,
          49353.474767762724,
          49683.28433624104,
          50092.68900879266,
          50405.946738236504,
          50610.585782178205,
          50741.44687744298,
          50938.191432315325,
          51110.002772324646,
          51672.72050059106,
          52380.76459216115,
          53716.54296325143,
          54633.83457041509,
          55538.35325813075,
          56255.06639356366,
          57056.12834461568,
          58330.40203234638
         ]
        },
        {
         "line": {
          "color": "orange"
         },
         "mode": "lines",
         "name": "ATR+2",
         "type": "scatter",
         "x": [
          "01-05",
          "01-06",
          "01-07",
          "01-08",
          "01-09",
          "01-10",
          "01-11",
          "01-12",
          "01-13",
          "01-14",
          "01-15",
          "01-16",
          "01-17",
          "01-18",
          "01-19",
          "01-20",
          "01-21",
          "01-22",
          "01-23",
          "01-24",
          "01-25",
          "01-26",
          "01-27",
          "01-28",
          "01-29",
          "01-30",
          "01-31",
          "02-01",
          "02-02",
          "02-03",
          "02-04",
          "02-05",
          "02-06",
          "02-07",
          "02-08",
          "02-09",
          "02-10",
          "02-11",
          "02-12",
          "02-13",
          "02-14",
          "02-15",
          "02-16",
          "02-17",
          "02-18",
          "02-19",
          "02-20",
          "02-21",
          "02-22",
          "02-23",
          "02-24",
          "02-25",
          "02-26",
          "02-27",
          "02-28",
          "02-29",
          "03-01",
          "03-02",
          "03-03",
          "03-04"
         ],
         "y": [
          null,
          null,
          null,
          null,
          null,
          null,
          null,
          null,
          null,
          null,
          null,
          null,
          null,
          null,
          null,
          null,
          null,
          null,
          null,
          null,
          null,
          45934.485079916245,
          45830.531014724926,
          45762.939049127584,
          45843.611810302486,
          45851.411725560836,
          45848.819133898956,
          45884.43689378523,
          45882.14224046691,
          45817.500842613525,
          45752.598589742134,
          45741.376818469325,
          45719.11092637828,
          45883.862920557556,
          46088.17714529911,
          46599.86198427318,
          46975.77971505474,
          47334.51026241949,
          47956.63272653435,
          48453.62913387823,
          49169.2595335964,
          49706.99572584765,
          50169.887122922984,
          50594.701288689845,
          50994.49281191357,
          51284.81437828947,
          51723.890477410205,
          52042.41480358655,
          52222.69822536873,
          52325.72253762443,
          52500.02539439289,
          52629.78511716043,
          53311.01606710132,
          54090.47560788521,
          55692.84631156006,
          56673.725854518554,
          57592.40352870547,
          58252.83188934911,
          59049.80405488754,
          60477.949851652906
         ]
        },
        {
         "line": {
          "color": "red"
         },
         "mode": "lines",
         "name": "ATR+3",
         "type": "scatter",
         "x": [
          "01-05",
          "01-06",
          "01-07",
          "01-08",
          "01-09",
          "01-10",
          "01-11",
          "01-12",
          "01-13",
          "01-14",
          "01-15",
          "01-16",
          "01-17",
          "01-18",
          "01-19",
          "01-20",
          "01-21",
          "01-22",
          "01-23",
          "01-24",
          "01-25",
          "01-26",
          "01-27",
          "01-28",
          "01-29",
          "01-30",
          "01-31",
          "02-01",
          "02-02",
          "02-03",
          "02-04",
          "02-05",
          "02-06",
          "02-07",
          "02-08",
          "02-09",
          "02-10",
          "02-11",
          "02-12",
          "02-13",
          "02-14",
          "02-15",
          "02-16",
          "02-17",
          "02-18",
          "02-19",
          "02-20",
          "02-21",
          "02-22",
          "02-23",
          "02-24",
          "02-25",
          "02-26",
          "02-27",
          "02-28",
          "02-29",
          "03-01",
          "03-02",
          "03-03",
          "03-04"
         ],
         "y": [
          null,
          null,
          null,
          null,
          null,
          null,
          null,
          null,
          null,
          null,
          null,
          null,
          null,
          null,
          null,
          null,
          null,
          null,
          null,
          null,
          null,
          47852.13746086863,
          47695.23137753672,
          47597.02844228167,
          47663.131232354,
          47641.352603705134,
          47623.44235117924,
          47641.261386433114,
          47600.1279477506,
          47477.48770669324,
          47376.25465077044,
          47350.17592421057,
          47290.63293184613,
          47457.145782907886,
          47647.646538013716,
          48225.92235828709,
          48589.646737925126,
          48920.835998486524,
          49592.41009421724,
          50109.97234119527,
          50880.95306437454,
          51408.733374207775,
          51838.4982165993,
          52257.084235048234,
          52635.51085606442,
          52886.3444203379,
          53355.09194602776,
          53678.8828689366,
          53834.81066855925,
          53909.99819780588,
          54061.859356470464,
          54149.56746199621,
          54949.31163361159,
          55800.186623609276,
          57669.14965986869,
          58713.61713862201,
          59646.45379928019,
          60250.59738513456,
          61043.4797651594,
          62625.497670959434
         ]
        },
        {
         "line": {
          "color": "green"
         },
         "mode": "lines",
         "name": "ATR-1",
         "type": "scatter",
         "x": [
          "01-05",
          "01-06",
          "01-07",
          "01-08",
          "01-09",
          "01-10",
          "01-11",
          "01-12",
          "01-13",
          "01-14",
          "01-15",
          "01-16",
          "01-17",
          "01-18",
          "01-19",
          "01-20",
          "01-21",
          "01-22",
          "01-23",
          "01-24",
          "01-25",
          "01-26",
          "01-27",
          "01-28",
          "01-29",
          "01-30",
          "01-31",
          "02-01",
          "02-02",
          "02-03",
          "02-04",
          "02-05",
          "02-06",
          "02-07",
          "02-08",
          "02-09",
          "02-10",
          "02-11",
          "02-12",
          "02-13",
          "02-14",
          "02-15",
          "02-16",
          "02-17",
          "02-18",
          "02-19",
          "02-20",
          "02-21",
          "02-22",
          "02-23",
          "02-24",
          "02-25",
          "02-26",
          "02-27",
          "02-28",
          "02-29",
          "03-01",
          "03-02",
          "03-03",
          "03-04"
         ],
         "y": [
          null,
          null,
          null,
          null,
          null,
          null,
          null,
          null,
          null,
          null,
          null,
          null,
          null,
          null,
          null,
          null,
          null,
          null,
          null,
          null,
          null,
          40181.52793705911,
          40236.42992628956,
          40260.67086966532,
          40385.05354414795,
          40481.58909112794,
          40524.94948205811,
          40613.963415841565,
          40728.185118615795,
          40837.540250374375,
          40881.63040665723,
          40914.9795012456,
          41004.544909974735,
          41164.014333506566,
          41409.76896715531,
          41721.680862231464,
          42134.17864644358,
          42575.53305421839,
          43049.30062348568,
          43484.59951192711,
          44034.178941262006,
          44601.78278076727,
          45164.05384189405,
          45607.55244961467,
          46071.438679461025,
          46480.22425214419,
          46830.28607155755,
          47133.01060753641,
          47386.36089579717,
          47572.89555708008,
          47814.52350816018,
          48070.43808265308,
          48396.12936757052,
          48961.34256071301,
          49763.93626663416,
          50554.05200220817,
          51430.2527169813,
          52259.535401992754,
          53068.77692407197,
          54035.306393733306
         ]
        },
        {
         "line": {
          "color": "orange"
         },
         "mode": "lines",
         "name": "ATR-2",
         "type": "scatter",
         "x": [
          "01-05",
          "01-06",
          "01-07",
          "01-08",
          "01-09",
          "01-10",
          "01-11",
          "01-12",
          "01-13",
          "01-14",
          "01-15",
          "01-16",
          "01-17",
          "01-18",
          "01-19",
          "01-20",
          "01-21",
          "01-22",
          "01-23",
          "01-24",
          "01-25",
          "01-26",
          "01-27",
          "01-28",
          "01-29",
          "01-30",
          "01-31",
          "02-01",
          "02-02",
          "02-03",
          "02-04",
          "02-05",
          "02-06",
          "02-07",
          "02-08",
          "02-09",
          "02-10",
          "02-11",
          "02-12",
          "02-13",
          "02-14",
          "02-15",
          "02-16",
          "02-17",
          "02-18",
          "02-19",
          "02-20",
          "02-21",
          "02-22",
          "02-23",
          "02-24",
          "02-25",
          "02-26",
          "02-27",
          "02-28",
          "02-29",
          "03-01",
          "03-02",
          "03-03",
          "03-04"
         ],
         "y": [
          null,
          null,
          null,
          null,
          null,
          null,
          null,
          null,
          null,
          null,
          null,
          null,
          null,
          null,
          null,
          null,
          null,
          null,
          null,
          null,
          null,
          38263.87555610673,
          38371.72956347777,
          38426.58147651123,
          38565.53412209644,
          38691.648212983644,
          38750.32626477783,
          38857.13892319368,
          39010.19941133209,
          39177.553386294654,
          39257.97434562893,
          39306.180395504365,
          39433.02290450689,
          39590.731471156236,
          39850.29957444071,
          40095.62048821756,
          40520.31162357319,
          40989.20731815135,
          41413.523255802786,
          41828.25630461007,
          42322.485410483874,
          42900.04513240715,
          43495.44274821774,
          43945.16950325627,
          44430.420635310176,
          44878.69421009576,
          45199.084602940005,
          45496.54254218636,
          45774.24845260664,
          45988.61989689863,
          46252.68954608261,
          46550.6557378173,
          46757.83380106025,
          47251.63154498895,
          47787.63291832553,
          48514.16071810471,
          49376.202446406576,
          50261.76990620731,
          51075.10121380011,
          51887.75857442678
         ]
        },
        {
         "line": {
          "color": "red"
         },
         "mode": "lines",
         "name": "ATR-3",
         "type": "scatter",
         "x": [
          "01-05",
          "01-06",
          "01-07",
          "01-08",
          "01-09",
          "01-10",
          "01-11",
          "01-12",
          "01-13",
          "01-14",
          "01-15",
          "01-16",
          "01-17",
          "01-18",
          "01-19",
          "01-20",
          "01-21",
          "01-22",
          "01-23",
          "01-24",
          "01-25",
          "01-26",
          "01-27",
          "01-28",
          "01-29",
          "01-30",
          "01-31",
          "02-01",
          "02-02",
          "02-03",
          "02-04",
          "02-05",
          "02-06",
          "02-07",
          "02-08",
          "02-09",
          "02-10",
          "02-11",
          "02-12",
          "02-13",
          "02-14",
          "02-15",
          "02-16",
          "02-17",
          "02-18",
          "02-19",
          "02-20",
          "02-21",
          "02-22",
          "02-23",
          "02-24",
          "02-25",
          "02-26",
          "02-27",
          "02-28",
          "02-29",
          "03-01",
          "03-02",
          "03-03",
          "03-04"
         ],
         "y": [
          null,
          null,
          null,
          null,
          null,
          null,
          null,
          null,
          null,
          null,
          null,
          null,
          null,
          null,
          null,
          null,
          null,
          null,
          null,
          null,
          null,
          36346.223175154344,
          36507.02920066597,
          36592.492083357145,
          36746.01470004493,
          36901.707334839346,
          36975.70304749755,
          37100.31443054579,
          37292.213704048394,
          37517.56652221494,
          37634.318284600624,
          37697.38128976312,
          37861.50089903904,
          38017.448608805906,
          38290.8301817261,
          38469.56011420365,
          38906.4446007028,
          39402.881582084316,
          39777.7458881199,
          40171.91309729303,
          40610.791879705735,
          41198.30748404702,
          41826.83165454143,
          42282.78655689788,
          42789.40259115933,
          43277.16416804733,
          43567.88313432245,
          43860.074476836315,
          44162.13600941612,
          44404.34423671718,
          44690.85558400504,
          45030.87339298152,
          45119.53823454998,
          45541.920529264884,
          45811.3295700169,
          46474.26943400125,
          47322.152175831856,
          48264.004410421854,
          49081.425503528255,
          49740.21075512025
         ]
        }
       ],
       "layout": {
        "template": {
         "data": {
          "bar": [
           {
            "error_x": {
             "color": "#2a3f5f"
            },
            "error_y": {
             "color": "#2a3f5f"
            },
            "marker": {
             "line": {
              "color": "#E5ECF6",
              "width": 0.5
             },
             "pattern": {
              "fillmode": "overlay",
              "size": 10,
              "solidity": 0.2
             }
            },
            "type": "bar"
           }
          ],
          "barpolar": [
           {
            "marker": {
             "line": {
              "color": "#E5ECF6",
              "width": 0.5
             },
             "pattern": {
              "fillmode": "overlay",
              "size": 10,
              "solidity": 0.2
             }
            },
            "type": "barpolar"
           }
          ],
          "carpet": [
           {
            "aaxis": {
             "endlinecolor": "#2a3f5f",
             "gridcolor": "white",
             "linecolor": "white",
             "minorgridcolor": "white",
             "startlinecolor": "#2a3f5f"
            },
            "baxis": {
             "endlinecolor": "#2a3f5f",
             "gridcolor": "white",
             "linecolor": "white",
             "minorgridcolor": "white",
             "startlinecolor": "#2a3f5f"
            },
            "type": "carpet"
           }
          ],
          "choropleth": [
           {
            "colorbar": {
             "outlinewidth": 0,
             "ticks": ""
            },
            "type": "choropleth"
           }
          ],
          "contour": [
           {
            "colorbar": {
             "outlinewidth": 0,
             "ticks": ""
            },
            "colorscale": [
             [
              0,
              "#0d0887"
             ],
             [
              0.1111111111111111,
              "#46039f"
             ],
             [
              0.2222222222222222,
              "#7201a8"
             ],
             [
              0.3333333333333333,
              "#9c179e"
             ],
             [
              0.4444444444444444,
              "#bd3786"
             ],
             [
              0.5555555555555556,
              "#d8576b"
             ],
             [
              0.6666666666666666,
              "#ed7953"
             ],
             [
              0.7777777777777778,
              "#fb9f3a"
             ],
             [
              0.8888888888888888,
              "#fdca26"
             ],
             [
              1,
              "#f0f921"
             ]
            ],
            "type": "contour"
           }
          ],
          "contourcarpet": [
           {
            "colorbar": {
             "outlinewidth": 0,
             "ticks": ""
            },
            "type": "contourcarpet"
           }
          ],
          "heatmap": [
           {
            "colorbar": {
             "outlinewidth": 0,
             "ticks": ""
            },
            "colorscale": [
             [
              0,
              "#0d0887"
             ],
             [
              0.1111111111111111,
              "#46039f"
             ],
             [
              0.2222222222222222,
              "#7201a8"
             ],
             [
              0.3333333333333333,
              "#9c179e"
             ],
             [
              0.4444444444444444,
              "#bd3786"
             ],
             [
              0.5555555555555556,
              "#d8576b"
             ],
             [
              0.6666666666666666,
              "#ed7953"
             ],
             [
              0.7777777777777778,
              "#fb9f3a"
             ],
             [
              0.8888888888888888,
              "#fdca26"
             ],
             [
              1,
              "#f0f921"
             ]
            ],
            "type": "heatmap"
           }
          ],
          "heatmapgl": [
           {
            "colorbar": {
             "outlinewidth": 0,
             "ticks": ""
            },
            "colorscale": [
             [
              0,
              "#0d0887"
             ],
             [
              0.1111111111111111,
              "#46039f"
             ],
             [
              0.2222222222222222,
              "#7201a8"
             ],
             [
              0.3333333333333333,
              "#9c179e"
             ],
             [
              0.4444444444444444,
              "#bd3786"
             ],
             [
              0.5555555555555556,
              "#d8576b"
             ],
             [
              0.6666666666666666,
              "#ed7953"
             ],
             [
              0.7777777777777778,
              "#fb9f3a"
             ],
             [
              0.8888888888888888,
              "#fdca26"
             ],
             [
              1,
              "#f0f921"
             ]
            ],
            "type": "heatmapgl"
           }
          ],
          "histogram": [
           {
            "marker": {
             "pattern": {
              "fillmode": "overlay",
              "size": 10,
              "solidity": 0.2
             }
            },
            "type": "histogram"
           }
          ],
          "histogram2d": [
           {
            "colorbar": {
             "outlinewidth": 0,
             "ticks": ""
            },
            "colorscale": [
             [
              0,
              "#0d0887"
             ],
             [
              0.1111111111111111,
              "#46039f"
             ],
             [
              0.2222222222222222,
              "#7201a8"
             ],
             [
              0.3333333333333333,
              "#9c179e"
             ],
             [
              0.4444444444444444,
              "#bd3786"
             ],
             [
              0.5555555555555556,
              "#d8576b"
             ],
             [
              0.6666666666666666,
              "#ed7953"
             ],
             [
              0.7777777777777778,
              "#fb9f3a"
             ],
             [
              0.8888888888888888,
              "#fdca26"
             ],
             [
              1,
              "#f0f921"
             ]
            ],
            "type": "histogram2d"
           }
          ],
          "histogram2dcontour": [
           {
            "colorbar": {
             "outlinewidth": 0,
             "ticks": ""
            },
            "colorscale": [
             [
              0,
              "#0d0887"
             ],
             [
              0.1111111111111111,
              "#46039f"
             ],
             [
              0.2222222222222222,
              "#7201a8"
             ],
             [
              0.3333333333333333,
              "#9c179e"
             ],
             [
              0.4444444444444444,
              "#bd3786"
             ],
             [
              0.5555555555555556,
              "#d8576b"
             ],
             [
              0.6666666666666666,
              "#ed7953"
             ],
             [
              0.7777777777777778,
              "#fb9f3a"
             ],
             [
              0.8888888888888888,
              "#fdca26"
             ],
             [
              1,
              "#f0f921"
             ]
            ],
            "type": "histogram2dcontour"
           }
          ],
          "mesh3d": [
           {
            "colorbar": {
             "outlinewidth": 0,
             "ticks": ""
            },
            "type": "mesh3d"
           }
          ],
          "parcoords": [
           {
            "line": {
             "colorbar": {
              "outlinewidth": 0,
              "ticks": ""
             }
            },
            "type": "parcoords"
           }
          ],
          "pie": [
           {
            "automargin": true,
            "type": "pie"
           }
          ],
          "scatter": [
           {
            "fillpattern": {
             "fillmode": "overlay",
             "size": 10,
             "solidity": 0.2
            },
            "type": "scatter"
           }
          ],
          "scatter3d": [
           {
            "line": {
             "colorbar": {
              "outlinewidth": 0,
              "ticks": ""
             }
            },
            "marker": {
             "colorbar": {
              "outlinewidth": 0,
              "ticks": ""
             }
            },
            "type": "scatter3d"
           }
          ],
          "scattercarpet": [
           {
            "marker": {
             "colorbar": {
              "outlinewidth": 0,
              "ticks": ""
             }
            },
            "type": "scattercarpet"
           }
          ],
          "scattergeo": [
           {
            "marker": {
             "colorbar": {
              "outlinewidth": 0,
              "ticks": ""
             }
            },
            "type": "scattergeo"
           }
          ],
          "scattergl": [
           {
            "marker": {
             "colorbar": {
              "outlinewidth": 0,
              "ticks": ""
             }
            },
            "type": "scattergl"
           }
          ],
          "scattermapbox": [
           {
            "marker": {
             "colorbar": {
              "outlinewidth": 0,
              "ticks": ""
             }
            },
            "type": "scattermapbox"
           }
          ],
          "scatterpolar": [
           {
            "marker": {
             "colorbar": {
              "outlinewidth": 0,
              "ticks": ""
             }
            },
            "type": "scatterpolar"
           }
          ],
          "scatterpolargl": [
           {
            "marker": {
             "colorbar": {
              "outlinewidth": 0,
              "ticks": ""
             }
            },
            "type": "scatterpolargl"
           }
          ],
          "scatterternary": [
           {
            "marker": {
             "colorbar": {
              "outlinewidth": 0,
              "ticks": ""
             }
            },
            "type": "scatterternary"
           }
          ],
          "surface": [
           {
            "colorbar": {
             "outlinewidth": 0,
             "ticks": ""
            },
            "colorscale": [
             [
              0,
              "#0d0887"
             ],
             [
              0.1111111111111111,
              "#46039f"
             ],
             [
              0.2222222222222222,
              "#7201a8"
             ],
             [
              0.3333333333333333,
              "#9c179e"
             ],
             [
              0.4444444444444444,
              "#bd3786"
             ],
             [
              0.5555555555555556,
              "#d8576b"
             ],
             [
              0.6666666666666666,
              "#ed7953"
             ],
             [
              0.7777777777777778,
              "#fb9f3a"
             ],
             [
              0.8888888888888888,
              "#fdca26"
             ],
             [
              1,
              "#f0f921"
             ]
            ],
            "type": "surface"
           }
          ],
          "table": [
           {
            "cells": {
             "fill": {
              "color": "#EBF0F8"
             },
             "line": {
              "color": "white"
             }
            },
            "header": {
             "fill": {
              "color": "#C8D4E3"
             },
             "line": {
              "color": "white"
             }
            },
            "type": "table"
           }
          ]
         },
         "layout": {
          "annotationdefaults": {
           "arrowcolor": "#2a3f5f",
           "arrowhead": 0,
           "arrowwidth": 1
          },
          "autotypenumbers": "strict",
          "coloraxis": {
           "colorbar": {
            "outlinewidth": 0,
            "ticks": ""
           }
          },
          "colorscale": {
           "diverging": [
            [
             0,
             "#8e0152"
            ],
            [
             0.1,
             "#c51b7d"
            ],
            [
             0.2,
             "#de77ae"
            ],
            [
             0.3,
             "#f1b6da"
            ],
            [
             0.4,
             "#fde0ef"
            ],
            [
             0.5,
             "#f7f7f7"
            ],
            [
             0.6,
             "#e6f5d0"
            ],
            [
             0.7,
             "#b8e186"
            ],
            [
             0.8,
             "#7fbc41"
            ],
            [
             0.9,
             "#4d9221"
            ],
            [
             1,
             "#276419"
            ]
           ],
           "sequential": [
            [
             0,
             "#0d0887"
            ],
            [
             0.1111111111111111,
             "#46039f"
            ],
            [
             0.2222222222222222,
             "#7201a8"
            ],
            [
             0.3333333333333333,
             "#9c179e"
            ],
            [
             0.4444444444444444,
             "#bd3786"
            ],
            [
             0.5555555555555556,
             "#d8576b"
            ],
            [
             0.6666666666666666,
             "#ed7953"
            ],
            [
             0.7777777777777778,
             "#fb9f3a"
            ],
            [
             0.8888888888888888,
             "#fdca26"
            ],
            [
             1,
             "#f0f921"
            ]
           ],
           "sequentialminus": [
            [
             0,
             "#0d0887"
            ],
            [
             0.1111111111111111,
             "#46039f"
            ],
            [
             0.2222222222222222,
             "#7201a8"
            ],
            [
             0.3333333333333333,
             "#9c179e"
            ],
            [
             0.4444444444444444,
             "#bd3786"
            ],
            [
             0.5555555555555556,
             "#d8576b"
            ],
            [
             0.6666666666666666,
             "#ed7953"
            ],
            [
             0.7777777777777778,
             "#fb9f3a"
            ],
            [
             0.8888888888888888,
             "#fdca26"
            ],
            [
             1,
             "#f0f921"
            ]
           ]
          },
          "colorway": [
           "#636efa",
           "#EF553B",
           "#00cc96",
           "#ab63fa",
           "#FFA15A",
           "#19d3f3",
           "#FF6692",
           "#B6E880",
           "#FF97FF",
           "#FECB52"
          ],
          "font": {
           "color": "#2a3f5f"
          },
          "geo": {
           "bgcolor": "white",
           "lakecolor": "white",
           "landcolor": "#E5ECF6",
           "showlakes": true,
           "showland": true,
           "subunitcolor": "white"
          },
          "hoverlabel": {
           "align": "left"
          },
          "hovermode": "closest",
          "mapbox": {
           "style": "light"
          },
          "paper_bgcolor": "white",
          "plot_bgcolor": "#E5ECF6",
          "polar": {
           "angularaxis": {
            "gridcolor": "white",
            "linecolor": "white",
            "ticks": ""
           },
           "bgcolor": "#E5ECF6",
           "radialaxis": {
            "gridcolor": "white",
            "linecolor": "white",
            "ticks": ""
           }
          },
          "scene": {
           "xaxis": {
            "backgroundcolor": "#E5ECF6",
            "gridcolor": "white",
            "gridwidth": 2,
            "linecolor": "white",
            "showbackground": true,
            "ticks": "",
            "zerolinecolor": "white"
           },
           "yaxis": {
            "backgroundcolor": "#E5ECF6",
            "gridcolor": "white",
            "gridwidth": 2,
            "linecolor": "white",
            "showbackground": true,
            "ticks": "",
            "zerolinecolor": "white"
           },
           "zaxis": {
            "backgroundcolor": "#E5ECF6",
            "gridcolor": "white",
            "gridwidth": 2,
            "linecolor": "white",
            "showbackground": true,
            "ticks": "",
            "zerolinecolor": "white"
           }
          },
          "shapedefaults": {
           "line": {
            "color": "#2a3f5f"
           }
          },
          "ternary": {
           "aaxis": {
            "gridcolor": "white",
            "linecolor": "white",
            "ticks": ""
           },
           "baxis": {
            "gridcolor": "white",
            "linecolor": "white",
            "ticks": ""
           },
           "bgcolor": "#E5ECF6",
           "caxis": {
            "gridcolor": "white",
            "linecolor": "white",
            "ticks": ""
           }
          },
          "title": {
           "x": 0.05
          },
          "xaxis": {
           "automargin": true,
           "gridcolor": "white",
           "linecolor": "white",
           "ticks": "",
           "title": {
            "standoff": 15
           },
           "zerolinecolor": "white",
           "zerolinewidth": 2
          },
          "yaxis": {
           "automargin": true,
           "gridcolor": "white",
           "linecolor": "white",
           "ticks": "",
           "title": {
            "standoff": 15
           },
           "zerolinecolor": "white",
           "zerolinewidth": 2
          }
         }
        },
        "title": {
         "text": "Candlestick Chart with Extra Line"
        },
        "xaxis": {
         "categoryorder": "category ascending",
         "type": "category"
        },
        "yaxis": {
         "title": {
          "text": "Price"
         }
        }
       }
      }
     },
     "metadata": {},
     "output_type": "display_data"
    }
   ],
   "source": [
    "draw_ATR_GRAPH(df_medium)"
   ]
  },
  {
   "cell_type": "markdown",
   "id": "01e061b9",
   "metadata": {},
   "source": [
    "Siit lihtsalt testimine. Salvestab ilusti htmlina ära. \n",
    "Siit edasi:\n",
    "1. tee tsükkel, kus teeb html-id nendest, mis on pullid ja bearid\n",
    "2. saada need meilile"
   ]
  },
  {
   "cell_type": "code",
   "execution_count": 54,
   "id": "49ac13d2",
   "metadata": {},
   "outputs": [],
   "source": [
    "\n",
    "# Output directory where HTML files will be saved\n",
    "output_directory = '/Users/ahtojarve/Trading_bot/reports/figures/'\n",
    "os.makedirs(output_directory, exist_ok=True)\n",
    "chart_filename = f\"{output_directory}testing.html\"\n",
    "pio.write_html(fig, file = chart_filename)"
   ]
  },
  {
   "cell_type": "markdown",
   "id": "47a882fb",
   "metadata": {},
   "source": [
    "## EMAILi saatmine"
   ]
  },
  {
   "cell_type": "markdown",
   "id": "6bc21906",
   "metadata": {},
   "source": [
    "Praegu ei tööta see hästi, peab edasi vaatama, mis teha ja kas see emaili saatmine on üldse vajalik. \n",
    "Kui teha dashboard ei ole kirjal vist pointi. "
   ]
  },
  {
   "cell_type": "code",
   "execution_count": 63,
   "id": "084d0fe6",
   "metadata": {},
   "outputs": [
    {
     "name": "stdout",
     "output_type": "stream",
     "text": [
      "HTML content loaded from \"/Users/ahtojarve/Trading_bot/reports/figures/testing.html\" into a string variable.\n"
     ]
    }
   ],
   "source": [
    "'''file_path = '/Users/ahtojarve/Trading_bot/reports/figures/testing.html'\n",
    "html_string = ''\n",
    "\n",
    "with open(file_path, 'r', encoding='utf-8') as file:\n",
    "    html_string = file.read()\n",
    "\n",
    "print(f'HTML content loaded from \"{file_path}\" into a string variable.')\n",
    "'''"
   ]
  },
  {
   "cell_type": "code",
   "execution_count": 64,
   "id": "00d357fa",
   "metadata": {},
   "outputs": [
    {
     "data": {
      "text/plain": [
       "{}"
      ]
     },
     "execution_count": 64,
     "metadata": {},
     "output_type": "execute_result"
    }
   ],
   "source": [
    "'''\n",
    "\n",
    "import yagmail\n",
    "\n",
    "receiver = \"ahtotrade@gmail.com\"\n",
    "body = html_string\n",
    "\n",
    "yag = yagmail.SMTP(sender_email, \"uftcphhmfxeuggyo\")\n",
    "yag.send(\n",
    "    to=receiver,\n",
    "    subject=\"Yagmail test with attachment\",\n",
    "    contents=body, \n",
    "    \n",
    ")\n",
    "\n",
    "'''"
   ]
  },
  {
   "cell_type": "markdown",
   "id": "287c4e12",
   "metadata": {},
   "source": [
    "## Loop graafikute joonistamiseks"
   ]
  },
  {
   "cell_type": "markdown",
   "id": "ee985687",
   "metadata": {},
   "source": [
    "Ma teen praegu kõik kohaliku arvutiga. Hiljem on vaja teha ümber, panna kuhugi dashboardile või näiteks google drivei"
   ]
  },
  {
   "cell_type": "code",
   "execution_count": 121,
   "id": "b9cd1ddb",
   "metadata": {},
   "outputs": [
    {
     "name": "stdout",
     "output_type": "stream",
     "text": [
      "Folder \"/Users/ahtojarve/Trading_bot/reports/figures/2024-03-07/bear\" created successfully.\n",
      "Retrived data for: LINKUSDT\n",
      "Retrived data for: IMXUSDT\n",
      "Retrived data for: ORDIUSDT\n",
      "Retrived data for: WLDUSDT\n"
     ]
    }
   ],
   "source": [
    "create_bear_charts()"
   ]
  },
  {
   "cell_type": "code",
   "execution_count": 122,
   "id": "c7950f52",
   "metadata": {},
   "outputs": [
    {
     "name": "stdout",
     "output_type": "stream",
     "text": [
      "Folder \"/Users/ahtojarve/Trading_bot/reports/figures/2024-03-07/bull\" created successfully.\n",
      "Retrived data for: DYMUSDT\n",
      "Skipping DYMUSDT - Insufficient historical data (less than 60 rows).\n",
      "Retrived data for: STRKUSDT\n",
      "Skipping STRKUSDT - Insufficient historical data (less than 60 rows).\n",
      "Retrived data for: FDUSDUSDT\n",
      "Retrived data for: PIXELUSDT\n",
      "Skipping PIXELUSDT - Insufficient historical data (less than 60 rows).\n"
     ]
    }
   ],
   "source": [
    "create_bull_charts()"
   ]
  },
  {
   "cell_type": "code",
   "execution_count": 107,
   "id": "25311bc6",
   "metadata": {},
   "outputs": [
    {
     "data": {
      "text/html": [
       "<div>\n",
       "<style scoped>\n",
       "    .dataframe tbody tr th:only-of-type {\n",
       "        vertical-align: middle;\n",
       "    }\n",
       "\n",
       "    .dataframe tbody tr th {\n",
       "        vertical-align: top;\n",
       "    }\n",
       "\n",
       "    .dataframe thead th {\n",
       "        text-align: right;\n",
       "    }\n",
       "</style>\n",
       "<table border=\"1\" class=\"dataframe\">\n",
       "  <thead>\n",
       "    <tr style=\"text-align: right;\">\n",
       "      <th></th>\n",
       "      <th>Time</th>\n",
       "      <th>Open Price</th>\n",
       "      <th>High Price</th>\n",
       "      <th>Low Price</th>\n",
       "      <th>Close Price</th>\n",
       "      <th>Volume</th>\n",
       "      <th>dateTime</th>\n",
       "      <th>ATR21</th>\n",
       "      <th>21EMA</th>\n",
       "      <th>ATR+1</th>\n",
       "      <th>ATR+2</th>\n",
       "      <th>ATR+3</th>\n",
       "      <th>ATR-1</th>\n",
       "      <th>ATR-2</th>\n",
       "      <th>ATR-3</th>\n",
       "      <th>formatted_date</th>\n",
       "    </tr>\n",
       "  </thead>\n",
       "  <tbody>\n",
       "    <tr>\n",
       "      <th>50</th>\n",
       "      <td>1708819200000</td>\n",
       "      <td>0.03627</td>\n",
       "      <td>0.03782</td>\n",
       "      <td>0.03552</td>\n",
       "      <td>0.03759</td>\n",
       "      <td>32987522.0</td>\n",
       "      <td>2024-02-25</td>\n",
       "      <td>0.003120</td>\n",
       "      <td>0.034646</td>\n",
       "      <td>0.037767</td>\n",
       "      <td>0.040887</td>\n",
       "      <td>0.044007</td>\n",
       "      <td>0.031526</td>\n",
       "      <td>0.028406</td>\n",
       "      <td>0.025285</td>\n",
       "      <td>02-25</td>\n",
       "    </tr>\n",
       "    <tr>\n",
       "      <th>51</th>\n",
       "      <td>1708905600000</td>\n",
       "      <td>0.03763</td>\n",
       "      <td>0.03778</td>\n",
       "      <td>0.03475</td>\n",
       "      <td>0.03550</td>\n",
       "      <td>84762075.0</td>\n",
       "      <td>2024-02-26</td>\n",
       "      <td>0.003116</td>\n",
       "      <td>0.034724</td>\n",
       "      <td>0.037840</td>\n",
       "      <td>0.040956</td>\n",
       "      <td>0.044072</td>\n",
       "      <td>0.031608</td>\n",
       "      <td>0.028492</td>\n",
       "      <td>0.025376</td>\n",
       "      <td>02-26</td>\n",
       "    </tr>\n",
       "    <tr>\n",
       "      <th>52</th>\n",
       "      <td>1708992000000</td>\n",
       "      <td>0.03550</td>\n",
       "      <td>0.03613</td>\n",
       "      <td>0.03479</td>\n",
       "      <td>0.03504</td>\n",
       "      <td>71040577.0</td>\n",
       "      <td>2024-02-27</td>\n",
       "      <td>0.003031</td>\n",
       "      <td>0.034753</td>\n",
       "      <td>0.037784</td>\n",
       "      <td>0.040815</td>\n",
       "      <td>0.043847</td>\n",
       "      <td>0.031721</td>\n",
       "      <td>0.028690</td>\n",
       "      <td>0.025658</td>\n",
       "      <td>02-27</td>\n",
       "    </tr>\n",
       "    <tr>\n",
       "      <th>53</th>\n",
       "      <td>1709078400000</td>\n",
       "      <td>0.03508</td>\n",
       "      <td>0.03609</td>\n",
       "      <td>0.03322</td>\n",
       "      <td>0.03424</td>\n",
       "      <td>72769617.0</td>\n",
       "      <td>2024-02-28</td>\n",
       "      <td>0.003024</td>\n",
       "      <td>0.034706</td>\n",
       "      <td>0.037730</td>\n",
       "      <td>0.040754</td>\n",
       "      <td>0.043777</td>\n",
       "      <td>0.031682</td>\n",
       "      <td>0.028658</td>\n",
       "      <td>0.025635</td>\n",
       "      <td>02-28</td>\n",
       "    </tr>\n",
       "    <tr>\n",
       "      <th>54</th>\n",
       "      <td>1709164800000</td>\n",
       "      <td>0.03424</td>\n",
       "      <td>0.03980</td>\n",
       "      <td>0.03390</td>\n",
       "      <td>0.03810</td>\n",
       "      <td>164931172.0</td>\n",
       "      <td>2024-02-29</td>\n",
       "      <td>0.003161</td>\n",
       "      <td>0.035015</td>\n",
       "      <td>0.038175</td>\n",
       "      <td>0.041336</td>\n",
       "      <td>0.044497</td>\n",
       "      <td>0.031854</td>\n",
       "      <td>0.028693</td>\n",
       "      <td>0.025532</td>\n",
       "      <td>02-29</td>\n",
       "    </tr>\n",
       "    <tr>\n",
       "      <th>55</th>\n",
       "      <td>1709251200000</td>\n",
       "      <td>0.03811</td>\n",
       "      <td>0.03926</td>\n",
       "      <td>0.03660</td>\n",
       "      <td>0.03768</td>\n",
       "      <td>117816371.0</td>\n",
       "      <td>2024-03-01</td>\n",
       "      <td>0.003137</td>\n",
       "      <td>0.035257</td>\n",
       "      <td>0.038394</td>\n",
       "      <td>0.041531</td>\n",
       "      <td>0.044667</td>\n",
       "      <td>0.032120</td>\n",
       "      <td>0.028983</td>\n",
       "      <td>0.025846</td>\n",
       "      <td>03-01</td>\n",
       "    </tr>\n",
       "    <tr>\n",
       "      <th>56</th>\n",
       "      <td>1709337600000</td>\n",
       "      <td>0.03768</td>\n",
       "      <td>0.03889</td>\n",
       "      <td>0.03700</td>\n",
       "      <td>0.03870</td>\n",
       "      <td>68561689.0</td>\n",
       "      <td>2024-03-02</td>\n",
       "      <td>0.003078</td>\n",
       "      <td>0.035570</td>\n",
       "      <td>0.038647</td>\n",
       "      <td>0.041725</td>\n",
       "      <td>0.044802</td>\n",
       "      <td>0.032492</td>\n",
       "      <td>0.029415</td>\n",
       "      <td>0.026337</td>\n",
       "      <td>03-02</td>\n",
       "    </tr>\n",
       "    <tr>\n",
       "      <th>57</th>\n",
       "      <td>1709424000000</td>\n",
       "      <td>0.03869</td>\n",
       "      <td>0.05199</td>\n",
       "      <td>0.03645</td>\n",
       "      <td>0.04734</td>\n",
       "      <td>521781107.0</td>\n",
       "      <td>2024-03-03</td>\n",
       "      <td>0.003671</td>\n",
       "      <td>0.036640</td>\n",
       "      <td>0.040311</td>\n",
       "      <td>0.043982</td>\n",
       "      <td>0.047653</td>\n",
       "      <td>0.032969</td>\n",
       "      <td>0.029298</td>\n",
       "      <td>0.025627</td>\n",
       "      <td>03-03</td>\n",
       "    </tr>\n",
       "    <tr>\n",
       "      <th>58</th>\n",
       "      <td>1709510400000</td>\n",
       "      <td>0.04734</td>\n",
       "      <td>0.04757</td>\n",
       "      <td>0.04030</td>\n",
       "      <td>0.04265</td>\n",
       "      <td>271056447.0</td>\n",
       "      <td>2024-03-04</td>\n",
       "      <td>0.003842</td>\n",
       "      <td>0.037186</td>\n",
       "      <td>0.041029</td>\n",
       "      <td>0.044871</td>\n",
       "      <td>0.048713</td>\n",
       "      <td>0.033344</td>\n",
       "      <td>0.029502</td>\n",
       "      <td>0.025659</td>\n",
       "      <td>03-04</td>\n",
       "    </tr>\n",
       "    <tr>\n",
       "      <th>59</th>\n",
       "      <td>1709596800000</td>\n",
       "      <td>0.04262</td>\n",
       "      <td>0.04346</td>\n",
       "      <td>0.03650</td>\n",
       "      <td>0.03861</td>\n",
       "      <td>147350018.0</td>\n",
       "      <td>2024-03-05</td>\n",
       "      <td>0.003991</td>\n",
       "      <td>0.037316</td>\n",
       "      <td>0.041306</td>\n",
       "      <td>0.045297</td>\n",
       "      <td>0.049288</td>\n",
       "      <td>0.033325</td>\n",
       "      <td>0.029334</td>\n",
       "      <td>0.025343</td>\n",
       "      <td>03-05</td>\n",
       "    </tr>\n",
       "  </tbody>\n",
       "</table>\n",
       "</div>"
      ],
      "text/plain": [
       "             Time  Open Price  High Price  Low Price  Close Price  \\\n",
       "50  1708819200000     0.03627     0.03782    0.03552      0.03759   \n",
       "51  1708905600000     0.03763     0.03778    0.03475      0.03550   \n",
       "52  1708992000000     0.03550     0.03613    0.03479      0.03504   \n",
       "53  1709078400000     0.03508     0.03609    0.03322      0.03424   \n",
       "54  1709164800000     0.03424     0.03980    0.03390      0.03810   \n",
       "55  1709251200000     0.03811     0.03926    0.03660      0.03768   \n",
       "56  1709337600000     0.03768     0.03889    0.03700      0.03870   \n",
       "57  1709424000000     0.03869     0.05199    0.03645      0.04734   \n",
       "58  1709510400000     0.04734     0.04757    0.04030      0.04265   \n",
       "59  1709596800000     0.04262     0.04346    0.03650      0.03861   \n",
       "\n",
       "         Volume   dateTime     ATR21     21EMA     ATR+1     ATR+2     ATR+3  \\\n",
       "50   32987522.0 2024-02-25  0.003120  0.034646  0.037767  0.040887  0.044007   \n",
       "51   84762075.0 2024-02-26  0.003116  0.034724  0.037840  0.040956  0.044072   \n",
       "52   71040577.0 2024-02-27  0.003031  0.034753  0.037784  0.040815  0.043847   \n",
       "53   72769617.0 2024-02-28  0.003024  0.034706  0.037730  0.040754  0.043777   \n",
       "54  164931172.0 2024-02-29  0.003161  0.035015  0.038175  0.041336  0.044497   \n",
       "55  117816371.0 2024-03-01  0.003137  0.035257  0.038394  0.041531  0.044667   \n",
       "56   68561689.0 2024-03-02  0.003078  0.035570  0.038647  0.041725  0.044802   \n",
       "57  521781107.0 2024-03-03  0.003671  0.036640  0.040311  0.043982  0.047653   \n",
       "58  271056447.0 2024-03-04  0.003842  0.037186  0.041029  0.044871  0.048713   \n",
       "59  147350018.0 2024-03-05  0.003991  0.037316  0.041306  0.045297  0.049288   \n",
       "\n",
       "       ATR-1     ATR-2     ATR-3 formatted_date  \n",
       "50  0.031526  0.028406  0.025285          02-25  \n",
       "51  0.031608  0.028492  0.025376          02-26  \n",
       "52  0.031721  0.028690  0.025658          02-27  \n",
       "53  0.031682  0.028658  0.025635          02-28  \n",
       "54  0.031854  0.028693  0.025532          02-29  \n",
       "55  0.032120  0.028983  0.025846          03-01  \n",
       "56  0.032492  0.029415  0.026337          03-02  \n",
       "57  0.032969  0.029298  0.025627          03-03  \n",
       "58  0.033344  0.029502  0.025659          03-04  \n",
       "59  0.033325  0.029334  0.025343          03-05  "
      ]
     },
     "execution_count": 107,
     "metadata": {},
     "output_type": "execute_result"
    }
   ],
   "source": [
    "df_medium.tail(10)"
   ]
  },
  {
   "cell_type": "markdown",
   "id": "95978cba",
   "metadata": {},
   "source": [
    "## TROUBLESHOOTING WEIRD CHARTS"
   ]
  },
  {
   "cell_type": "code",
   "execution_count": 114,
   "id": "7cfb1e1b",
   "metadata": {},
   "outputs": [
    {
     "name": "stdout",
     "output_type": "stream",
     "text": [
      "Retrived data for: PIXELUSDT\n"
     ]
    }
   ],
   "source": [
    "df_medium = get_historical_data('PIXELUSDT', 60, '1d')"
   ]
  },
  {
   "cell_type": "code",
   "execution_count": 115,
   "id": "54fb0fd2",
   "metadata": {},
   "outputs": [
    {
     "name": "stdout",
     "output_type": "stream",
     "text": [
      "<class 'pandas.core.frame.DataFrame'>\n",
      "RangeIndex: 18 entries, 0 to 17\n",
      "Data columns (total 7 columns):\n",
      " #   Column       Non-Null Count  Dtype         \n",
      "---  ------       --------------  -----         \n",
      " 0   Time         18 non-null     int64         \n",
      " 1   Open Price   18 non-null     object        \n",
      " 2   High Price   18 non-null     object        \n",
      " 3   Low Price    18 non-null     object        \n",
      " 4   Close Price  18 non-null     object        \n",
      " 5   Volume       18 non-null     object        \n",
      " 6   dateTime     18 non-null     datetime64[ns]\n",
      "dtypes: datetime64[ns](1), int64(1), object(5)\n",
      "memory usage: 1.1+ KB\n"
     ]
    }
   ],
   "source": [
    "df_medium.info()"
   ]
  },
  {
   "cell_type": "code",
   "execution_count": 116,
   "metadata": {},
   "outputs": [
    {
     "data": {
      "text/html": [
       "<div>\n",
       "<style scoped>\n",
       "    .dataframe tbody tr th:only-of-type {\n",
       "        vertical-align: middle;\n",
       "    }\n",
       "\n",
       "    .dataframe tbody tr th {\n",
       "        vertical-align: top;\n",
       "    }\n",
       "\n",
       "    .dataframe thead th {\n",
       "        text-align: right;\n",
       "    }\n",
       "</style>\n",
       "<table border=\"1\" class=\"dataframe\">\n",
       "  <thead>\n",
       "    <tr style=\"text-align: right;\">\n",
       "      <th></th>\n",
       "      <th>Time</th>\n",
       "      <th>Open Price</th>\n",
       "      <th>High Price</th>\n",
       "      <th>Low Price</th>\n",
       "      <th>Close Price</th>\n",
       "      <th>Volume</th>\n",
       "      <th>dateTime</th>\n",
       "    </tr>\n",
       "  </thead>\n",
       "  <tbody>\n",
       "    <tr>\n",
       "      <th>0</th>\n",
       "      <td>1708300800000</td>\n",
       "      <td>0.04000000</td>\n",
       "      <td>0.69470000</td>\n",
       "      <td>0.04000000</td>\n",
       "      <td>0.54750000</td>\n",
       "      <td>1427441771.50000000</td>\n",
       "      <td>2024-02-19</td>\n",
       "    </tr>\n",
       "    <tr>\n",
       "      <th>1</th>\n",
       "      <td>1708387200000</td>\n",
       "      <td>0.54750000</td>\n",
       "      <td>0.61780000</td>\n",
       "      <td>0.48160000</td>\n",
       "      <td>0.51600000</td>\n",
       "      <td>630112680.10000000</td>\n",
       "      <td>2024-02-20</td>\n",
       "    </tr>\n",
       "    <tr>\n",
       "      <th>2</th>\n",
       "      <td>1708473600000</td>\n",
       "      <td>0.51600000</td>\n",
       "      <td>0.54790000</td>\n",
       "      <td>0.48120000</td>\n",
       "      <td>0.51890000</td>\n",
       "      <td>251530207.30000000</td>\n",
       "      <td>2024-02-21</td>\n",
       "    </tr>\n",
       "    <tr>\n",
       "      <th>3</th>\n",
       "      <td>1708560000000</td>\n",
       "      <td>0.51890000</td>\n",
       "      <td>0.56760000</td>\n",
       "      <td>0.49010000</td>\n",
       "      <td>0.52320000</td>\n",
       "      <td>221143329.80000000</td>\n",
       "      <td>2024-02-22</td>\n",
       "    </tr>\n",
       "    <tr>\n",
       "      <th>4</th>\n",
       "      <td>1708646400000</td>\n",
       "      <td>0.52330000</td>\n",
       "      <td>0.54970000</td>\n",
       "      <td>0.49030000</td>\n",
       "      <td>0.50100000</td>\n",
       "      <td>137532554.30000000</td>\n",
       "      <td>2024-02-23</td>\n",
       "    </tr>\n",
       "    <tr>\n",
       "      <th>5</th>\n",
       "      <td>1708732800000</td>\n",
       "      <td>0.50090000</td>\n",
       "      <td>0.52960000</td>\n",
       "      <td>0.48100000</td>\n",
       "      <td>0.52000000</td>\n",
       "      <td>81988227.10000000</td>\n",
       "      <td>2024-02-24</td>\n",
       "    </tr>\n",
       "    <tr>\n",
       "      <th>6</th>\n",
       "      <td>1708819200000</td>\n",
       "      <td>0.52020000</td>\n",
       "      <td>0.58800000</td>\n",
       "      <td>0.50270000</td>\n",
       "      <td>0.56460000</td>\n",
       "      <td>152640789.20000000</td>\n",
       "      <td>2024-02-25</td>\n",
       "    </tr>\n",
       "    <tr>\n",
       "      <th>7</th>\n",
       "      <td>1708905600000</td>\n",
       "      <td>0.56490000</td>\n",
       "      <td>0.64000000</td>\n",
       "      <td>0.55660000</td>\n",
       "      <td>0.56940000</td>\n",
       "      <td>242845486.70000000</td>\n",
       "      <td>2024-02-26</td>\n",
       "    </tr>\n",
       "    <tr>\n",
       "      <th>8</th>\n",
       "      <td>1708992000000</td>\n",
       "      <td>0.56930000</td>\n",
       "      <td>0.60480000</td>\n",
       "      <td>0.54100000</td>\n",
       "      <td>0.56070000</td>\n",
       "      <td>151172669.70000000</td>\n",
       "      <td>2024-02-27</td>\n",
       "    </tr>\n",
       "    <tr>\n",
       "      <th>9</th>\n",
       "      <td>1709078400000</td>\n",
       "      <td>0.56080000</td>\n",
       "      <td>0.56800000</td>\n",
       "      <td>0.45000000</td>\n",
       "      <td>0.50960000</td>\n",
       "      <td>202701076.90000000</td>\n",
       "      <td>2024-02-28</td>\n",
       "    </tr>\n",
       "    <tr>\n",
       "      <th>10</th>\n",
       "      <td>1709164800000</td>\n",
       "      <td>0.50960000</td>\n",
       "      <td>0.53460000</td>\n",
       "      <td>0.47000000</td>\n",
       "      <td>0.48940000</td>\n",
       "      <td>155540896.20000000</td>\n",
       "      <td>2024-02-29</td>\n",
       "    </tr>\n",
       "    <tr>\n",
       "      <th>11</th>\n",
       "      <td>1709251200000</td>\n",
       "      <td>0.48940000</td>\n",
       "      <td>0.52400000</td>\n",
       "      <td>0.48500000</td>\n",
       "      <td>0.51510000</td>\n",
       "      <td>108081083.20000000</td>\n",
       "      <td>2024-03-01</td>\n",
       "    </tr>\n",
       "    <tr>\n",
       "      <th>12</th>\n",
       "      <td>1709337600000</td>\n",
       "      <td>0.51500000</td>\n",
       "      <td>0.55250000</td>\n",
       "      <td>0.49800000</td>\n",
       "      <td>0.53990000</td>\n",
       "      <td>157571670.60000000</td>\n",
       "      <td>2024-03-02</td>\n",
       "    </tr>\n",
       "    <tr>\n",
       "      <th>13</th>\n",
       "      <td>1709424000000</td>\n",
       "      <td>0.53970000</td>\n",
       "      <td>0.59640000</td>\n",
       "      <td>0.49900000</td>\n",
       "      <td>0.53720000</td>\n",
       "      <td>186239128.70000000</td>\n",
       "      <td>2024-03-03</td>\n",
       "    </tr>\n",
       "    <tr>\n",
       "      <th>14</th>\n",
       "      <td>1709510400000</td>\n",
       "      <td>0.53740000</td>\n",
       "      <td>0.55300000</td>\n",
       "      <td>0.50130000</td>\n",
       "      <td>0.51270000</td>\n",
       "      <td>124914702.90000000</td>\n",
       "      <td>2024-03-04</td>\n",
       "    </tr>\n",
       "    <tr>\n",
       "      <th>15</th>\n",
       "      <td>1709596800000</td>\n",
       "      <td>0.51300000</td>\n",
       "      <td>0.58480000</td>\n",
       "      <td>0.45200000</td>\n",
       "      <td>0.54140000</td>\n",
       "      <td>290545620.80000000</td>\n",
       "      <td>2024-03-05</td>\n",
       "    </tr>\n",
       "    <tr>\n",
       "      <th>16</th>\n",
       "      <td>1709683200000</td>\n",
       "      <td>0.54120000</td>\n",
       "      <td>0.62760000</td>\n",
       "      <td>0.52710000</td>\n",
       "      <td>0.59420000</td>\n",
       "      <td>247161455.50000000</td>\n",
       "      <td>2024-03-06</td>\n",
       "    </tr>\n",
       "    <tr>\n",
       "      <th>17</th>\n",
       "      <td>1709769600000</td>\n",
       "      <td>0.59410000</td>\n",
       "      <td>0.67780000</td>\n",
       "      <td>0.57000000</td>\n",
       "      <td>0.60800000</td>\n",
       "      <td>215562362.40000000</td>\n",
       "      <td>2024-03-07</td>\n",
       "    </tr>\n",
       "  </tbody>\n",
       "</table>\n",
       "</div>"
      ],
      "text/plain": [
       "             Time  Open Price  High Price   Low Price Close Price  \\\n",
       "0   1708300800000  0.04000000  0.69470000  0.04000000  0.54750000   \n",
       "1   1708387200000  0.54750000  0.61780000  0.48160000  0.51600000   \n",
       "2   1708473600000  0.51600000  0.54790000  0.48120000  0.51890000   \n",
       "3   1708560000000  0.51890000  0.56760000  0.49010000  0.52320000   \n",
       "4   1708646400000  0.52330000  0.54970000  0.49030000  0.50100000   \n",
       "5   1708732800000  0.50090000  0.52960000  0.48100000  0.52000000   \n",
       "6   1708819200000  0.52020000  0.58800000  0.50270000  0.56460000   \n",
       "7   1708905600000  0.56490000  0.64000000  0.55660000  0.56940000   \n",
       "8   1708992000000  0.56930000  0.60480000  0.54100000  0.56070000   \n",
       "9   1709078400000  0.56080000  0.56800000  0.45000000  0.50960000   \n",
       "10  1709164800000  0.50960000  0.53460000  0.47000000  0.48940000   \n",
       "11  1709251200000  0.48940000  0.52400000  0.48500000  0.51510000   \n",
       "12  1709337600000  0.51500000  0.55250000  0.49800000  0.53990000   \n",
       "13  1709424000000  0.53970000  0.59640000  0.49900000  0.53720000   \n",
       "14  1709510400000  0.53740000  0.55300000  0.50130000  0.51270000   \n",
       "15  1709596800000  0.51300000  0.58480000  0.45200000  0.54140000   \n",
       "16  1709683200000  0.54120000  0.62760000  0.52710000  0.59420000   \n",
       "17  1709769600000  0.59410000  0.67780000  0.57000000  0.60800000   \n",
       "\n",
       "                 Volume   dateTime  \n",
       "0   1427441771.50000000 2024-02-19  \n",
       "1    630112680.10000000 2024-02-20  \n",
       "2    251530207.30000000 2024-02-21  \n",
       "3    221143329.80000000 2024-02-22  \n",
       "4    137532554.30000000 2024-02-23  \n",
       "5     81988227.10000000 2024-02-24  \n",
       "6    152640789.20000000 2024-02-25  \n",
       "7    242845486.70000000 2024-02-26  \n",
       "8    151172669.70000000 2024-02-27  \n",
       "9    202701076.90000000 2024-02-28  \n",
       "10   155540896.20000000 2024-02-29  \n",
       "11   108081083.20000000 2024-03-01  \n",
       "12   157571670.60000000 2024-03-02  \n",
       "13   186239128.70000000 2024-03-03  \n",
       "14   124914702.90000000 2024-03-04  \n",
       "15   290545620.80000000 2024-03-05  \n",
       "16   247161455.50000000 2024-03-06  \n",
       "17   215562362.40000000 2024-03-07  "
      ]
     },
     "execution_count": 116,
     "metadata": {},
     "output_type": "execute_result"
    }
   ],
   "source": [
    "df_medium"
   ]
  },
  {
   "cell_type": "markdown",
   "id": "3c3a34ed",
   "metadata": {},
   "source": [
    "# SPOT TESTNET TRADEDE TEGEMINE"
   ]
  },
  {
   "cell_type": "code",
   "execution_count": 126,
   "id": "452715b5",
   "metadata": {},
   "outputs": [
    {
     "name": "stdout",
     "output_type": "stream",
     "text": [
      "Error: 400, {\"code\":-1022,\"msg\":\"Signature for this request is not valid.\"}\n"
     ]
    }
   ],
   "source": [
    "import requests\n",
    "import hashlib\n",
    "import hmac\n",
    "import time\n",
    "\n",
    "# Replace with your Binance API key and secret\n",
    "api_key = 'd1LUCwf3hCuhtTGfFBf0C16bdD0pIKWP99S4iwFF28xOfHm3g89XCI1QULQnxdR3'\n",
    "secret_key = 'oI15EZEiIlI916NxTTKxDpU0Ql3tqtlzlafO5gRAbU5dr8Ddjgob6WngRvBQrD74'\n",
    "\n",
    "# Binance API endpoint for getting account information\n",
    "url = 'https://testnet.binance.vision/api/v3/account'\n",
    "# Set the timestamp\n",
    "timestamp = int(time.time() * 1000)\n",
    "\n",
    "# Create the query parameters\n",
    "params = {\n",
    "    'timestamp': timestamp,\n",
    "    'recvWindow': 5000,  # Adjust recvWindow if needed, within the specified limits\n",
    "}\n",
    "\n",
    "# Create the signature\n",
    "query_string = '&'.join([f'{key}={value}' for key, value in sorted(params.items())])\n",
    "signature = hmac.new(secret_key.encode(), query_string.encode(), hashlib.sha256).hexdigest()\n",
    "\n",
    "# Add the signature to the parameters\n",
    "params['signature'] = signature\n",
    "\n",
    "# Set up the request headers\n",
    "headers = {\n",
    "    'X-MBX-APIKEY': api_key,\n",
    "}\n",
    "\n",
    "# Make the request\n",
    "response = requests.get(url, params=params, headers=headers)\n",
    "\n",
    "# Check if the request was successful (status code 200)\n",
    "if response.status_code == 200:\n",
    "    account_info = response.json()\n",
    "    print(account_info)\n",
    "else:\n",
    "    print(f\"Error: {response.status_code}, {response.text}\")\n"
   ]
  },
  {
   "cell_type": "code",
   "execution_count": 128,
   "id": "7519a95f",
   "metadata": {},
   "outputs": [],
   "source": [
    "from binance.client import Client\n",
    "api_key = 'd1LUCwf3hCuhtTGfFBf0C16bdD0pIKWP99S4iwFF28xOfHm3g89XCI1QULQnxdR3'\n",
    "api_secret = 'oI15EZEiIlI916NxTTKxDpU0Ql3tqtlzlafO5gRAbU5dr8Ddjgob6WngRvBQrD74'\n",
    "\n",
    "client = Client(api_key, api_secret, testnet=True)\n"
   ]
  },
  {
   "cell_type": "code",
   "execution_count": 146,
   "id": "fd3267ee",
   "metadata": {},
   "outputs": [
    {
     "data": {
      "text/plain": [
       "{'makerCommission': 0,\n",
       " 'takerCommission': 0,\n",
       " 'buyerCommission': 0,\n",
       " 'sellerCommission': 0,\n",
       " 'commissionRates': {'maker': '0.00000000',\n",
       "  'taker': '0.00000000',\n",
       "  'buyer': '0.00000000',\n",
       "  'seller': '0.00000000'},\n",
       " 'canTrade': True,\n",
       " 'canWithdraw': True,\n",
       " 'canDeposit': True,\n",
       " 'brokered': False,\n",
       " 'requireSelfTradePrevention': False,\n",
       " 'preventSor': False,\n",
       " 'updateTime': 1709843201416,\n",
       " 'accountType': 'SPOT',\n",
       " 'balances': [{'asset': 'ETH', 'free': '1.00000000', 'locked': '0.00000000'},\n",
       "  {'asset': 'BTC', 'free': '1.00000000', 'locked': '0.00000000'},\n",
       "  {'asset': 'LTC', 'free': '7.00000000', 'locked': '0.00000000'},\n",
       "  {'asset': 'BNB', 'free': '1.00000000', 'locked': '0.00000000'},\n",
       "  {'asset': 'USDT', 'free': '10000.01000000', 'locked': '0.00000000'},\n",
       "  {'asset': 'TRX', 'free': '4027.00000000', 'locked': '0.00000000'},\n",
       "  {'asset': 'XRP', 'free': '996.00000000', 'locked': '0.00000000'},\n",
       "  {'asset': 'NEO', 'free': '45.00000000', 'locked': '0.00000000'},\n",
       "  {'asset': 'QTUM', 'free': '177.00000000', 'locked': '0.00000000'},\n",
       "  {'asset': 'EOS', 'free': '709.00000000', 'locked': '0.00000000'},\n",
       "  {'asset': 'SNT', 'free': '13661.00000000', 'locked': '0.00000000'},\n",
       "  {'asset': 'BNT', 'free': '696.00000000', 'locked': '0.00000000'},\n",
       "  {'asset': 'GAS', 'free': '88.00000000', 'locked': '0.00000000'},\n",
       "  {'asset': 'LRC', 'free': '2218.00000000', 'locked': '0.00000000'},\n",
       "  {'asset': 'ZRX', 'free': '1603.00000000', 'locked': '0.00000000'},\n",
       "  {'asset': 'KNC', 'free': '867.00000000', 'locked': '0.00000000'},\n",
       "  {'asset': 'FUN', 'free': '18446.00000000', 'locked': '0.00000000'},\n",
       "  {'asset': 'IOTA', 'free': '2063.00000000', 'locked': '0.00000000'},\n",
       "  {'asset': 'LINK', 'free': '27.00000000', 'locked': '0.00000000'},\n",
       "  {'asset': 'XVG', 'free': '18446.00000000', 'locked': '0.00000000'},\n",
       "  {'asset': 'MTL', 'free': '356.00000000', 'locked': '0.00000000'},\n",
       "  {'asset': 'ETC', 'free': '20.00000000', 'locked': '0.00000000'},\n",
       "  {'asset': 'ZEC', 'free': '25.00000000', 'locked': '0.00000000'},\n",
       "  {'asset': 'AST', 'free': '4756.00000000', 'locked': '0.00000000'},\n",
       "  {'asset': 'DASH', 'free': '18.00000000', 'locked': '0.00000000'},\n",
       "  {'asset': 'OAX', 'free': '3404.00000000', 'locked': '0.00000000'},\n",
       "  {'asset': 'REQ', 'free': '6073.00000000', 'locked': '0.00000000'},\n",
       "  {'asset': 'VIB', 'free': '8100.00000000', 'locked': '0.00000000'},\n",
       "  {'asset': 'POWR', 'free': '1720.00000000', 'locked': '0.00000000'},\n",
       "  {'asset': 'ENJ', 'free': '1789.00000000', 'locked': '0.00000000'},\n",
       "  {'asset': 'STORJ', 'free': '762.00000000', 'locked': '0.00000000'},\n",
       "  {'asset': 'KMD', 'free': '2015.00000000', 'locked': '0.00000000'},\n",
       "  {'asset': 'NULS', 'free': '2312.00000000', 'locked': '0.00000000'},\n",
       "  {'asset': 'XMR', 'free': '3.00000000', 'locked': '0.00000000'},\n",
       "  {'asset': 'AMB', 'free': '18446.00000000', 'locked': '0.00000000'},\n",
       "  {'asset': 'BAT', 'free': '2359.00000000', 'locked': '0.00000000'},\n",
       "  {'asset': 'LSK', 'free': '365.00000000', 'locked': '0.00000000'},\n",
       "  {'asset': 'MANA', 'free': '1174.00000000', 'locked': '0.00000000'},\n",
       "  {'asset': 'ADX', 'free': '2913.00000000', 'locked': '0.00000000'},\n",
       "  {'asset': 'ADA', 'free': '1051.00000000', 'locked': '0.00000000'},\n",
       "  {'asset': 'XLM', 'free': '4654.00000000', 'locked': '0.00000000'},\n",
       "  {'asset': 'WAVES', 'free': '242.00000000', 'locked': '0.00000000'},\n",
       "  {'asset': 'ICX', 'free': '2366.00000000', 'locked': '0.00000000'},\n",
       "  {'asset': 'ELF', 'free': '874.00000000', 'locked': '0.00000000'},\n",
       "  {'asset': 'RLC', 'free': '235.00000000', 'locked': '0.00000000'},\n",
       "  {'asset': 'PIVX', 'free': '1687.00000000', 'locked': '0.00000000'},\n",
       "  {'asset': 'IOST', 'free': '18446.00000000', 'locked': '0.00000000'},\n",
       "  {'asset': 'STEEM', 'free': '2363.00000000', 'locked': '0.00000000'},\n",
       "  {'asset': 'BLZ', 'free': '1662.00000000', 'locked': '0.00000000'},\n",
       "  {'asset': 'ZIL', 'free': '18446.00000000', 'locked': '0.00000000'},\n",
       "  {'asset': 'ONT', 'free': '2270.00000000', 'locked': '0.00000000'},\n",
       "  {'asset': 'WAN', 'free': '2401.00000000', 'locked': '0.00000000'},\n",
       "  {'asset': 'SYS', 'free': '4350.00000000', 'locked': '0.00000000'},\n",
       "  {'asset': 'LOOM', 'free': '6009.00000000', 'locked': '0.00000000'},\n",
       "  {'asset': 'TUSD', 'free': '10000.00000000', 'locked': '0.00000000'},\n",
       "  {'asset': 'ZEN', 'free': '59.00000000', 'locked': '0.00000000'},\n",
       "  {'asset': 'THETA', 'free': '530.00000000', 'locked': '0.00000000'},\n",
       "  {'asset': 'IOTX', 'free': '12232.00000000', 'locked': '0.00000000'},\n",
       "  {'asset': 'QKC', 'free': '18446.00000000', 'locked': '0.00000000'},\n",
       "  {'asset': 'DATA', 'free': '9978.00000000', 'locked': '0.00000000'},\n",
       "  {'asset': 'SC', 'free': '18446.00000000', 'locked': '0.00000000'},\n",
       "  {'asset': 'DENT', 'free': '18446.00000000', 'locked': '0.00000000'},\n",
       "  {'asset': 'ARDR', 'free': '6122.00000000', 'locked': '0.00000000'},\n",
       "  {'asset': 'HOT', 'free': '18446.00000000', 'locked': '0.00000000'},\n",
       "  {'asset': 'VET', 'free': '17971.00000000', 'locked': '0.00000000'},\n",
       "  {'asset': 'DOCK', 'free': '18446.00000000', 'locked': '0.00000000'},\n",
       "  {'asset': 'RVN', 'free': '18446.00000000', 'locked': '0.00000000'},\n",
       "  {'asset': 'DCR', 'free': '32.00000000', 'locked': '0.00000000'},\n",
       "  {'asset': 'REN', 'free': '9170.00000000', 'locked': '0.00000000'},\n",
       "  {'asset': 'USDC', 'free': '10000.00000000', 'locked': '0.00000000'},\n",
       "  {'asset': 'ONG', 'free': '1622.00000000', 'locked': '0.00000000'},\n",
       "  {'asset': 'FET', 'free': '941.00000000', 'locked': '0.00000000'},\n",
       "  {'asset': 'CELR', 'free': '18446.00000000', 'locked': '0.00000000'},\n",
       "  {'asset': 'OMG', 'free': '831.00000000', 'locked': '0.00000000'},\n",
       "  {'asset': 'MATIC', 'free': '630.00000000', 'locked': '0.00000000'},\n",
       "  {'asset': 'ATOM', 'free': '53.00000000', 'locked': '0.00000000'},\n",
       "  {'asset': 'PHB', 'free': '534.00000000', 'locked': '0.00000000'},\n",
       "  {'asset': 'TFUEL', 'free': '12564.00000000', 'locked': '0.00000000'},\n",
       "  {'asset': 'ONE', 'free': '18446.00000000', 'locked': '0.00000000'},\n",
       "  {'asset': 'FTM', 'free': '1405.00000000', 'locked': '0.00000000'},\n",
       "  {'asset': 'ALGO', 'free': '3114.00000000', 'locked': '0.00000000'},\n",
       "  {'asset': 'DOGE', 'free': '6374.00000000', 'locked': '0.00000000'},\n",
       "  {'asset': 'DUSK', 'free': '1600.00000000', 'locked': '0.00000000'},\n",
       "  {'asset': 'ANKR', 'free': '18446.00000000', 'locked': '0.00000000'},\n",
       "  {'asset': 'WIN', 'free': '18446.00000000', 'locked': '0.00000000'},\n",
       "  {'asset': 'COS', 'free': '18446.00000000', 'locked': '0.00000000'},\n",
       "  {'asset': 'KEY', 'free': '18446.00000000', 'locked': '0.00000000'},\n",
       "  {'asset': 'CVC', 'free': '5647.00000000', 'locked': '0.00000000'},\n",
       "  {'asset': 'CHZ', 'free': '5038.00000000', 'locked': '0.00000000'},\n",
       "  {'asset': 'BAND', 'free': '263.00000000', 'locked': '0.00000000'},\n",
       "  {'asset': 'XTZ', 'free': '517.00000000', 'locked': '0.00000000'},\n",
       "  {'asset': 'HBAR', 'free': '6899.00000000', 'locked': '0.00000000'},\n",
       "  {'asset': 'NKN', 'free': '4716.00000000', 'locked': '0.00000000'},\n",
       "  {'asset': 'STX', 'free': '333.00000000', 'locked': '0.00000000'},\n",
       "  {'asset': 'KAVA', 'free': '726.00000000', 'locked': '0.00000000'},\n",
       "  {'asset': 'NGN', 'free': '18466.00000000', 'locked': '0.00000000'},\n",
       "  {'asset': 'ARPA', 'free': '9019.00000000', 'locked': '0.00000000'},\n",
       "  {'asset': 'CTXC', 'free': '899.00000000', 'locked': '0.00000000'},\n",
       "  {'asset': 'BCH', 'free': '2.00000000', 'locked': '0.00000000'},\n",
       "  {'asset': 'TROY', 'free': '18446.00000000', 'locked': '0.00000000'},\n",
       "  {'asset': 'VITE', 'free': '18446.00000000', 'locked': '0.00000000'},\n",
       "  {'asset': 'FTT', 'free': '311.00000000', 'locked': '0.00000000'},\n",
       "  {'asset': 'TRY', 'free': '18466.00000000', 'locked': '0.00000000'},\n",
       "  {'asset': 'EUR', 'free': '464.00000000', 'locked': '0.00000000'},\n",
       "  {'asset': 'OGN', 'free': '3211.00000000', 'locked': '0.00000000'},\n",
       "  {'asset': 'DREP', 'free': '2154.00000000', 'locked': '0.00000000'},\n",
       "  {'asset': 'WRX', 'free': '2583.00000000', 'locked': '0.00000000'},\n",
       "  {'asset': 'LTO', 'free': '6461.00000000', 'locked': '0.00000000'},\n",
       "  {'asset': 'MBL', 'free': '18446.00000000', 'locked': '0.00000000'},\n",
       "  {'asset': 'COTI', 'free': '7563.00000000', 'locked': '0.00000000'},\n",
       "  {'asset': 'STPT', 'free': '9875.00000000', 'locked': '0.00000000'},\n",
       "  {'asset': 'ZAR', 'free': '18466.00000000', 'locked': '0.00000000'},\n",
       "  {'asset': 'SOL', 'free': '5.00000000', 'locked': '0.00000000'},\n",
       "  {'asset': 'IDRT', 'free': '18466.00', 'locked': '0.00'},\n",
       "  {'asset': 'CTSI', 'free': '1764.00000000', 'locked': '0.00000000'},\n",
       "  {'asset': 'HIVE', 'free': '1698.00000000', 'locked': '0.00000000'},\n",
       "  {'asset': 'CHR', 'free': '1591.00000000', 'locked': '0.00000000'},\n",
       "  {'asset': 'MDT', 'free': '9300.00000000', 'locked': '0.00000000'},\n",
       "  {'asset': 'STMX', 'free': '18446.00000000', 'locked': '0.00000000'},\n",
       "  {'asset': 'PNT', 'free': '3541.00000000', 'locked': '0.00000000'},\n",
       "  {'asset': 'DGB', 'free': '18446.00000000', 'locked': '0.00000000'},\n",
       "  {'asset': 'UAH', 'free': '18466.00000000', 'locked': '0.00000000'},\n",
       "  {'asset': 'COMP', 'free': '9.00000000', 'locked': '0.00000000'},\n",
       "  {'asset': 'BIDR', 'free': '158.00', 'locked': '0.00'},\n",
       "  {'asset': 'SXP', 'free': '1643.00000000', 'locked': '0.00000000'},\n",
       "  {'asset': 'SNX', 'free': '153.00000000', 'locked': '0.00000000'},\n",
       "  {'asset': 'VTHO', 'free': '18446.00000000', 'locked': '0.00000000'},\n",
       "  {'asset': 'IRIS', 'free': '18446.00000000', 'locked': '0.00000000'},\n",
       "  {'asset': 'MKR', 'free': '1.00000000', 'locked': '0.00000000'},\n",
       "  {'asset': 'RUNE', 'free': '114.00000000', 'locked': '0.00000000'},\n",
       "  {'asset': 'FIO', 'free': '18446.00000000', 'locked': '0.00000000'},\n",
       "  {'asset': 'AVA', 'free': '935.00000000', 'locked': '0.00000000'},\n",
       "  {'asset': 'BAL', 'free': '138.00000000', 'locked': '0.00000000'},\n",
       "  {'asset': 'YFI', 'free': '1.00000000', 'locked': '0.00000000'},\n",
       "  {'asset': 'DAI', 'free': '10000.00000000', 'locked': '0.00000000'},\n",
       "  {'asset': 'JST', 'free': '16335.00000000', 'locked': '0.00000000'},\n",
       "  {'asset': 'ANT', 'free': '83.00000000', 'locked': '0.00000000'},\n",
       "  {'asset': 'CRV', 'free': '1052.00000000', 'locked': '0.00000000'},\n",
       "  {'asset': 'SAND', 'free': '1163.00000000', 'locked': '0.00000000'},\n",
       "  {'asset': 'OCEAN', 'free': '1166.00000000', 'locked': '0.00000000'},\n",
       "  {'asset': 'NMR', 'free': '19.00000000', 'locked': '0.00000000'},\n",
       "  {'asset': 'DOT', 'free': '74.00000000', 'locked': '0.00000000'},\n",
       "  {'asset': 'LUNA', 'free': '773.00000000', 'locked': '0.00000000'},\n",
       "  {'asset': 'IDEX', 'free': '10604.00000000', 'locked': '0.00000000'},\n",
       "  {'asset': 'RSR', 'free': '18446.00000000', 'locked': '0.00000000'},\n",
       "  {'asset': 'PAXG', 'free': '1.00000000', 'locked': '0.00000000'},\n",
       "  {'asset': 'WNXM', 'free': '10.00000000', 'locked': '0.00000000'},\n",
       "  {'asset': 'TRB', 'free': '4.00000000', 'locked': '0.00000000'},\n",
       "  {'asset': 'WBTC', 'free': '1.00000000', 'locked': '0.00000000'},\n",
       "  {'asset': 'SUSHI', 'free': '468.00000000', 'locked': '0.00000000'},\n",
       "  {'asset': 'KSM', 'free': '12.00000000', 'locked': '0.00000000'},\n",
       "  {'asset': 'EGLD', 'free': '9.00000000', 'locked': '0.00000000'},\n",
       "  {'asset': 'DIA', 'free': '1217.00000000', 'locked': '0.00000000'},\n",
       "  {'asset': 'UMA', 'free': '117.00000000', 'locked': '0.00000000'},\n",
       "  {'asset': 'BEL', 'free': '869.00000000', 'locked': '0.00000000'},\n",
       "  {'asset': 'WING', 'free': '63.00000000', 'locked': '0.00000000'},\n",
       "  {'asset': 'UNI', 'free': '79.00000000', 'locked': '0.00000000'},\n",
       "  {'asset': 'OXT', 'free': '4828.00000000', 'locked': '0.00000000'},\n",
       "  {'asset': 'SUN', 'free': '18446.00000000', 'locked': '0.00000000'},\n",
       "  {'asset': 'AVAX', 'free': '14.00000000', 'locked': '0.00000000'},\n",
       "  {'asset': 'BAKE', 'free': '1592.00000000', 'locked': '0.00000000'},\n",
       "  {'asset': 'FLM', 'free': '6587.00000000', 'locked': '0.00000000'},\n",
       "  {'asset': 'SCRT', 'free': '1372.00000000', 'locked': '0.00000000'},\n",
       "  {'asset': 'CAKE', 'free': '205.00000000', 'locked': '0.00000000'},\n",
       "  {'asset': 'ORN', 'free': '638.00000000', 'locked': '0.00000000'},\n",
       "  {'asset': 'UTK', 'free': '6443.00000000', 'locked': '0.00000000'},\n",
       "  {'asset': 'XVS', 'free': '47.00000000', 'locked': '0.00000000'},\n",
       "  {'asset': 'ALPHA', 'free': '5477.00000000', 'locked': '0.00000000'},\n",
       "  {'asset': 'VIDT', 'free': '17789.00000000', 'locked': '0.00000000'},\n",
       "  {'asset': 'AAVE', 'free': '6.00000000', 'locked': '0.00000000'},\n",
       "  {'asset': 'BRL', 'free': '97.00000000', 'locked': '0.00000000'},\n",
       "  {'asset': 'NEAR', 'free': '184.00000000', 'locked': '0.00000000'},\n",
       "  {'asset': 'FIL', 'free': '100.00000000', 'locked': '0.00000000'},\n",
       "  {'asset': 'INJ', 'free': '15.00000000', 'locked': '0.00000000'},\n",
       "  {'asset': 'AERGO', 'free': '4079.00000000', 'locked': '0.00000000'},\n",
       "  {'asset': 'AUDIO', 'free': '2759.00000000', 'locked': '0.00000000'},\n",
       "  {'asset': 'CTK', 'free': '811.00000000', 'locked': '0.00000000'},\n",
       "  {'asset': 'AKRO', 'free': '18446.00000000', 'locked': '0.00000000'},\n",
       "  {'asset': 'AXS', 'free': '72.00000000', 'locked': '0.00000000'},\n",
       "  {'asset': 'HARD', 'free': '3055.00000000', 'locked': '0.00000000'},\n",
       "  {'asset': 'SLP', 'free': '18446.00000000', 'locked': '0.00000000'},\n",
       "  {'asset': 'STRAX', 'free': '552.00000000', 'locked': '0.00000000'},\n",
       "  {'asset': 'FOR', 'free': '18446.00000000', 'locked': '0.00000000'},\n",
       "  {'asset': 'UNFI', 'free': '87.00000000', 'locked': '0.00000000'},\n",
       "  {'asset': 'ROSE', 'free': '4518.00000000', 'locked': '0.00000000'},\n",
       "  {'asset': 'XEM', 'free': '14719.00000000', 'locked': '0.00000000'},\n",
       "  {'asset': 'SKL', 'free': '6745.00000000', 'locked': '0.00000000'},\n",
       "  {'asset': 'GLM', 'free': '2486.00000000', 'locked': '0.00000000'},\n",
       "  {'asset': 'GRT', 'free': '3201.00000000', 'locked': '0.00000000'},\n",
       "  {'asset': 'JUV', 'free': '219.00000000', 'locked': '0.00000000'},\n",
       "  {'asset': 'PSG', 'free': '154.00000000', 'locked': '0.00000000'},\n",
       "  {'asset': '1INCH', 'free': '1278.00000000', 'locked': '0.00000000'},\n",
       "  {'asset': 'REEF', 'free': '18446.00000000', 'locked': '0.00000000'},\n",
       "  {'asset': 'OG', 'free': '107.00000000', 'locked': '0.00000000'},\n",
       "  {'asset': 'ATM', 'free': '200.00000000', 'locked': '0.00000000'},\n",
       "  {'asset': 'ASR', 'free': '214.00000000', 'locked': '0.00000000'},\n",
       "  {'asset': 'CELO', 'free': '699.00000000', 'locked': '0.00000000'},\n",
       "  {'asset': 'RIF', 'free': '3910.00000000', 'locked': '0.00000000'},\n",
       "  {'asset': 'TRU', 'free': '10425.00000000', 'locked': '0.00000000'},\n",
       "  {'asset': 'CKB', 'free': '18446.00000000', 'locked': '0.00000000'},\n",
       "  {'asset': 'TWT', 'free': '442.00000000', 'locked': '0.00000000'},\n",
       "  {'asset': 'FIRO', 'free': '325.00000000', 'locked': '0.00000000'},\n",
       "  {'asset': 'LIT', 'free': '641.00000000', 'locked': '0.00000000'},\n",
       "  {'asset': 'SFP', 'free': '739.00000000', 'locked': '0.00000000'},\n",
       "  {'asset': 'FXS', 'free': '54.00000000', 'locked': '0.00000000'},\n",
       "  {'asset': 'DODO', 'free': '3345.00000000', 'locked': '0.00000000'},\n",
       "  {'asset': 'FRONT', 'free': '1179.00000000', 'locked': '0.00000000'},\n",
       "  {'asset': 'ACM', 'free': '251.00000000', 'locked': '0.00000000'},\n",
       "  {'asset': 'AUCTION', 'free': '19.00000000', 'locked': '0.00000000'},\n",
       "  {'asset': 'PHA', 'free': '4903.00000000', 'locked': '0.00000000'},\n",
       "  {'asset': 'BADGER', 'free': '159.00000000', 'locked': '0.00000000'},\n",
       "  {'asset': 'FIS', 'free': '1229.00000000', 'locked': '0.00000000'},\n",
       "  {'asset': 'OM', 'free': '3275.00000000', 'locked': '0.00000000'},\n",
       "  {'asset': 'POND', 'free': '18446.00000000', 'locked': '0.00000000'},\n",
       "  {'asset': 'DEGO', 'free': '240.00000000', 'locked': '0.00000000'},\n",
       "  {'asset': 'ALICE', 'free': '447.00000000', 'locked': '0.00000000'},\n",
       "  {'asset': 'LINA', 'free': '18446.00000000', 'locked': '0.00000000'},\n",
       "  {'asset': 'PERP', 'free': '470.00000000', 'locked': '0.00000000'},\n",
       "  {'asset': 'SUPER', 'free': '814.00000000', 'locked': '0.00000000'},\n",
       "  {'asset': 'CFX', 'free': '2326.00000000', 'locked': '0.00000000'},\n",
       "  {'asset': 'TKO', 'free': '1513.00000000', 'locked': '0.00000000'},\n",
       "  {'asset': 'PUNDIX', 'free': '1277.00000000', 'locked': '0.00000000'},\n",
       "  {'asset': 'TLM', 'free': '18446.00000000', 'locked': '0.00000000'},\n",
       "  {'asset': 'BAR', 'free': '200.00000000', 'locked': '0.00000000'},\n",
       "  {'asset': 'FORTH', 'free': '160.00000000', 'locked': '0.00000000'},\n",
       "  {'asset': 'BURGER', 'free': '1111.00000000', 'locked': '0.00000000'},\n",
       "  {'asset': 'SHIB', 'free': '18446.00', 'locked': '0.00'},\n",
       "  {'asset': 'ICP', 'free': '41.00000000', 'locked': '0.00000000'},\n",
       "  {'asset': 'AR', 'free': '62.00000000', 'locked': '0.00000000'},\n",
       "  {'asset': 'POLS', 'free': '667.00000000', 'locked': '0.00000000'},\n",
       "  {'asset': 'MDX', 'free': '8381.00000000', 'locked': '0.00000000'},\n",
       "  {'asset': 'MASK', 'free': '151.00000000', 'locked': '0.00000000'},\n",
       "  {'asset': 'LPT', 'free': '70.00000000', 'locked': '0.00000000'},\n",
       "  {'asset': 'AGIX', 'free': '1726.00000000', 'locked': '0.00000000'},\n",
       "  {'asset': 'ATA', 'free': '5908.00000000', 'locked': '0.00000000'},\n",
       "  {'asset': 'GTC', 'free': '439.00000000', 'locked': '0.00000000'},\n",
       "  {'asset': 'ERN', 'free': '229.00000000', 'locked': '0.00000000'},\n",
       "  {'asset': 'KLAY', 'free': '2560.00000000', 'locked': '0.00000000'},\n",
       "  {'asset': 'BOND', 'free': '157.00000000', 'locked': '0.00000000'},\n",
       "  {'asset': 'MLN', 'free': '29.00000000', 'locked': '0.00000000'},\n",
       "  {'asset': 'DEXE', 'free': '175.00000000', 'locked': '0.00000000'},\n",
       "  {'asset': 'QUICK', 'free': '10713.00000000', 'locked': '0.00000000'},\n",
       "  {'asset': 'C98', 'free': '2184.00000000', 'locked': '0.00000000'},\n",
       "  {'asset': 'CLV', 'free': '10728.00000000', 'locked': '0.00000000'},\n",
       "  {'asset': 'QNT', 'free': '4.00000000', 'locked': '0.00000000'},\n",
       "  {'asset': 'FLOW', 'free': '691.00000000', 'locked': '0.00000000'},\n",
       "  {'asset': 'MINA', 'free': '442.00000000', 'locked': '0.00000000'},\n",
       "  {'asset': 'RAY', 'free': '487.00000000', 'locked': '0.00000000'},\n",
       "  {'asset': 'FARM', 'free': '12.00000000', 'locked': '0.00000000'},\n",
       "  {'asset': 'ALPACA', 'free': '2977.00000000', 'locked': '0.00000000'},\n",
       "  {'asset': 'MBOX', 'free': '1792.00000000', 'locked': '0.00000000'},\n",
       "  {'asset': 'GHST', 'free': '551.00000000', 'locked': '0.00000000'},\n",
       "  {'asset': 'WAXP', 'free': '9403.00000000', 'locked': '0.00000000'},\n",
       "  {'asset': 'GNO', 'free': '2.00000000', 'locked': '0.00000000'},\n",
       "  {'asset': 'PROM', 'free': '73.00000000', 'locked': '0.00000000'},\n",
       "  {'asset': 'XEC', 'free': '18446.00', 'locked': '0.00'},\n",
       "  {'asset': 'DYDX', 'free': '180.00000000', 'locked': '0.00000000'},\n",
       "  {'asset': 'USDP', 'free': '499.00000000', 'locked': '0.00000000'},\n",
       "  {'asset': 'GALA', 'free': '18446.00000000', 'locked': '0.00000000'},\n",
       "  {'asset': 'ILV', 'free': '6.00000000', 'locked': '0.00000000'},\n",
       "  {'asset': 'YGG', 'free': '1197.00000000', 'locked': '0.00000000'},\n",
       "  {'asset': 'DF', 'free': '12683.00000000', 'locked': '0.00000000'},\n",
       "  {'asset': 'FIDA', 'free': '1924.00000000', 'locked': '0.00000000'},\n",
       "  {'asset': 'CVP', 'free': '1245.00000000', 'locked': '0.00000000'},\n",
       "  {'asset': 'AGLD', 'free': '392.00000000', 'locked': '0.00000000'},\n",
       "  {'asset': 'RAD', 'free': '275.00000000', 'locked': '0.00000000'},\n",
       "  {'asset': 'BETA', 'free': '7466.00000000', 'locked': '0.00000000'},\n",
       "  {'asset': 'RARE', 'free': '4854.00000000', 'locked': '0.00000000'},\n",
       "  {'asset': 'SSV', 'free': '17.00000000', 'locked': '0.00000000'},\n",
       "  {'asset': 'LAZIO', 'free': '203.00000000', 'locked': '0.00000000'},\n",
       "  {'asset': 'CHESS', 'free': '2857.00000000', 'locked': '0.00000000'},\n",
       "  {'asset': 'DAR', 'free': '4654.00000000', 'locked': '0.00000000'},\n",
       "  {'asset': 'BNX', 'free': '1797.00000000', 'locked': '0.00000000'},\n",
       "  {'asset': 'MOVR', 'free': '22.00000000', 'locked': '0.00000000'},\n",
       "  {'asset': 'CITY', 'free': '164.00000000', 'locked': '0.00000000'},\n",
       "  {'asset': 'ENS', 'free': '23.00000000', 'locked': '0.00000000'},\n",
       "  {'asset': 'KP3R', 'free': '7.00000000', 'locked': '0.00000000'},\n",
       "  {'asset': 'QI', 'free': '18446.00000000', 'locked': '0.00000000'},\n",
       "  {'asset': 'PORTO', 'free': '210.00000000', 'locked': '0.00000000'},\n",
       "  {'asset': 'VGX', 'free': '5330.00000000', 'locked': '0.00000000'},\n",
       "  {'asset': 'JASMY', 'free': '18446.00000000', 'locked': '0.00000000'},\n",
       "  {'asset': 'AMP', 'free': '18446.00000000', 'locked': '0.00000000'},\n",
       "  {'asset': 'PLA', 'free': '2908.00000000', 'locked': '0.00000000'},\n",
       "  {'asset': 'PYR', 'free': '92.00000000', 'locked': '0.00000000'},\n",
       "  {'asset': 'RNDR', 'free': '115.00000000', 'locked': '0.00000000'},\n",
       "  {'asset': 'ALCX', 'free': '21.00000000', 'locked': '0.00000000'},\n",
       "  {'asset': 'SANTOS', 'free': '117.00000000', 'locked': '0.00000000'},\n",
       "  {'asset': 'BICO', 'free': '1445.00000000', 'locked': '0.00000000'},\n",
       "  {'asset': 'FLUX', 'free': '878.00000000', 'locked': '0.00000000'},\n",
       "  {'asset': 'VOXEL', 'free': '2713.00000000', 'locked': '0.00000000'},\n",
       "  {'asset': 'HIGH', 'free': '362.00000000', 'locked': '0.00000000'},\n",
       "  {'asset': 'CVX', 'free': '165.00000000', 'locked': '0.00000000'},\n",
       "  {'asset': 'PEOPLE', 'free': '18446.00000000', 'locked': '0.00000000'},\n",
       "  {'asset': 'OOKI', 'free': '18446.00000000', 'locked': '0.00000000'},\n",
       "  {'asset': 'SPELL', 'free': '18446.00000000', 'locked': '0.00000000'},\n",
       "  {'asset': 'JOE', 'free': '1119.00000000', 'locked': '0.00000000'},\n",
       "  {'asset': 'ACH', 'free': '18446.00000000', 'locked': '0.00000000'},\n",
       "  {'asset': 'IMX', 'free': '229.00000000', 'locked': '0.00000000'},\n",
       "  {'asset': 'GLMR', 'free': '1337.00000000', 'locked': '0.00000000'},\n",
       "  {'asset': 'LOKA', 'free': '2244.00000000', 'locked': '0.00000000'},\n",
       "  {'asset': 'API3', 'free': '154.00000000', 'locked': '0.00000000'},\n",
       "  {'asset': 'BTTC', 'free': '18446.0', 'locked': '0.0'},\n",
       "  {'asset': 'ACA', 'free': '5338.00000000', 'locked': '0.00000000'},\n",
       "  {'asset': 'XNO', 'free': '456.00000000', 'locked': '0.00000000'},\n",
       "  {'asset': 'WOO', 'free': '1424.00000000', 'locked': '0.00000000'},\n",
       "  {'asset': 'ALPINE', 'free': '244.00000000', 'locked': '0.00000000'},\n",
       "  {'asset': 'T', 'free': '18446.00000000', 'locked': '0.00000000'},\n",
       "  {'asset': 'ASTR', 'free': '2861.00000000', 'locked': '0.00000000'},\n",
       "  {'asset': 'GMT', 'free': '2146.00000000', 'locked': '0.00000000'},\n",
       "  {'asset': 'KDA', 'free': '508.00000000', 'locked': '0.00000000'},\n",
       "  {'asset': 'APE', 'free': '371.00000000', 'locked': '0.00000000'},\n",
       "  {'asset': 'BSW', 'free': '5487.00000000', 'locked': '0.00000000'},\n",
       "  {'asset': 'BIFI', 'free': '1.00000000', 'locked': '0.00000000'},\n",
       "  {'asset': 'MULTI', 'free': '382.00000000', 'locked': '0.00000000'},\n",
       "  {'asset': 'MOB', 'free': '1645.00000000', 'locked': '0.00000000'},\n",
       "  {'asset': 'NEXO', 'free': '568.00000000', 'locked': '0.00000000'},\n",
       "  {'asset': 'REI', 'free': '18334.00000000', 'locked': '0.00000000'},\n",
       "  {'asset': 'GAL', 'free': '235.00000000', 'locked': '0.00000000'},\n",
       "  {'asset': 'LDO', 'free': '176.00000000', 'locked': '0.00000000'},\n",
       "  {'asset': 'EPX', 'free': '18446.00000000', 'locked': '0.00000000'},\n",
       "  {'asset': 'OP', 'free': '153.00000000', 'locked': '0.00000000'},\n",
       "  {'asset': 'LEVER', 'free': '18446.00000000', 'locked': '0.00000000'},\n",
       "  {'asset': 'STG', 'free': '974.00000000', 'locked': '0.00000000'},\n",
       "  {'asset': 'LUNC', 'free': '18446.00000000', 'locked': '0.00000000'},\n",
       "  {'asset': 'GMX', 'free': '11.00000000', 'locked': '0.00000000'},\n",
       "  {'asset': 'POLYX', 'free': '3262.00000000', 'locked': '0.00000000'},\n",
       "  {'asset': 'APT', 'free': '58.00000000', 'locked': '0.00000000'},\n",
       "  {'asset': 'PLN', 'free': '18466.00000000', 'locked': '0.00000000'},\n",
       "  {'asset': 'OSMO', 'free': '315.00000000', 'locked': '0.00000000'},\n",
       "  {'asset': 'HFT', 'free': '1601.00000000', 'locked': '0.00000000'},\n",
       "  {'asset': 'HOOK', 'free': '570.00000000', 'locked': '0.00000000'},\n",
       "  {'asset': 'MAGIC', 'free': '400.00000000', 'locked': '0.00000000'},\n",
       "  {'asset': 'HIFI', 'free': '911.00000000', 'locked': '0.00000000'},\n",
       "  {'asset': 'RPL', 'free': '17.00000000', 'locked': '0.00000000'},\n",
       "  {'asset': 'PROS', 'free': '922.00000000', 'locked': '0.00000000'},\n",
       "  {'asset': 'RON', 'free': '18466.00000000', 'locked': '0.00000000'},\n",
       "  {'asset': 'GNS', 'free': '96.00000000', 'locked': '0.00000000'},\n",
       "  {'asset': 'SYN', 'free': '732.00000000', 'locked': '0.00000000'},\n",
       "  {'asset': 'LQTY', 'free': '385.00000000', 'locked': '0.00000000'},\n",
       "  {'asset': 'USTC', 'free': '18446.00000000', 'locked': '0.00000000'},\n",
       "  {'asset': 'UFT', 'free': '1291.00000000', 'locked': '0.00000000'},\n",
       "  {'asset': 'ID', 'free': '980.00000000', 'locked': '0.00000000'},\n",
       "  {'asset': 'ARB', 'free': '275.00000000', 'locked': '0.00000000'},\n",
       "  {'asset': 'RDNT', 'free': '1726.00000000', 'locked': '0.00000000'},\n",
       "  {'asset': 'ARS', 'free': '18466.00000000', 'locked': '0.00000000'},\n",
       "  {'asset': 'EDU', 'free': '785.00000000', 'locked': '0.00000000'},\n",
       "  {'asset': 'SUI', 'free': '324.00000000', 'locked': '0.00000000'},\n",
       "  {'asset': 'PEPE', 'free': '18446.00', 'locked': '0.00'},\n",
       "  {'asset': 'FLOKI', 'free': '18446.00', 'locked': '0.00'},\n",
       "  {'asset': 'WBETH', 'free': '1.00000000', 'locked': '0.00000000'},\n",
       "  {'asset': 'COMBO', 'free': '748.00000000', 'locked': '0.00000000'},\n",
       "  {'asset': 'MAV', 'free': '749.00000000', 'locked': '0.00000000'},\n",
       "  {'asset': 'PENDLE', 'free': '159.00000000', 'locked': '0.00000000'},\n",
       "  {'asset': 'ARKM', 'free': '889.00000000', 'locked': '0.00000000'},\n",
       "  {'asset': 'WLD', 'free': '220.00000000', 'locked': '0.00000000'},\n",
       "  {'asset': 'FDUSD', 'free': '10000.00000000', 'locked': '0.00000000'},\n",
       "  {'asset': 'SEI', 'free': '850.00000000', 'locked': '0.00000000'},\n",
       "  {'asset': 'CYBER', 'free': '71.00000000', 'locked': '0.00000000'},\n",
       "  {'asset': 'ARK', 'free': '600.00000000', 'locked': '0.00000000'},\n",
       "  {'asset': 'CREAM', 'free': '32.00000000', 'locked': '0.00000000'},\n",
       "  {'asset': 'GFT', 'free': '18446.00000000', 'locked': '0.00000000'},\n",
       "  {'asset': 'IQ', 'free': '18446.00000000', 'locked': '0.00000000'},\n",
       "  {'asset': 'VAI', 'free': '18466.00000000', 'locked': '0.00000000'},\n",
       "  {'asset': 'NTRN', 'free': '490.00000000', 'locked': '0.00000000'},\n",
       "  {'asset': 'TIA', 'free': '28.00000000', 'locked': '0.00000000'},\n",
       "  {'asset': 'MEME', 'free': '18446.00000000', 'locked': '0.00000000'},\n",
       "  {'asset': 'ORDI', 'free': '9.00000000', 'locked': '0.00000000'},\n",
       "  {'asset': 'BEAMX', 'free': '18446.00000000', 'locked': '0.00000000'},\n",
       "  {'asset': 'VIC', 'free': '708.00000000', 'locked': '0.00000000'},\n",
       "  {'asset': 'BLUR', 'free': '858.00000000', 'locked': '0.00000000'},\n",
       "  {'asset': 'VANRY', 'free': '8847.00000000', 'locked': '0.00000000'},\n",
       "  {'asset': 'AEUR', 'free': '464.00000000', 'locked': '0.00000000'},\n",
       "  {'asset': 'JTO', 'free': '278.00000000', 'locked': '0.00000000'},\n",
       "  {'asset': '1000SATS', 'free': '18446.00', 'locked': '0.00'},\n",
       "  {'asset': 'BONK', 'free': '18446.00', 'locked': '0.00'},\n",
       "  {'asset': 'ACE', 'free': '59.00000000', 'locked': '0.00000000'},\n",
       "  {'asset': 'NFP', 'free': '963.00000000', 'locked': '0.00000000'},\n",
       "  {'asset': 'AI', 'free': '459.00000000', 'locked': '0.00000000'},\n",
       "  {'asset': 'XAI', 'free': '601.00000000', 'locked': '0.00000000'},\n",
       "  {'asset': 'MANTA', 'free': '191.00000000', 'locked': '0.00000000'},\n",
       "  {'asset': 'ALT', 'free': '1615.00000000', 'locked': '0.00000000'},\n",
       "  {'asset': 'JUP', 'free': '903.00000000', 'locked': '0.00000000'},\n",
       "  {'asset': 'PYTH', 'free': '1067.00000000', 'locked': '0.00000000'},\n",
       "  {'asset': 'RONIN', 'free': '196.00000000', 'locked': '0.00000000'},\n",
       "  {'asset': 'DYM', 'free': '85.00000000', 'locked': '0.00000000'}],\n",
       " 'permissions': ['SPOT'],\n",
       " 'uid': 1685392685186516891}"
      ]
     },
     "execution_count": 146,
     "metadata": {},
     "output_type": "execute_result"
    }
   ],
   "source": [
    "info = client.get_account()\n",
    "info"
   ]
  },
  {
   "cell_type": "code",
   "execution_count": 140,
   "id": "f9c825ad",
   "metadata": {},
   "outputs": [],
   "source": [
    "from binance.enums import *\n",
    "order = client.create_order(\n",
    "    symbol='LINKUSDT',\n",
    "    side=SIDE_BUY,\n",
    "    type=ORDER_TYPE_LIMIT,\n",
    "    timeInForce=TIME_IN_FORCE_GTC,\n",
    "    quantity=2,\n",
    "    price='21.0')"
   ]
  },
  {
   "cell_type": "code",
   "execution_count": 139,
   "id": "99624597",
   "metadata": {},
   "outputs": [
    {
     "data": {
      "text/plain": [
       "{'symbol': 'LINKUSDT', 'price': '20.06100000'}"
      ]
     },
     "execution_count": 139,
     "metadata": {},
     "output_type": "execute_result"
    }
   ],
   "source": [
    "prices = client.get_all_tickers()\n",
    "LINKUSDT_data = next(item for item in prices if item['symbol'] == 'LINKUSDT')\n",
    "LINKUSDT_data\n"
   ]
  },
  {
   "cell_type": "code",
   "execution_count": 145,
   "id": "55e66196",
   "metadata": {},
   "outputs": [
    {
     "data": {
      "text/plain": [
       "[{'symbol': 'LINKUSDT',\n",
       "  'orderId': 4598180,\n",
       "  'orderListId': -1,\n",
       "  'clientOrderId': 'z3K6HGV0G89afHR7tg69Gp',\n",
       "  'price': '21.00000000',\n",
       "  'origQty': '2.00000000',\n",
       "  'executedQty': '2.00000000',\n",
       "  'cummulativeQuoteQty': '40.11600000',\n",
       "  'status': 'FILLED',\n",
       "  'timeInForce': 'GTC',\n",
       "  'type': 'LIMIT',\n",
       "  'side': 'BUY',\n",
       "  'stopPrice': '0.00000000',\n",
       "  'icebergQty': '0.00000000',\n",
       "  'time': 1709843019123,\n",
       "  'updateTime': 1709843019123,\n",
       "  'isWorking': True,\n",
       "  'workingTime': 1709843019123,\n",
       "  'origQuoteOrderQty': '0.00000000',\n",
       "  'selfTradePreventionMode': 'EXPIRE_MAKER'},\n",
       " {'symbol': 'LINKUSDT',\n",
       "  'orderId': 4598435,\n",
       "  'orderListId': -1,\n",
       "  'clientOrderId': 'PqainVMOXUeY3PAMdVqEIQ',\n",
       "  'price': '19.00000000',\n",
       "  'origQty': '2.00000000',\n",
       "  'executedQty': '2.00000000',\n",
       "  'cummulativeQuoteQty': '40.12600000',\n",
       "  'status': 'FILLED',\n",
       "  'timeInForce': 'GTC',\n",
       "  'type': 'LIMIT',\n",
       "  'side': 'SELL',\n",
       "  'stopPrice': '0.00000000',\n",
       "  'icebergQty': '0.00000000',\n",
       "  'time': 1709843201416,\n",
       "  'updateTime': 1709843201416,\n",
       "  'isWorking': True,\n",
       "  'workingTime': 1709843201416,\n",
       "  'origQuoteOrderQty': '0.00000000',\n",
       "  'selfTradePreventionMode': 'EXPIRE_MAKER'}]"
      ]
     },
     "execution_count": 145,
     "metadata": {},
     "output_type": "execute_result"
    }
   ],
   "source": [
    "orders = client.get_all_orders(symbol='LINKUSDT')\n",
    "orders"
   ]
  },
  {
   "cell_type": "code",
   "execution_count": 144,
   "id": "34a6963f",
   "metadata": {},
   "outputs": [],
   "source": [
    "order = client.create_order(\n",
    "    symbol='LINKUSDT',\n",
    "    side=SIDE_SELL,\n",
    "    type=ORDER_TYPE_LIMIT,\n",
    "    timeInForce=TIME_IN_FORCE_GTC,\n",
    "    quantity=2,\n",
    "    price='19.0')"
   ]
  },
  {
   "cell_type": "markdown",
   "id": "b02eb6b2",
   "metadata": {},
   "source": [
    "# TO DO list"
   ]
  },
  {
   "cell_type": "markdown",
   "id": "c11ac3b0",
   "metadata": {},
   "source": [
    "\n",
    "- ~~tee screener, mis võtab nädalaselt graafikult vastavalt elder impulsile~~\n",
    "- ~~vastavalt bull ja bear setile joonistan esmased graafikud endale välja~~\n",
    "- ~~salevesta graafikud foldrisse~~\n",
    "- ~~esita esmane order API-ga~~\n",
    "- tee esmane web dashboard-i layout\n",
    "- tee script graafikute salvestamiseks\n",
    "- pane skript automaatselt tööle\n",
    "- näita graafikuid dashboardil\n",
    "- näita dashboardil account infot\n",
    "- tee orderite tegemine nuppudega dashboardile\n",
    "- secret_key on vaja panna eraldi faili\n",
    "\n"
   ]
  }
 ],
 "metadata": {
  "kernelspec": {
   "display_name": "tradingbot",
   "language": "python",
   "name": "python3"
  },
  "language_info": {
   "codemirror_mode": {
    "name": "ipython",
    "version": 3
   },
   "file_extension": ".py",
   "mimetype": "text/x-python",
   "name": "python",
   "nbconvert_exporter": "python",
   "pygments_lexer": "ipython3",
   "version": "3.12.1"
  }
 },
 "nbformat": 4,
 "nbformat_minor": 5
}
