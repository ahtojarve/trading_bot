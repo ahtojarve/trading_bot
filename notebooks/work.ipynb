{
 "cells": [
  {
   "cell_type": "markdown",
   "id": "70d60c15-63e0-461f-b40f-85fc66bd0da1",
   "metadata": {},
   "source": [
    "# SCREENER"
   ]
  },
  {
   "cell_type": "markdown",
   "id": "097c1c65",
   "metadata": {},
   "source": [
    "Importing packages"
   ]
  },
  {
   "cell_type": "code",
   "execution_count": 6,
   "id": "ca2e9cb1-fbce-4cb7-acd1-506595a40e6e",
   "metadata": {},
   "outputs": [],
   "source": [
    "\n",
    "# ========================\n",
    "# Data Import and Handling\n",
    "# ========================\n",
    "import pandas as pd  # For data manipulation and analysis\n",
    "import requests  # For making HTTP requests\n",
    "\n",
    "# =======================\n",
    "# Date and Time Handling\n",
    "# =======================\n",
    "from datetime import datetime, timedelta  # For working with dates and times\n",
    "\n",
    "# ==============================\n",
    "# Technical Analysis Indicators\n",
    "# ==============================\n",
    "import talib  # For technical analysis indicators\n",
    "\n",
    "# ===================\n",
    "# Plotting with Matplotlib\n",
    "# ===================\n",
    "import matplotlib.pyplot as plt  # For plotting using Matplotlib\n",
    "\n",
    "# ======================\n",
    "# Interactive Plotting\n",
    "# ======================\n",
    "import plotly.graph_objects as go  # For interactive plotting with Plotly\n",
    "\n",
    "# ============================\n",
    "# Statistical Data Visualization\n",
    "# ============================\n",
    "import seaborn as sns  # For statistical data visualization\n",
    "\n",
    "# ==============================\n",
    "# Displaying HTML in IPython\n",
    "# ==============================\n",
    "from IPython.display import HTML  \n",
    "\n",
    "# ===============================\n",
    "# Financial Charting with mplfinance\n",
    "# ===============================\n",
    "import mplfinance as mpf  # For financial charting with Matplotlib\n",
    "\n"
   ]
  },
  {
   "cell_type": "code",
   "execution_count": 7,
   "id": "e822ba45",
   "metadata": {},
   "outputs": [],
   "source": [
    "API_URL = 'https://api.binance.com/api/v3/klines' # Binance API endpoint for candlestick data"
   ]
  },
  {
   "cell_type": "markdown",
   "id": "9047d6a5-cb4f-4e60-a2b0-aa9af9df685a",
   "metadata": {},
   "source": [
    "## Functions"
   ]
  },
  {
   "cell_type": "code",
   "execution_count": 12,
   "id": "37e522c4-cb49-49cc-8b8e-f694373eaee2",
   "metadata": {},
   "outputs": [],
   "source": [
    "# ==============================\n",
    "# RETRIEVING DATA FROM API\n",
    "# ==============================\n",
    "\n",
    "#The variable days_back represents the number of days in the past from which I intend to retrieve the data.\n",
    "#The variable symbol is a coin pair. For example if you want bitcoin historical data, the symbol to use is BTCUSDT. \n",
    "\n",
    "\n",
    "def get_historical_data(symbol, days_back, interval):\n",
    "    # Calculate the start time in milliseconds\n",
    "    start_time = int((datetime.now() - timedelta(days=days_back)).timestamp() * 1000)\n",
    "\n",
    "    # Calculate the current time in milliseconds\n",
    "    end_time = int(datetime.now().timestamp() * 1000)\n",
    "\n",
    "    # Make an API request to retrieve historical data\n",
    "    response = requests.get(API_URL, params={\n",
    "        'symbol': symbol,\n",
    "        'interval': interval,\n",
    "        'startTime': start_time,\n",
    "        'endTime': end_time,\n",
    "        'limit': 1000  # Maximum number of data points per request\n",
    "    })\n",
    "\n",
    "    # Check if the request was successful (status code 200)\n",
    "    if response.status_code == 200:\n",
    "        # API request was successful\n",
    "        hist_json = response.json()\n",
    "\n",
    "        # Making a df from response\n",
    "        # Extract only the relevant elements for each row\n",
    "        df = pd.DataFrame(hist_json, columns=[\n",
    "            'Time', 'Open Price', 'High Price', 'Low Price',\n",
    "            'Close Price', 'Volume', 'Kline Close Time', 'Quote Asset Volume',\n",
    "            'Number of Trades', 'Taker Buy Base Asset Volume',\n",
    "            'Taker Buy Quote Asset Volume', 'Unused Field'\n",
    "        ])\n",
    "\n",
    "        # Select only the relevant columns (Open Time, Open Price, High Price, Low Price, Close Price, Volume)\n",
    "        df = df[['Time', 'Open Price', 'High Price', 'Low Price', 'Close Price', 'Volume']]\n",
    "        df['dateTime'] = pd.to_datetime(df['Time'], unit='ms')\n",
    "        print(\"Retrived data for: \" + symbol)\n",
    "\n",
    "        return df\n",
    "    else:\n",
    "        # API request was not successful, print an error message\n",
    "        print(f\"Error: API request failed with status code {response.status_code}\")\n",
    "        return None\n",
    "\n",
    "# ==============================\n",
    "# TRANSFORM DATA\n",
    "# ==============================\n",
    "\n",
    "def transform_hist_data(df_name):\n",
    "    df_name['Open Price'] = pd.to_numeric(df_name['Open Price'], errors='coerce').astype(float)\n",
    "    df_name['High Price'] = pd.to_numeric(df_name['High Price'], errors='coerce').astype(float)\n",
    "    df_name['Low Price'] = pd.to_numeric(df_name['Low Price'], errors='coerce').astype(float)\n",
    "    df_name['Close Price'] = pd.to_numeric(df_name['Close Price'], errors='coerce').astype(float)\n",
    "    df_name['Volume'] = pd.to_numeric(df_name['Volume'], errors='coerce').astype(float)\n",
    "    return df_name\n",
    "\n",
    "# ==============================\n",
    "# CALCULATE EMA 12, 13 and 26\n",
    "# ==============================\n",
    "def calculate_emas(df_name):\n",
    "    df_name['13EMA'] = df_name['Close Price'].ewm(span=13, adjust=False).mean()\n",
    "    df_name['12EMA'] = df_name['Close Price'].ewm(span=12, adjust=False).mean()\n",
    "    df_name['26EMA'] = df_name['Close Price'].ewm(span=26, adjust=False).mean()\n",
    "    return df_name\n",
    "    \n",
    "# ==============================\n",
    "# CALCULATE MACD 12, 26, 9\n",
    "# ==============================\n",
    "\n",
    "def calculate_macd(df_name):\n",
    "    # Calculate MACD Line (12EMA - 26EMA)\n",
    "    df_name['MACD'] = df_name['12EMA'] - df_name['26EMA']\n",
    "\n",
    "    # Calculate Signal Line (9-period EMA of MACD)\n",
    "    df_name['Signal'] = df_name['MACD'].ewm(span=9, adjust=False).mean()\n",
    "\n",
    "    # Calculate MACD Histogram\n",
    "    df_name['Histogram'] = df_name['MACD'] - df_name['Signal']\n",
    "    return df_name\n",
    "    \n",
    "# ==============================\n",
    "# CALCULATE ELDER IMPULSE\n",
    "# ==============================\n",
    "\n",
    "def calculate_elder(df_name):\n",
    "\n",
    "    for i in range(1, len(df_name)):\n",
    "        ema_comparison = 0\n",
    "        macd_comparison = 0\n",
    "        first_row_ema = df_name.iloc[i-1]['13EMA']\n",
    "        second_row_ema = df_name.iloc[i]['13EMA']\n",
    "        if second_row_ema > first_row_ema:\n",
    "            ema_comparison = 1\n",
    "        elif second_row_ema < first_row_ema:\n",
    "            ema_comparison = -1\n",
    "        first_row_macd = df_name.iloc[i-1]['Histogram']\n",
    "        second_row_macd = df_name.iloc[i]['Histogram']\n",
    "        if second_row_macd > first_row_macd:\n",
    "            macd_comparison = 1\n",
    "        elif second_row_macd < first_row_macd:\n",
    "            macd_comparison = -1\n",
    "        if ema_comparison == 1 and macd_comparison == 1:\n",
    "              df_name.at[i, 'elder_impulse'] = 1\n",
    "        elif ema_comparison == -1 and macd_comparison == -1:\n",
    "            df_name.at[i, 'elder_impulse'] = -1\n",
    "        else:\n",
    "            df_name.at[i, 'elder_impulse'] = 0\n",
    "    return df_name\n",
    "# ==============================\n",
    "# CALCULATE ATR CHANNELS\n",
    "# ==============================\n",
    "def calculate_ATR(df_name):\n",
    "    df_name['ATR21'] = talib.ATR(df_name['High Price'], df_name['Low Price'], df_name['Close Price'], timeperiod=21)\n",
    "    df_name['21EMA'] = df_name['Close Price'].ewm(span=21, adjust=False).mean()\n",
    "    df_name['ATR+1'] = df_name['21EMA'] + df_name['ATR21'] \n",
    "    df_name['ATR+2'] = df_name['21EMA'] + 2 * df_name['ATR21'] \n",
    "    df_name['ATR+3'] = df_name['21EMA'] + 3 * df_name['ATR21'] \n",
    "    df_name['ATR-1'] = df_name['21EMA'] - df_name['ATR21'] \n",
    "    df_name['ATR-2'] = df_name['21EMA'] - 2 * df_name['ATR21'] \n",
    "    df_name['ATR-3'] = df_name['21EMA'] - 3 * df_name['ATR21'] \n",
    "    return df_name\n",
    "# ==============================\n",
    "# TOP CRYPTO TO USDT LIST\n",
    "# ==============================\n",
    "\n",
    "def get_top_cryptos_with_usdt(number = 30):\n",
    "    url = \"https://api.binance.com/api/v3/ticker/24hr\"\n",
    "    response = requests.get(url)\n",
    "\n",
    "    if response.status_code == 200:\n",
    "        data = response.json()\n",
    "        symbol_count_dict = {entry.get('symbol', None): entry.get('count', None) for entry in data if 'USDT' in entry.get('symbol', '')}\n",
    "        sorted_dict_values = dict(sorted(symbol_count_dict.items(), key=lambda item: item[1], reverse = True))\n",
    "        top_crypto_usdt = list(sorted_dict_values.keys())[:number]\n",
    "        return top_crypto_usdt\n",
    "    else:\n",
    "        print(f\"Error: {response.status_code}\")\n",
    "        return None\n",
    "\n",
    "# Run the function\n",
    "top_cryptos_usdt = get_top_cryptos_with_usdt(100)\n",
    "\n",
    "\n"
   ]
  },
  {
   "cell_type": "markdown",
   "id": "ec1d9ae0-f482-456a-a131-82d6a7242e70",
   "metadata": {},
   "source": [
    "## Creating a table with elder impulse"
   ]
  },
  {
   "cell_type": "markdown",
   "id": "5e2aeb56-b200-42b1-ab9b-4eec9785a283",
   "metadata": {},
   "source": [
    "Elder Impulse\n",
    "https://school.stockcharts.com/doku.php?id=chart_analysis:elder_impulse_system\n",
    "MACD-histogram\n",
    "https://www.investopedia.com/ask/answers/122414/what-moving-average-convergence-divergence-macd-formula-and-how-it-calculated.asp"
   ]
  },
  {
   "cell_type": "code",
   "execution_count": 13,
   "id": "5f1f88b5-1183-418f-9a8c-a442cd8dc806",
   "metadata": {},
   "outputs": [
    {
     "name": "stdout",
     "output_type": "stream",
     "text": [
      "Retrived data for: BTCUSDT\n"
     ]
    }
   ],
   "source": [
    "df_long = get_historical_data('BTCUSDT', 360, '1w')\n",
    "df_long = transform_hist_data(df_long)\n",
    "df_long = calculate_emas(df_long)\n",
    "df_long = calculate_macd(df_long)\n",
    "df_long = calculate_elder(df_long)"
   ]
  },
  {
   "cell_type": "code",
   "execution_count": 14,
   "id": "d7c1e890-b576-4b99-9b21-a9d692cadc28",
   "metadata": {
    "scrolled": true
   },
   "outputs": [
    {
     "data": {
      "text/html": [
       "<div>\n",
       "<style scoped>\n",
       "    .dataframe tbody tr th:only-of-type {\n",
       "        vertical-align: middle;\n",
       "    }\n",
       "\n",
       "    .dataframe tbody tr th {\n",
       "        vertical-align: top;\n",
       "    }\n",
       "\n",
       "    .dataframe thead th {\n",
       "        text-align: right;\n",
       "    }\n",
       "</style>\n",
       "<table border=\"1\" class=\"dataframe\">\n",
       "  <thead>\n",
       "    <tr style=\"text-align: right;\">\n",
       "      <th></th>\n",
       "      <th>Time</th>\n",
       "      <th>Open Price</th>\n",
       "      <th>High Price</th>\n",
       "      <th>Low Price</th>\n",
       "      <th>Close Price</th>\n",
       "      <th>Volume</th>\n",
       "      <th>dateTime</th>\n",
       "      <th>13EMA</th>\n",
       "      <th>12EMA</th>\n",
       "      <th>26EMA</th>\n",
       "      <th>MACD</th>\n",
       "      <th>Signal</th>\n",
       "      <th>Histogram</th>\n",
       "      <th>elder_impulse</th>\n",
       "    </tr>\n",
       "  </thead>\n",
       "  <tbody>\n",
       "    <tr>\n",
       "      <th>42</th>\n",
       "      <td>1704067200000</td>\n",
       "      <td>42283.58</td>\n",
       "      <td>45879.63</td>\n",
       "      <td>40750.00</td>\n",
       "      <td>43929.02</td>\n",
       "      <td>310487.48622</td>\n",
       "      <td>2024-01-01</td>\n",
       "      <td>38590.195710</td>\n",
       "      <td>38995.953657</td>\n",
       "      <td>35008.801205</td>\n",
       "      <td>3987.152452</td>\n",
       "      <td>2903.195983</td>\n",
       "      <td>1083.956469</td>\n",
       "      <td>0.0</td>\n",
       "    </tr>\n",
       "    <tr>\n",
       "      <th>43</th>\n",
       "      <td>1704672000000</td>\n",
       "      <td>43929.01</td>\n",
       "      <td>48969.48</td>\n",
       "      <td>41500.00</td>\n",
       "      <td>41732.35</td>\n",
       "      <td>470798.80434</td>\n",
       "      <td>2024-01-08</td>\n",
       "      <td>39039.074894</td>\n",
       "      <td>39416.937710</td>\n",
       "      <td>35506.841857</td>\n",
       "      <td>3910.095853</td>\n",
       "      <td>3104.575957</td>\n",
       "      <td>805.519896</td>\n",
       "      <td>0.0</td>\n",
       "    </tr>\n",
       "    <tr>\n",
       "      <th>44</th>\n",
       "      <td>1705276800000</td>\n",
       "      <td>41732.35</td>\n",
       "      <td>43578.01</td>\n",
       "      <td>40280.00</td>\n",
       "      <td>41580.33</td>\n",
       "      <td>238486.27274</td>\n",
       "      <td>2024-01-15</td>\n",
       "      <td>39402.111338</td>\n",
       "      <td>39749.767293</td>\n",
       "      <td>35956.729867</td>\n",
       "      <td>3793.037426</td>\n",
       "      <td>3242.268250</td>\n",
       "      <td>550.769175</td>\n",
       "      <td>0.0</td>\n",
       "    </tr>\n",
       "    <tr>\n",
       "      <th>45</th>\n",
       "      <td>1705881600000</td>\n",
       "      <td>41580.32</td>\n",
       "      <td>42842.68</td>\n",
       "      <td>38555.00</td>\n",
       "      <td>42031.06</td>\n",
       "      <td>274603.16207</td>\n",
       "      <td>2024-01-22</td>\n",
       "      <td>39777.675432</td>\n",
       "      <td>40100.735402</td>\n",
       "      <td>36406.680247</td>\n",
       "      <td>3694.055154</td>\n",
       "      <td>3332.625631</td>\n",
       "      <td>361.429523</td>\n",
       "      <td>0.0</td>\n",
       "    </tr>\n",
       "    <tr>\n",
       "      <th>46</th>\n",
       "      <td>1706486400000</td>\n",
       "      <td>42031.05</td>\n",
       "      <td>43882.36</td>\n",
       "      <td>41804.88</td>\n",
       "      <td>42582.88</td>\n",
       "      <td>203036.61925</td>\n",
       "      <td>2024-01-29</td>\n",
       "      <td>40178.418942</td>\n",
       "      <td>40482.603801</td>\n",
       "      <td>36864.176525</td>\n",
       "      <td>3618.427276</td>\n",
       "      <td>3389.785960</td>\n",
       "      <td>228.641316</td>\n",
       "      <td>0.0</td>\n",
       "    </tr>\n",
       "    <tr>\n",
       "      <th>47</th>\n",
       "      <td>1707091200000</td>\n",
       "      <td>42582.88</td>\n",
       "      <td>48592.66</td>\n",
       "      <td>42258.10</td>\n",
       "      <td>48299.99</td>\n",
       "      <td>262240.48357</td>\n",
       "      <td>2024-02-05</td>\n",
       "      <td>41338.643379</td>\n",
       "      <td>41685.278601</td>\n",
       "      <td>37711.273820</td>\n",
       "      <td>3974.004781</td>\n",
       "      <td>3506.629724</td>\n",
       "      <td>467.375057</td>\n",
       "      <td>1.0</td>\n",
       "    </tr>\n",
       "    <tr>\n",
       "      <th>48</th>\n",
       "      <td>1707696000000</td>\n",
       "      <td>48300.00</td>\n",
       "      <td>52816.62</td>\n",
       "      <td>47710.01</td>\n",
       "      <td>52137.67</td>\n",
       "      <td>310862.30170</td>\n",
       "      <td>2024-02-12</td>\n",
       "      <td>42881.361468</td>\n",
       "      <td>43293.338816</td>\n",
       "      <td>38779.895759</td>\n",
       "      <td>4513.443057</td>\n",
       "      <td>3707.992391</td>\n",
       "      <td>805.450666</td>\n",
       "      <td>1.0</td>\n",
       "    </tr>\n",
       "    <tr>\n",
       "      <th>49</th>\n",
       "      <td>1708300800000</td>\n",
       "      <td>52137.68</td>\n",
       "      <td>52985.00</td>\n",
       "      <td>50521.00</td>\n",
       "      <td>51728.85</td>\n",
       "      <td>223366.16186</td>\n",
       "      <td>2024-02-19</td>\n",
       "      <td>44145.288401</td>\n",
       "      <td>44591.109768</td>\n",
       "      <td>39739.077555</td>\n",
       "      <td>4852.032213</td>\n",
       "      <td>3936.800355</td>\n",
       "      <td>915.231858</td>\n",
       "      <td>1.0</td>\n",
       "    </tr>\n",
       "    <tr>\n",
       "      <th>50</th>\n",
       "      <td>1708905600000</td>\n",
       "      <td>51728.85</td>\n",
       "      <td>64000.00</td>\n",
       "      <td>50901.44</td>\n",
       "      <td>63113.97</td>\n",
       "      <td>417907.83383</td>\n",
       "      <td>2024-02-26</td>\n",
       "      <td>46855.100058</td>\n",
       "      <td>47440.780573</td>\n",
       "      <td>41470.551069</td>\n",
       "      <td>5970.229504</td>\n",
       "      <td>4343.486185</td>\n",
       "      <td>1626.743319</td>\n",
       "      <td>1.0</td>\n",
       "    </tr>\n",
       "    <tr>\n",
       "      <th>51</th>\n",
       "      <td>1709510400000</td>\n",
       "      <td>63113.97</td>\n",
       "      <td>67524.99</td>\n",
       "      <td>62300.00</td>\n",
       "      <td>67335.70</td>\n",
       "      <td>69899.23920</td>\n",
       "      <td>2024-03-04</td>\n",
       "      <td>49780.900050</td>\n",
       "      <td>50501.537408</td>\n",
       "      <td>43386.488027</td>\n",
       "      <td>7115.049381</td>\n",
       "      <td>4897.798824</td>\n",
       "      <td>2217.250557</td>\n",
       "      <td>1.0</td>\n",
       "    </tr>\n",
       "  </tbody>\n",
       "</table>\n",
       "</div>"
      ],
      "text/plain": [
       "             Time  Open Price  High Price  Low Price  Close Price  \\\n",
       "42  1704067200000    42283.58    45879.63   40750.00     43929.02   \n",
       "43  1704672000000    43929.01    48969.48   41500.00     41732.35   \n",
       "44  1705276800000    41732.35    43578.01   40280.00     41580.33   \n",
       "45  1705881600000    41580.32    42842.68   38555.00     42031.06   \n",
       "46  1706486400000    42031.05    43882.36   41804.88     42582.88   \n",
       "47  1707091200000    42582.88    48592.66   42258.10     48299.99   \n",
       "48  1707696000000    48300.00    52816.62   47710.01     52137.67   \n",
       "49  1708300800000    52137.68    52985.00   50521.00     51728.85   \n",
       "50  1708905600000    51728.85    64000.00   50901.44     63113.97   \n",
       "51  1709510400000    63113.97    67524.99   62300.00     67335.70   \n",
       "\n",
       "          Volume   dateTime         13EMA         12EMA         26EMA  \\\n",
       "42  310487.48622 2024-01-01  38590.195710  38995.953657  35008.801205   \n",
       "43  470798.80434 2024-01-08  39039.074894  39416.937710  35506.841857   \n",
       "44  238486.27274 2024-01-15  39402.111338  39749.767293  35956.729867   \n",
       "45  274603.16207 2024-01-22  39777.675432  40100.735402  36406.680247   \n",
       "46  203036.61925 2024-01-29  40178.418942  40482.603801  36864.176525   \n",
       "47  262240.48357 2024-02-05  41338.643379  41685.278601  37711.273820   \n",
       "48  310862.30170 2024-02-12  42881.361468  43293.338816  38779.895759   \n",
       "49  223366.16186 2024-02-19  44145.288401  44591.109768  39739.077555   \n",
       "50  417907.83383 2024-02-26  46855.100058  47440.780573  41470.551069   \n",
       "51   69899.23920 2024-03-04  49780.900050  50501.537408  43386.488027   \n",
       "\n",
       "           MACD       Signal    Histogram  elder_impulse  \n",
       "42  3987.152452  2903.195983  1083.956469            0.0  \n",
       "43  3910.095853  3104.575957   805.519896            0.0  \n",
       "44  3793.037426  3242.268250   550.769175            0.0  \n",
       "45  3694.055154  3332.625631   361.429523            0.0  \n",
       "46  3618.427276  3389.785960   228.641316            0.0  \n",
       "47  3974.004781  3506.629724   467.375057            1.0  \n",
       "48  4513.443057  3707.992391   805.450666            1.0  \n",
       "49  4852.032213  3936.800355   915.231858            1.0  \n",
       "50  5970.229504  4343.486185  1626.743319            1.0  \n",
       "51  7115.049381  4897.798824  2217.250557            1.0  "
      ]
     },
     "execution_count": 14,
     "metadata": {},
     "output_type": "execute_result"
    }
   ],
   "source": [
    "df_long.tail(10)"
   ]
  },
  {
   "cell_type": "markdown",
   "id": "19de6537-bc3a-48a9-ada9-53ba5bac5e08",
   "metadata": {},
   "source": [
    "if elder_impulse is 1, it means you can go long; \n",
    "if it is -1 , you can go short;\n",
    "if it is 0 you can do both. \n",
    "It is best to go long if impulse is 1 or 0 after -1. (This should be considered good metricks for stock screening)"
   ]
  },
  {
   "cell_type": "markdown",
   "id": "985816ae-69d5-4390-b1e2-7cdf2b53fa61",
   "metadata": {},
   "source": [
    "# SCREENER"
   ]
  },
  {
   "cell_type": "markdown",
   "id": "49c60102-e9e3-408d-8802-56e9e11ddd46",
   "metadata": {},
   "source": [
    "- Leian top krüptod\n",
    "- Laen iga krüpto kohta alla pika vaate\n",
    "- Teen EMA ja MACD arvutused\n",
    "- Teen Elder Impulse arvutused\n",
    "- Värviliselt näitan ainult neid, kus peale punast tuleb roheline või sinine või siis peale rohelist tuleb sinine või punane\n"
   ]
  },
  {
   "cell_type": "code",
   "execution_count": 15,
   "id": "070df240-9838-4290-b925-618950a059fe",
   "metadata": {
    "scrolled": true
   },
   "outputs": [
    {
     "name": "stdout",
     "output_type": "stream",
     "text": [
      "Retrived data for: SHIBUSDT\n",
      "SHIBUSDT is not acceptable\n",
      "Retrived data for: BTCUSDT\n",
      "BTCUSDT is not acceptable\n",
      "Retrived data for: PEPEUSDT\n",
      "PEPEUSDT is not acceptable\n",
      "Retrived data for: BONKUSDT\n",
      "BONKUSDT is not acceptable\n",
      "Retrived data for: FDUSDUSDT\n",
      "FDUSDUSDT is not acceptable\n",
      "Retrived data for: DOGEUSDT\n",
      "DOGEUSDT is not acceptable\n",
      "Retrived data for: FLOKIUSDT\n",
      "FLOKIUSDT is not acceptable\n",
      "Retrived data for: ETHUSDT\n",
      "ETHUSDT is not acceptable\n",
      "Retrived data for: MEMEUSDT\n",
      "MEMEUSDT is not acceptable\n",
      "Retrived data for: SOLUSDT\n",
      "SOLUSDT is not acceptable\n",
      "Retrived data for: 1000SATSUSDT\n",
      "1000SATSUSDT is not acceptable\n",
      "Retrived data for: JASMYUSDT\n",
      "JASMYUSDT is not acceptable\n",
      "Retrived data for: ORDIUSDT\n",
      "ORDIUSDT is not acceptable\n",
      "Retrived data for: FTMUSDT\n",
      "FTMUSDT is not acceptable\n",
      "Retrived data for: LUNCUSDT\n",
      "LUNCUSDT is not acceptable\n",
      "Retrived data for: PEOPLEUSDT\n",
      "PEOPLEUSDT is not acceptable\n",
      "Retrived data for: WLDUSDT\n",
      "WLDUSDT is not acceptable\n",
      "Retrived data for: QTUMUSDT\n",
      "QTUMUSDT is not acceptable\n",
      "Retrived data for: XRPUSDT\n",
      "XRPUSDT is not acceptable\n",
      "Retrived data for: FILUSDT\n",
      "FILUSDT is not acceptable\n",
      "Retrived data for: XECUSDT\n",
      "XECUSDT is not acceptable\n",
      "Retrived data for: CKBUSDT\n",
      "CKBUSDT is not acceptable\n",
      "Retrived data for: MATICUSDT\n",
      "MATICUSDT is not acceptable\n",
      "Retrived data for: FETUSDT\n",
      "FETUSDT is not acceptable\n",
      "Retrived data for: ADAUSDT\n",
      "ADAUSDT is not acceptable\n",
      "Retrived data for: AGIXUSDT\n",
      "AGIXUSDT is not acceptable\n",
      "Retrived data for: BCHUSDT\n",
      "BCHUSDT is not acceptable\n",
      "Retrived data for: DOTUSDT\n",
      "DOTUSDT is not acceptable\n",
      "Retrived data for: USDTTRY\n",
      "USDTTRY is not acceptable\n",
      "Retrived data for: OMUSDT\n",
      "OMUSDT is not acceptable\n",
      "Retrived data for: BNBUSDT\n",
      "BNBUSDT is not acceptable\n",
      "Retrived data for: ONEUSDT\n",
      "ONEUSDT is not acceptable\n",
      "Retrived data for: GLMUSDT\n",
      "GLMUSDT is not acceptable\n",
      "Retrived data for: ARBUSDT\n",
      "ARBUSDT is not acceptable\n",
      "Retrived data for: SEIUSDT\n",
      "SEIUSDT is not acceptable\n",
      "Retrived data for: JTOUSDT\n",
      "JTOUSDT is not acceptable\n",
      "Retrived data for: SUIUSDT\n",
      "SUIUSDT is not acceptable\n",
      "Retrived data for: LINKUSDT\n"
     ]
    },
    {
     "data": {
      "text/html": [
       "<span style='color:#ff6666'>Added LINKUSDT to bear_set</span>"
      ],
      "text/plain": [
       "<IPython.core.display.HTML object>"
      ]
     },
     "metadata": {},
     "output_type": "display_data"
    },
    {
     "name": "stdout",
     "output_type": "stream",
     "text": [
      "Retrived data for: LEVERUSDT\n",
      "LEVERUSDT is not acceptable\n",
      "Retrived data for: APTUSDT\n",
      "APTUSDT is not acceptable\n",
      "Retrived data for: USDCUSDT\n",
      "USDCUSDT is not acceptable\n",
      "Retrived data for: GALAUSDT\n",
      "GALAUSDT is not acceptable\n",
      "Retrived data for: NEARUSDT\n",
      "NEARUSDT is not acceptable\n",
      "Retrived data for: ACEUSDT\n",
      "ACEUSDT is not acceptable\n",
      "Retrived data for: HOTUSDT\n",
      "HOTUSDT is not acceptable\n",
      "Retrived data for: XAIUSDT\n"
     ]
    },
    {
     "data": {
      "text/html": [
       "<span style='color:#ff6666'>Added XAIUSDT to bear_set</span>"
      ],
      "text/plain": [
       "<IPython.core.display.HTML object>"
      ]
     },
     "metadata": {},
     "output_type": "display_data"
    },
    {
     "name": "stdout",
     "output_type": "stream",
     "text": [
      "Retrived data for: ARKMUSDT\n",
      "ARKMUSDT is not acceptable\n",
      "Retrived data for: SLPUSDT\n",
      "SLPUSDT is not acceptable\n",
      "Retrived data for: ALTUSDT\n",
      "ALTUSDT is not acceptable\n",
      "Retrived data for: EPXUSDT\n",
      "EPXUSDT is not acceptable\n",
      "Retrived data for: CRVUSDT\n",
      "CRVUSDT is not acceptable\n",
      "Retrived data for: ENJUSDT\n",
      "ENJUSDT is not acceptable\n",
      "Retrived data for: AVAXUSDT\n"
     ]
    },
    {
     "data": {
      "text/html": [
       "<span style='color:#ff6666'>Added AVAXUSDT to bear_set</span>"
      ],
      "text/plain": [
       "<IPython.core.display.HTML object>"
      ]
     },
     "metadata": {},
     "output_type": "display_data"
    },
    {
     "name": "stdout",
     "output_type": "stream",
     "text": [
      "Retrived data for: NFPUSDT\n",
      "NFPUSDT is not acceptable\n",
      "Retrived data for: SXPUSDT\n",
      "SXPUSDT is not acceptable\n",
      "Retrived data for: LTCUSDT\n",
      "LTCUSDT is not acceptable\n",
      "Retrived data for: NEOUSDT\n",
      "NEOUSDT is not acceptable\n",
      "Retrived data for: WAVESUSDT\n",
      "WAVESUSDT is not acceptable\n",
      "Retrived data for: JUPUSDT\n",
      "JUPUSDT is not acceptable\n",
      "Retrived data for: RNDRUSDT\n",
      "RNDRUSDT is not acceptable\n",
      "Retrived data for: CFXUSDT\n",
      "CFXUSDT is not acceptable\n",
      "Retrived data for: INJUSDT\n"
     ]
    },
    {
     "data": {
      "text/html": [
       "<span style='color:#ff6666'>Added INJUSDT to bear_set</span>"
      ],
      "text/plain": [
       "<IPython.core.display.HTML object>"
      ]
     },
     "metadata": {},
     "output_type": "display_data"
    },
    {
     "name": "stdout",
     "output_type": "stream",
     "text": [
      "Retrived data for: ATOMUSDT\n",
      "ATOMUSDT is not acceptable\n",
      "Retrived data for: STXUSDT\n",
      "STXUSDT is not acceptable\n",
      "Retrived data for: ICPUSDT\n",
      "ICPUSDT is not acceptable\n",
      "Retrived data for: ARUSDT\n",
      "ARUSDT is not acceptable\n",
      "Retrived data for: APEUSDT\n",
      "APEUSDT is not acceptable\n",
      "Retrived data for: PIXELUSDT\n",
      "PIXELUSDT is not acceptable\n",
      "Retrived data for: SPELLUSDT\n",
      "SPELLUSDT is not acceptable\n",
      "Retrived data for: BADGERUSDT\n",
      "BADGERUSDT is not acceptable\n",
      "Retrived data for: MANTAUSDT\n",
      "MANTAUSDT is not acceptable\n",
      "Retrived data for: PERPUSDT\n",
      "PERPUSDT is not acceptable\n",
      "Retrived data for: OCEANUSDT\n",
      "OCEANUSDT is not acceptable\n",
      "Retrived data for: MOVRUSDT\n",
      "MOVRUSDT is not acceptable\n",
      "Retrived data for: COTIUSDT\n",
      "COTIUSDT is not acceptable\n",
      "Retrived data for: SANDUSDT\n",
      "SANDUSDT is not acceptable\n",
      "Retrived data for: BTTCUSDT\n",
      "BTTCUSDT is not acceptable\n",
      "Retrived data for: BEAMXUSDT\n",
      "BEAMXUSDT is not acceptable\n",
      "Retrived data for: UNIUSDT\n",
      "UNIUSDT is not acceptable\n",
      "Retrived data for: KDAUSDT\n",
      "KDAUSDT is not acceptable\n",
      "Retrived data for: AUDIOUSDT\n",
      "AUDIOUSDT is not acceptable\n",
      "Retrived data for: LUNAUSDT\n",
      "LUNAUSDT is not acceptable\n",
      "Retrived data for: WRXUSDT\n",
      "WRXUSDT is not acceptable\n",
      "Retrived data for: AIUSDT\n",
      "AIUSDT is not acceptable\n",
      "Retrived data for: USTCUSDT\n",
      "USTCUSDT is not acceptable\n",
      "Retrived data for: ETCUSDT\n",
      "ETCUSDT is not acceptable\n",
      "Retrived data for: AMBUSDT\n",
      "AMBUSDT is not acceptable\n",
      "Retrived data for: THETAUSDT\n",
      "THETAUSDT is not acceptable\n",
      "Retrived data for: RAYUSDT\n"
     ]
    },
    {
     "data": {
      "text/html": [
       "<span style='color:#ff6666'>Added RAYUSDT to bear_set</span>"
      ],
      "text/plain": [
       "<IPython.core.display.HTML object>"
      ]
     },
     "metadata": {},
     "output_type": "display_data"
    },
    {
     "name": "stdout",
     "output_type": "stream",
     "text": [
      "Retrived data for: PORTALUSDT\n",
      "PORTALUSDT is not acceptable\n",
      "Retrived data for: MINAUSDT\n",
      "MINAUSDT is not acceptable\n",
      "Retrived data for: MDTUSDT\n",
      "MDTUSDT is not acceptable\n",
      "Retrived data for: EDUUSDT\n",
      "EDUUSDT is not acceptable\n",
      "Retrived data for: ROSEUSDT\n",
      "ROSEUSDT is not acceptable\n",
      "Retrived data for: GASUSDT\n",
      "GASUSDT is not acceptable\n",
      "Retrived data for: VETUSDT\n",
      "VETUSDT is not acceptable\n",
      "Retrived data for: VIDTUSDT\n"
     ]
    },
    {
     "data": {
      "text/html": [
       "<span style='color:#ff6666'>Added VIDTUSDT to bear_set</span>"
      ],
      "text/plain": [
       "<IPython.core.display.HTML object>"
      ]
     },
     "metadata": {},
     "output_type": "display_data"
    },
    {
     "name": "stdout",
     "output_type": "stream",
     "text": [
      "Retrived data for: TIAUSDT\n",
      "TIAUSDT is not acceptable\n",
      "Retrived data for: ALGOUSDT\n",
      "ALGOUSDT is not acceptable\n",
      "Retrived data for: IMXUSDT\n"
     ]
    },
    {
     "data": {
      "text/html": [
       "<span style='color:#ff6666'>Added IMXUSDT to bear_set</span>"
      ],
      "text/plain": [
       "<IPython.core.display.HTML object>"
      ]
     },
     "metadata": {},
     "output_type": "display_data"
    }
   ],
   "source": [
    "\n",
    "\n",
    "# Define colors\n",
    "green_color = \"#00cc00\"\n",
    "red_color = \"#ff6666\"\n",
    "\n",
    "bull_set = set() #Creating a set for all bulls\n",
    "bear_set = set() #Creating a set for all bears\n",
    "\n",
    "for crypto in top_cryptos_usdt:\n",
    "    #Teen arvutused ja panen tabelisse\n",
    "    df = get_historical_data(crypto, 360, '1w')\n",
    "    df = transform_hist_data(df)\n",
    "    df = calculate_emas(df)\n",
    "    df = calculate_macd(df)\n",
    "    df = calculate_elder(df)\n",
    "    #Kui elder on roheline või sinine peale punast, siis on pull\n",
    "    if df.iloc[-2]['elder_impulse'] == -1 and (df.iloc[-1]['elder_impulse'] == 0 or df.iloc[-1]['elder_impulse'] == 1):\n",
    "        bull_set.add(crypto)\n",
    "        display(HTML(f\"<span style='color:{green_color}'>Added {crypto} to bull_set</span>\"))\n",
    "    #Kui elder on punane või sinine peale rohelist, siis on karu\n",
    "    elif df.iloc[-2]['elder_impulse'] == 1 and (df.iloc[-1]['elder_impulse'] == 0 or df.iloc[-1]['elder_impulse'] == -1):\n",
    "        bear_set.add(crypto)\n",
    "        display(HTML(f\"<span style='color:{red_color}'>Added {crypto} to bear_set</span>\"))\n",
    "    else:\n",
    "        print(crypto + \" is not acceptable\")\n",
    "    time.sleep(0.1)\n",
    "    \n",
    "    \n",
    "    "
   ]
  },
  {
   "cell_type": "code",
   "execution_count": 16,
   "id": "51aa1d1e",
   "metadata": {},
   "outputs": [
    {
     "data": {
      "text/plain": [
       "{'AVAXUSDT',\n",
       " 'IMXUSDT',\n",
       " 'INJUSDT',\n",
       " 'LINKUSDT',\n",
       " 'RAYUSDT',\n",
       " 'VIDTUSDT',\n",
       " 'XAIUSDT'}"
      ]
     },
     "execution_count": 16,
     "metadata": {},
     "output_type": "execute_result"
    }
   ],
   "source": [
    "bear_set"
   ]
  },
  {
   "cell_type": "code",
   "execution_count": 17,
   "id": "c2db8fbf",
   "metadata": {},
   "outputs": [
    {
     "data": {
      "text/plain": [
       "set()"
      ]
     },
     "execution_count": 17,
     "metadata": {},
     "output_type": "execute_result"
    }
   ],
   "source": [
    "bull_set"
   ]
  },
  {
   "cell_type": "markdown",
   "id": "beca2e2b-095a-4d5f-9f54-eb03fba60119",
   "metadata": {},
   "source": [
    "## Creating Medium view and ATR channels"
   ]
  },
  {
   "cell_type": "code",
   "execution_count": 25,
   "id": "430bbe63-0ee2-4be3-af1c-df98fe6fbbe0",
   "metadata": {},
   "outputs": [
    {
     "name": "stdout",
     "output_type": "stream",
     "text": [
      "Retrived data for: BTCUSDT\n"
     ]
    }
   ],
   "source": [
    "df_medium = get_historical_data('BTCUSDT', 60, '1d')\n",
    "df_medium = calculate_ATR(df_medium)\n",
    "df_medium = transform_hist_data(df_medium)"
   ]
  },
  {
   "cell_type": "code",
   "execution_count": 27,
   "id": "a0b9e184",
   "metadata": {},
   "outputs": [
    {
     "name": "stdout",
     "output_type": "stream",
     "text": [
      "<class 'pandas.core.frame.DataFrame'>\n",
      "RangeIndex: 60 entries, 0 to 59\n",
      "Data columns (total 15 columns):\n",
      " #   Column       Non-Null Count  Dtype         \n",
      "---  ------       --------------  -----         \n",
      " 0   Time         60 non-null     int64         \n",
      " 1   Open Price   60 non-null     float64       \n",
      " 2   High Price   60 non-null     float64       \n",
      " 3   Low Price    60 non-null     float64       \n",
      " 4   Close Price  60 non-null     float64       \n",
      " 5   Volume       60 non-null     float64       \n",
      " 6   dateTime     60 non-null     datetime64[ns]\n",
      " 7   ATR21        39 non-null     float64       \n",
      " 8   21EMA        60 non-null     float64       \n",
      " 9   ATR+1        39 non-null     float64       \n",
      " 10  ATR+2        39 non-null     float64       \n",
      " 11  ATR+3        39 non-null     float64       \n",
      " 12  ATR-1        39 non-null     float64       \n",
      " 13  ATR-2        39 non-null     float64       \n",
      " 14  ATR-3        39 non-null     float64       \n",
      "dtypes: datetime64[ns](1), float64(13), int64(1)\n",
      "memory usage: 7.2 KB\n"
     ]
    }
   ],
   "source": [
    "df_medium.info()"
   ]
  },
  {
   "cell_type": "code",
   "execution_count": 21,
   "id": "ad1729e9",
   "metadata": {},
   "outputs": [
    {
     "data": {
      "text/html": [
       "<div>\n",
       "<style scoped>\n",
       "    .dataframe tbody tr th:only-of-type {\n",
       "        vertical-align: middle;\n",
       "    }\n",
       "\n",
       "    .dataframe tbody tr th {\n",
       "        vertical-align: top;\n",
       "    }\n",
       "\n",
       "    .dataframe thead th {\n",
       "        text-align: right;\n",
       "    }\n",
       "</style>\n",
       "<table border=\"1\" class=\"dataframe\">\n",
       "  <thead>\n",
       "    <tr style=\"text-align: right;\">\n",
       "      <th></th>\n",
       "      <th>Time</th>\n",
       "      <th>Open Price</th>\n",
       "      <th>High Price</th>\n",
       "      <th>Low Price</th>\n",
       "      <th>Close Price</th>\n",
       "      <th>Volume</th>\n",
       "      <th>dateTime</th>\n",
       "      <th>ATR21</th>\n",
       "      <th>21EMA</th>\n",
       "      <th>ATR+1</th>\n",
       "      <th>ATR+2</th>\n",
       "      <th>ATR+3</th>\n",
       "      <th>ATR-1</th>\n",
       "      <th>ATR-2</th>\n",
       "      <th>ATR-3</th>\n",
       "    </tr>\n",
       "  </thead>\n",
       "  <tbody>\n",
       "    <tr>\n",
       "      <th>0</th>\n",
       "      <td>1704412800000</td>\n",
       "      <td>44151.10</td>\n",
       "      <td>44357.46</td>\n",
       "      <td>42450.00</td>\n",
       "      <td>44145.11</td>\n",
       "      <td>48075.25327</td>\n",
       "      <td>2024-01-05</td>\n",
       "      <td>NaN</td>\n",
       "      <td>44145.110000</td>\n",
       "      <td>NaN</td>\n",
       "      <td>NaN</td>\n",
       "      <td>NaN</td>\n",
       "      <td>NaN</td>\n",
       "      <td>NaN</td>\n",
       "      <td>NaN</td>\n",
       "    </tr>\n",
       "    <tr>\n",
       "      <th>1</th>\n",
       "      <td>1704499200000</td>\n",
       "      <td>44145.12</td>\n",
       "      <td>44214.42</td>\n",
       "      <td>43397.05</td>\n",
       "      <td>43968.32</td>\n",
       "      <td>17835.06144</td>\n",
       "      <td>2024-01-06</td>\n",
       "      <td>NaN</td>\n",
       "      <td>44129.038182</td>\n",
       "      <td>NaN</td>\n",
       "      <td>NaN</td>\n",
       "      <td>NaN</td>\n",
       "      <td>NaN</td>\n",
       "      <td>NaN</td>\n",
       "      <td>NaN</td>\n",
       "    </tr>\n",
       "    <tr>\n",
       "      <th>2</th>\n",
       "      <td>1704585600000</td>\n",
       "      <td>43968.32</td>\n",
       "      <td>44480.59</td>\n",
       "      <td>43572.09</td>\n",
       "      <td>43929.02</td>\n",
       "      <td>23023.85080</td>\n",
       "      <td>2024-01-07</td>\n",
       "      <td>NaN</td>\n",
       "      <td>44110.854711</td>\n",
       "      <td>NaN</td>\n",
       "      <td>NaN</td>\n",
       "      <td>NaN</td>\n",
       "      <td>NaN</td>\n",
       "      <td>NaN</td>\n",
       "      <td>NaN</td>\n",
       "    </tr>\n",
       "    <tr>\n",
       "      <th>3</th>\n",
       "      <td>1704672000000</td>\n",
       "      <td>43929.01</td>\n",
       "      <td>47248.99</td>\n",
       "      <td>43175.00</td>\n",
       "      <td>46951.04</td>\n",
       "      <td>72814.57589</td>\n",
       "      <td>2024-01-08</td>\n",
       "      <td>NaN</td>\n",
       "      <td>44369.053373</td>\n",
       "      <td>NaN</td>\n",
       "      <td>NaN</td>\n",
       "      <td>NaN</td>\n",
       "      <td>NaN</td>\n",
       "      <td>NaN</td>\n",
       "      <td>NaN</td>\n",
       "    </tr>\n",
       "    <tr>\n",
       "      <th>4</th>\n",
       "      <td>1704758400000</td>\n",
       "      <td>46951.04</td>\n",
       "      <td>47972.00</td>\n",
       "      <td>44748.67</td>\n",
       "      <td>46110.00</td>\n",
       "      <td>69927.66617</td>\n",
       "      <td>2024-01-09</td>\n",
       "      <td>NaN</td>\n",
       "      <td>44527.321249</td>\n",
       "      <td>NaN</td>\n",
       "      <td>NaN</td>\n",
       "      <td>NaN</td>\n",
       "      <td>NaN</td>\n",
       "      <td>NaN</td>\n",
       "      <td>NaN</td>\n",
       "    </tr>\n",
       "  </tbody>\n",
       "</table>\n",
       "</div>"
      ],
      "text/plain": [
       "            Time  Open Price  High Price  Low Price  Close Price       Volume  \\\n",
       "0  1704412800000    44151.10    44357.46   42450.00     44145.11  48075.25327   \n",
       "1  1704499200000    44145.12    44214.42   43397.05     43968.32  17835.06144   \n",
       "2  1704585600000    43968.32    44480.59   43572.09     43929.02  23023.85080   \n",
       "3  1704672000000    43929.01    47248.99   43175.00     46951.04  72814.57589   \n",
       "4  1704758400000    46951.04    47972.00   44748.67     46110.00  69927.66617   \n",
       "\n",
       "    dateTime  ATR21         21EMA  ATR+1  ATR+2  ATR+3  ATR-1  ATR-2  ATR-3  \n",
       "0 2024-01-05    NaN  44145.110000    NaN    NaN    NaN    NaN    NaN    NaN  \n",
       "1 2024-01-06    NaN  44129.038182    NaN    NaN    NaN    NaN    NaN    NaN  \n",
       "2 2024-01-07    NaN  44110.854711    NaN    NaN    NaN    NaN    NaN    NaN  \n",
       "3 2024-01-08    NaN  44369.053373    NaN    NaN    NaN    NaN    NaN    NaN  \n",
       "4 2024-01-09    NaN  44527.321249    NaN    NaN    NaN    NaN    NaN    NaN  "
      ]
     },
     "execution_count": 21,
     "metadata": {},
     "output_type": "execute_result"
    }
   ],
   "source": [
    "df_medium.head()"
   ]
  },
  {
   "cell_type": "code",
   "execution_count": 47,
   "id": "2bea54ad-ec6e-4527-b9a0-3e56083c0452",
   "metadata": {},
   "outputs": [],
   "source": [
    "# FUNCTION for drawing medium plotly graph\n",
    "\n",
    "def draw_ATR_GRAPH(df_name):\n",
    "\n",
    "\n",
    "    # Create a candlestick trace\n",
    "    df_name['formatted_date'] = df_name['dateTime'].dt.strftime('%m-%d')\n",
    "    candlestick = go.Candlestick(x=df_name['formatted_date'],\n",
    "                                open=df_name['Open Price'],\n",
    "                                high=df_name['High Price'],\n",
    "                                low=df_name['Low Price'],\n",
    "                                close=df_name['Close Price'],\n",
    "                                name='Candlestick')\n",
    "\n",
    "    # 21 EMA trace\n",
    "    line_trace_21_EMA = go.Scatter(x=df_name['formatted_date'],\n",
    "                        y=df_name['21EMA'],\n",
    "                        mode='lines',\n",
    "                        name='21EMA',\n",
    "                        line=dict(color= 'black'))\n",
    "    # ATR +1 trace\n",
    "    line_trace_ATR_1 = go.Scatter(x=df_name['formatted_date'],\n",
    "                        y=df_name['ATR+1'],\n",
    "                        mode='lines',\n",
    "                        name='ATR+1',\n",
    "                        line=dict(color= 'green'))\n",
    "\n",
    "    # ATR +2 trace\n",
    "    line_trace_ATR_2 = go.Scatter(x=df_name['formatted_date'],\n",
    "                        y=df_name['ATR+2'],\n",
    "                        mode='lines',\n",
    "                        name='ATR+2',\n",
    "                        line=dict(color= 'orange'))\n",
    "\n",
    "    # ATR +1 trace\n",
    "    line_trace_ATR_1 = go.Scatter(x=df_name['formatted_date'],\n",
    "                        y=df_name['ATR+1'],\n",
    "                        mode='lines',\n",
    "                        name='ATR+1',\n",
    "                        line=dict(color= 'green'))\n",
    "\n",
    "    # ATR +3 trace\n",
    "    line_trace_ATR_3 = go.Scatter(x=df_name['formatted_date'],\n",
    "                        y=df_name['ATR+3'],\n",
    "                        mode='lines',\n",
    "                        name='ATR+3',\n",
    "                        line=dict(color= 'red'))\n",
    "\n",
    "    # ATR -1 trace\n",
    "    line_trace_ATR_neg1 = go.Scatter(x=df_name['formatted_date'],\n",
    "                        y=df_name['ATR-1'],\n",
    "                        mode='lines',\n",
    "                        name='ATR-1',\n",
    "                        line=dict(color= 'green'))\n",
    "    # ATR -2 trace\n",
    "    line_trace_ATR_neg2 = go.Scatter(x=df_name['formatted_date'],\n",
    "                        y=df_name['ATR-2'],\n",
    "                        mode='lines',\n",
    "                        name='ATR-2',\n",
    "                        line=dict(color= 'orange'))\n",
    "    # ATR -3 trace\n",
    "    line_trace_ATR_neg3 = go.Scatter(x=df_name['formatted_date'],\n",
    "                        y=df_name['ATR-3'],\n",
    "                        mode='lines',\n",
    "                        name='ATR-3',\n",
    "                        line=dict(color= 'red'))\n",
    "\n",
    "    # Create layout\n",
    "    layout = go.Layout(title='Candlestick Chart with Extra Line',\n",
    "                    xaxis=dict(type='category', categoryorder='category ascending'),\n",
    "                    yaxis=dict(title='Price'))\n",
    "\n",
    "    # Create figure\n",
    "\n",
    "    fig = go.Figure(data=[candlestick, line_trace_21_EMA, line_trace_ATR_1, line_trace_ATR_2, line_trace_ATR_3, line_trace_ATR_neg1, line_trace_ATR_neg2, line_trace_ATR_neg3], layout=layout)\n",
    "    return fig\n"
   ]
  },
  {
   "cell_type": "code",
   "execution_count": 48,
   "id": "fa31700d",
   "metadata": {},
   "outputs": [
    {
     "data": {
      "application/vnd.plotly.v1+json": {
       "config": {
        "plotlyServerURL": "https://plot.ly"
       },
       "data": [
        {
         "close": [
          44145.11,
          43968.32,
          43929.02,
          46951.04,
          46110,
          46653.99,
          46339.16,
          42782.73,
          42847.99,
          41732.35,
          42511.1,
          43137.95,
          42776.1,
          41327.5,
          41659.03,
          41696.04,
          41580.33,
          39568.02,
          39897.6,
          40084.88,
          39961.09,
          41823.51,
          42120.63,
          42031.06,
          43302.7,
          42941.1,
          42580,
          43082.94,
          43200,
          43011.09,
          42582.88,
          42708.7,
          43098.95,
          44349.6,
          45288.65,
          47132.77,
          47751.09,
          48299.99,
          49917.27,
          49699.59,
          51795.17,
          51880,
          52124.11,
          51642.64,
          52137.67,
          51774.73,
          52258.82,
          51849.39,
          51288.42,
          50744.15,
          51568.22,
          51728.85,
          54476.47,
          57037.34,
          62432.1,
          61130.98,
          62387.9,
          61987.28,
          63113.97,
          67386.87
         ],
         "high": [
          44357.46,
          44214.42,
          44480.59,
          47248.99,
          47972,
          47695.93,
          48969.48,
          46515.53,
          43257,
          43079,
          43400.43,
          43578.01,
          43198,
          42930,
          42196.86,
          41872.56,
          41881.39,
          41689.65,
          40176.74,
          40555,
          40300.24,
          42246.82,
          42200,
          42842.68,
          43333,
          43882.36,
          43745.11,
          43285.13,
          43488,
          43380.01,
          43119.04,
          43569.76,
          43399.98,
          44396.5,
          45614.3,
          48200,
          48170,
          48592.66,
          50334.82,
          50368.61,
          52043.71,
          52816.62,
          52572.08,
          52162.82,
          52377,
          52488.77,
          52985,
          52366.8,
          52065.78,
          51548.54,
          51698,
          51958.55,
          54910,
          57588.15,
          64000,
          63676.35,
          63114.23,
          62433.19,
          63231.88,
          67524.99
         ],
         "low": [
          42450,
          43397.05,
          43572.09,
          43175,
          44748.67,
          44300.36,
          45606.06,
          41500,
          42436.12,
          41720,
          41718.05,
          42050,
          42200.69,
          40683.28,
          40280,
          41456.3,
          41500.98,
          39431.58,
          38555,
          39484.19,
          39550,
          39822.52,
          41394.34,
          41620.81,
          41804.88,
          42683.99,
          42276.84,
          41884.28,
          42546.79,
          42880,
          42222,
          42258.1,
          42574,
          42788,
          44331.1,
          45242.12,
          46800,
          47557.16,
          47710.01,
          48300.95,
          49225.01,
          51314,
          51566,
          50625,
          51163.28,
          51677,
          50760.37,
          50625,
          50940.78,
          50521,
          50585,
          51279.8,
          50901.44,
          54450.13,
          56691.85,
          60364.7,
          60777,
          61561.12,
          61320,
          62300
         ],
         "name": "Candlestick",
         "open": [
          44151.1,
          44145.12,
          43968.32,
          43929.01,
          46951.04,
          46110,
          46654,
          46339.16,
          42782.74,
          42847.99,
          41732.35,
          42511.1,
          43137.94,
          42776.09,
          41327.51,
          41659.03,
          41696.05,
          41580.32,
          39568.02,
          39897.59,
          40084.89,
          39961.09,
          41823.51,
          42120.63,
          42031.05,
          43302.71,
          42941.1,
          42580,
          43082.95,
          43199.99,
          43011.1,
          42582.88,
          42708.7,
          43098.96,
          44349.6,
          45288.66,
          47132.78,
          47751.08,
          48300,
          49917.28,
          49699.6,
          51795.17,
          51880.01,
          52124.1,
          51642.64,
          52137.68,
          51774.74,
          52258.82,
          51849.38,
          51288.42,
          50744.15,
          51568.21,
          51728.85,
          54476.48,
          57037.35,
          62432.11,
          61130.99,
          62387.9,
          61987.28,
          63113.97
         ],
         "type": "candlestick",
         "x": [
          "01-05",
          "01-06",
          "01-07",
          "01-08",
          "01-09",
          "01-10",
          "01-11",
          "01-12",
          "01-13",
          "01-14",
          "01-15",
          "01-16",
          "01-17",
          "01-18",
          "01-19",
          "01-20",
          "01-21",
          "01-22",
          "01-23",
          "01-24",
          "01-25",
          "01-26",
          "01-27",
          "01-28",
          "01-29",
          "01-30",
          "01-31",
          "02-01",
          "02-02",
          "02-03",
          "02-04",
          "02-05",
          "02-06",
          "02-07",
          "02-08",
          "02-09",
          "02-10",
          "02-11",
          "02-12",
          "02-13",
          "02-14",
          "02-15",
          "02-16",
          "02-17",
          "02-18",
          "02-19",
          "02-20",
          "02-21",
          "02-22",
          "02-23",
          "02-24",
          "02-25",
          "02-26",
          "02-27",
          "02-28",
          "02-29",
          "03-01",
          "03-02",
          "03-03",
          "03-04"
         ]
        },
        {
         "line": {
          "color": "black"
         },
         "mode": "lines",
         "name": "21EMA",
         "type": "scatter",
         "x": [
          "01-05",
          "01-06",
          "01-07",
          "01-08",
          "01-09",
          "01-10",
          "01-11",
          "01-12",
          "01-13",
          "01-14",
          "01-15",
          "01-16",
          "01-17",
          "01-18",
          "01-19",
          "01-20",
          "01-21",
          "01-22",
          "01-23",
          "01-24",
          "01-25",
          "01-26",
          "01-27",
          "01-28",
          "01-29",
          "01-30",
          "01-31",
          "02-01",
          "02-02",
          "02-03",
          "02-04",
          "02-05",
          "02-06",
          "02-07",
          "02-08",
          "02-09",
          "02-10",
          "02-11",
          "02-12",
          "02-13",
          "02-14",
          "02-15",
          "02-16",
          "02-17",
          "02-18",
          "02-19",
          "02-20",
          "02-21",
          "02-22",
          "02-23",
          "02-24",
          "02-25",
          "02-26",
          "02-27",
          "02-28",
          "02-29",
          "03-01",
          "03-02",
          "03-03",
          "03-04"
         ],
         "y": [
          44145.11,
          44129.038181818185,
          44110.8547107438,
          44369.053373403454,
          44527.32124854859,
          44720.65477140781,
          44867.79161037074,
          44678.24055488249,
          44511.854140802265,
          44259.17194618387,
          44100.25631471261,
          44012.77392246601,
          43900.349020423644,
          43666.453654930585,
          43483.96059539144,
          43321.42235944676,
          43163.14123586069,
          42836.312032600625,
          42569.15639327329,
          42343.3130847939,
          42126.747349812635,
          42099.18031801149,
          42101.13028910135,
          42094.76026281941,
          42204.57296619946,
          42271.52996927224,
          42299.572699338394,
          42370.78790848945,
          42446.1708258995,
          42497.52711445409,
          42505.28646768553,
          42523.778606986845,
          42576.066915442585,
          42737.297195856896,
          42969.23835986991,
          43347.74123624537,
          43748.045669313964,
          44161.85879028542,
          44685.07799116857,
          45140.94271924415,
          45745.87247204014,
          46303.5204291274,
          46832.66493557036,
          47269.93539597306,
          47712.456723611875,
          48081.754294192615,
          48461.487540175105,
          48769.47867288646,
          48998.473338987686,
          49157.17121726153,
          49376.35747023775,
          49590.220427488865,
          50034.42493408079,
          50671.05357643708,
          51740.239614942795,
          52593.94328631163,
          53484.302987556024,
          54257.30089777821,
          55062.45263434383,
          56182.85421303984
         ]
        },
        {
         "line": {
          "color": "green"
         },
         "mode": "lines",
         "name": "ATR+1",
         "type": "scatter",
         "x": [
          "01-05",
          "01-06",
          "01-07",
          "01-08",
          "01-09",
          "01-10",
          "01-11",
          "01-12",
          "01-13",
          "01-14",
          "01-15",
          "01-16",
          "01-17",
          "01-18",
          "01-19",
          "01-20",
          "01-21",
          "01-22",
          "01-23",
          "01-24",
          "01-25",
          "01-26",
          "01-27",
          "01-28",
          "01-29",
          "01-30",
          "01-31",
          "02-01",
          "02-02",
          "02-03",
          "02-04",
          "02-05",
          "02-06",
          "02-07",
          "02-08",
          "02-09",
          "02-10",
          "02-11",
          "02-12",
          "02-13",
          "02-14",
          "02-15",
          "02-16",
          "02-17",
          "02-18",
          "02-19",
          "02-20",
          "02-21",
          "02-22",
          "02-23",
          "02-24",
          "02-25",
          "02-26",
          "02-27",
          "02-28",
          "02-29",
          "03-01",
          "03-02",
          "03-03",
          "03-04"
         ],
         "y": [
          null,
          null,
          null,
          null,
          null,
          null,
          null,
          null,
          null,
          null,
          null,
          null,
          null,
          null,
          null,
          null,
          null,
          null,
          null,
          null,
          null,
          44016.832698963866,
          43965.83065191314,
          43928.84965597349,
          44024.092388250974,
          44061.47084741654,
          44074.19591661868,
          44127.61240113734,
          44164.1565331832,
          44157.5139785338,
          44128.94252871384,
          44132.57771272809,
          44147.588920910435,
          44310.580058207226,
          44528.70775258451,
          44973.801610259274,
          45361.91269218435,
          45748.18452635245,
          46320.855358851455,
          46797.28592656119,
          47457.56600281827,
          48005.258077487524,
          48501.27602924668,
          48932.31834233145,
          49353.474767762724,
          49683.28433624104,
          50092.68900879266,
          50405.946738236504,
          50610.585782178205,
          50741.44687744298,
          50938.191432315325,
          51110.002772324646,
          51672.72050059106,
          52380.76459216115,
          53716.54296325143,
          54633.83457041509,
          55538.35325813075,
          56255.06639356366,
          57056.12834461568,
          58330.40203234638
         ]
        },
        {
         "line": {
          "color": "orange"
         },
         "mode": "lines",
         "name": "ATR+2",
         "type": "scatter",
         "x": [
          "01-05",
          "01-06",
          "01-07",
          "01-08",
          "01-09",
          "01-10",
          "01-11",
          "01-12",
          "01-13",
          "01-14",
          "01-15",
          "01-16",
          "01-17",
          "01-18",
          "01-19",
          "01-20",
          "01-21",
          "01-22",
          "01-23",
          "01-24",
          "01-25",
          "01-26",
          "01-27",
          "01-28",
          "01-29",
          "01-30",
          "01-31",
          "02-01",
          "02-02",
          "02-03",
          "02-04",
          "02-05",
          "02-06",
          "02-07",
          "02-08",
          "02-09",
          "02-10",
          "02-11",
          "02-12",
          "02-13",
          "02-14",
          "02-15",
          "02-16",
          "02-17",
          "02-18",
          "02-19",
          "02-20",
          "02-21",
          "02-22",
          "02-23",
          "02-24",
          "02-25",
          "02-26",
          "02-27",
          "02-28",
          "02-29",
          "03-01",
          "03-02",
          "03-03",
          "03-04"
         ],
         "y": [
          null,
          null,
          null,
          null,
          null,
          null,
          null,
          null,
          null,
          null,
          null,
          null,
          null,
          null,
          null,
          null,
          null,
          null,
          null,
          null,
          null,
          45934.485079916245,
          45830.531014724926,
          45762.939049127584,
          45843.611810302486,
          45851.411725560836,
          45848.819133898956,
          45884.43689378523,
          45882.14224046691,
          45817.500842613525,
          45752.598589742134,
          45741.376818469325,
          45719.11092637828,
          45883.862920557556,
          46088.17714529911,
          46599.86198427318,
          46975.77971505474,
          47334.51026241949,
          47956.63272653435,
          48453.62913387823,
          49169.2595335964,
          49706.99572584765,
          50169.887122922984,
          50594.701288689845,
          50994.49281191357,
          51284.81437828947,
          51723.890477410205,
          52042.41480358655,
          52222.69822536873,
          52325.72253762443,
          52500.02539439289,
          52629.78511716043,
          53311.01606710132,
          54090.47560788521,
          55692.84631156006,
          56673.725854518554,
          57592.40352870547,
          58252.83188934911,
          59049.80405488754,
          60477.949851652906
         ]
        },
        {
         "line": {
          "color": "red"
         },
         "mode": "lines",
         "name": "ATR+3",
         "type": "scatter",
         "x": [
          "01-05",
          "01-06",
          "01-07",
          "01-08",
          "01-09",
          "01-10",
          "01-11",
          "01-12",
          "01-13",
          "01-14",
          "01-15",
          "01-16",
          "01-17",
          "01-18",
          "01-19",
          "01-20",
          "01-21",
          "01-22",
          "01-23",
          "01-24",
          "01-25",
          "01-26",
          "01-27",
          "01-28",
          "01-29",
          "01-30",
          "01-31",
          "02-01",
          "02-02",
          "02-03",
          "02-04",
          "02-05",
          "02-06",
          "02-07",
          "02-08",
          "02-09",
          "02-10",
          "02-11",
          "02-12",
          "02-13",
          "02-14",
          "02-15",
          "02-16",
          "02-17",
          "02-18",
          "02-19",
          "02-20",
          "02-21",
          "02-22",
          "02-23",
          "02-24",
          "02-25",
          "02-26",
          "02-27",
          "02-28",
          "02-29",
          "03-01",
          "03-02",
          "03-03",
          "03-04"
         ],
         "y": [
          null,
          null,
          null,
          null,
          null,
          null,
          null,
          null,
          null,
          null,
          null,
          null,
          null,
          null,
          null,
          null,
          null,
          null,
          null,
          null,
          null,
          47852.13746086863,
          47695.23137753672,
          47597.02844228167,
          47663.131232354,
          47641.352603705134,
          47623.44235117924,
          47641.261386433114,
          47600.1279477506,
          47477.48770669324,
          47376.25465077044,
          47350.17592421057,
          47290.63293184613,
          47457.145782907886,
          47647.646538013716,
          48225.92235828709,
          48589.646737925126,
          48920.835998486524,
          49592.41009421724,
          50109.97234119527,
          50880.95306437454,
          51408.733374207775,
          51838.4982165993,
          52257.084235048234,
          52635.51085606442,
          52886.3444203379,
          53355.09194602776,
          53678.8828689366,
          53834.81066855925,
          53909.99819780588,
          54061.859356470464,
          54149.56746199621,
          54949.31163361159,
          55800.186623609276,
          57669.14965986869,
          58713.61713862201,
          59646.45379928019,
          60250.59738513456,
          61043.4797651594,
          62625.497670959434
         ]
        },
        {
         "line": {
          "color": "green"
         },
         "mode": "lines",
         "name": "ATR-1",
         "type": "scatter",
         "x": [
          "01-05",
          "01-06",
          "01-07",
          "01-08",
          "01-09",
          "01-10",
          "01-11",
          "01-12",
          "01-13",
          "01-14",
          "01-15",
          "01-16",
          "01-17",
          "01-18",
          "01-19",
          "01-20",
          "01-21",
          "01-22",
          "01-23",
          "01-24",
          "01-25",
          "01-26",
          "01-27",
          "01-28",
          "01-29",
          "01-30",
          "01-31",
          "02-01",
          "02-02",
          "02-03",
          "02-04",
          "02-05",
          "02-06",
          "02-07",
          "02-08",
          "02-09",
          "02-10",
          "02-11",
          "02-12",
          "02-13",
          "02-14",
          "02-15",
          "02-16",
          "02-17",
          "02-18",
          "02-19",
          "02-20",
          "02-21",
          "02-22",
          "02-23",
          "02-24",
          "02-25",
          "02-26",
          "02-27",
          "02-28",
          "02-29",
          "03-01",
          "03-02",
          "03-03",
          "03-04"
         ],
         "y": [
          null,
          null,
          null,
          null,
          null,
          null,
          null,
          null,
          null,
          null,
          null,
          null,
          null,
          null,
          null,
          null,
          null,
          null,
          null,
          null,
          null,
          40181.52793705911,
          40236.42992628956,
          40260.67086966532,
          40385.05354414795,
          40481.58909112794,
          40524.94948205811,
          40613.963415841565,
          40728.185118615795,
          40837.540250374375,
          40881.63040665723,
          40914.9795012456,
          41004.544909974735,
          41164.014333506566,
          41409.76896715531,
          41721.680862231464,
          42134.17864644358,
          42575.53305421839,
          43049.30062348568,
          43484.59951192711,
          44034.178941262006,
          44601.78278076727,
          45164.05384189405,
          45607.55244961467,
          46071.438679461025,
          46480.22425214419,
          46830.28607155755,
          47133.01060753641,
          47386.36089579717,
          47572.89555708008,
          47814.52350816018,
          48070.43808265308,
          48396.12936757052,
          48961.34256071301,
          49763.93626663416,
          50554.05200220817,
          51430.2527169813,
          52259.535401992754,
          53068.77692407197,
          54035.306393733306
         ]
        },
        {
         "line": {
          "color": "orange"
         },
         "mode": "lines",
         "name": "ATR-2",
         "type": "scatter",
         "x": [
          "01-05",
          "01-06",
          "01-07",
          "01-08",
          "01-09",
          "01-10",
          "01-11",
          "01-12",
          "01-13",
          "01-14",
          "01-15",
          "01-16",
          "01-17",
          "01-18",
          "01-19",
          "01-20",
          "01-21",
          "01-22",
          "01-23",
          "01-24",
          "01-25",
          "01-26",
          "01-27",
          "01-28",
          "01-29",
          "01-30",
          "01-31",
          "02-01",
          "02-02",
          "02-03",
          "02-04",
          "02-05",
          "02-06",
          "02-07",
          "02-08",
          "02-09",
          "02-10",
          "02-11",
          "02-12",
          "02-13",
          "02-14",
          "02-15",
          "02-16",
          "02-17",
          "02-18",
          "02-19",
          "02-20",
          "02-21",
          "02-22",
          "02-23",
          "02-24",
          "02-25",
          "02-26",
          "02-27",
          "02-28",
          "02-29",
          "03-01",
          "03-02",
          "03-03",
          "03-04"
         ],
         "y": [
          null,
          null,
          null,
          null,
          null,
          null,
          null,
          null,
          null,
          null,
          null,
          null,
          null,
          null,
          null,
          null,
          null,
          null,
          null,
          null,
          null,
          38263.87555610673,
          38371.72956347777,
          38426.58147651123,
          38565.53412209644,
          38691.648212983644,
          38750.32626477783,
          38857.13892319368,
          39010.19941133209,
          39177.553386294654,
          39257.97434562893,
          39306.180395504365,
          39433.02290450689,
          39590.731471156236,
          39850.29957444071,
          40095.62048821756,
          40520.31162357319,
          40989.20731815135,
          41413.523255802786,
          41828.25630461007,
          42322.485410483874,
          42900.04513240715,
          43495.44274821774,
          43945.16950325627,
          44430.420635310176,
          44878.69421009576,
          45199.084602940005,
          45496.54254218636,
          45774.24845260664,
          45988.61989689863,
          46252.68954608261,
          46550.6557378173,
          46757.83380106025,
          47251.63154498895,
          47787.63291832553,
          48514.16071810471,
          49376.202446406576,
          50261.76990620731,
          51075.10121380011,
          51887.75857442678
         ]
        },
        {
         "line": {
          "color": "red"
         },
         "mode": "lines",
         "name": "ATR-3",
         "type": "scatter",
         "x": [
          "01-05",
          "01-06",
          "01-07",
          "01-08",
          "01-09",
          "01-10",
          "01-11",
          "01-12",
          "01-13",
          "01-14",
          "01-15",
          "01-16",
          "01-17",
          "01-18",
          "01-19",
          "01-20",
          "01-21",
          "01-22",
          "01-23",
          "01-24",
          "01-25",
          "01-26",
          "01-27",
          "01-28",
          "01-29",
          "01-30",
          "01-31",
          "02-01",
          "02-02",
          "02-03",
          "02-04",
          "02-05",
          "02-06",
          "02-07",
          "02-08",
          "02-09",
          "02-10",
          "02-11",
          "02-12",
          "02-13",
          "02-14",
          "02-15",
          "02-16",
          "02-17",
          "02-18",
          "02-19",
          "02-20",
          "02-21",
          "02-22",
          "02-23",
          "02-24",
          "02-25",
          "02-26",
          "02-27",
          "02-28",
          "02-29",
          "03-01",
          "03-02",
          "03-03",
          "03-04"
         ],
         "y": [
          null,
          null,
          null,
          null,
          null,
          null,
          null,
          null,
          null,
          null,
          null,
          null,
          null,
          null,
          null,
          null,
          null,
          null,
          null,
          null,
          null,
          36346.223175154344,
          36507.02920066597,
          36592.492083357145,
          36746.01470004493,
          36901.707334839346,
          36975.70304749755,
          37100.31443054579,
          37292.213704048394,
          37517.56652221494,
          37634.318284600624,
          37697.38128976312,
          37861.50089903904,
          38017.448608805906,
          38290.8301817261,
          38469.56011420365,
          38906.4446007028,
          39402.881582084316,
          39777.7458881199,
          40171.91309729303,
          40610.791879705735,
          41198.30748404702,
          41826.83165454143,
          42282.78655689788,
          42789.40259115933,
          43277.16416804733,
          43567.88313432245,
          43860.074476836315,
          44162.13600941612,
          44404.34423671718,
          44690.85558400504,
          45030.87339298152,
          45119.53823454998,
          45541.920529264884,
          45811.3295700169,
          46474.26943400125,
          47322.152175831856,
          48264.004410421854,
          49081.425503528255,
          49740.21075512025
         ]
        }
       ],
       "layout": {
        "template": {
         "data": {
          "bar": [
           {
            "error_x": {
             "color": "#2a3f5f"
            },
            "error_y": {
             "color": "#2a3f5f"
            },
            "marker": {
             "line": {
              "color": "#E5ECF6",
              "width": 0.5
             },
             "pattern": {
              "fillmode": "overlay",
              "size": 10,
              "solidity": 0.2
             }
            },
            "type": "bar"
           }
          ],
          "barpolar": [
           {
            "marker": {
             "line": {
              "color": "#E5ECF6",
              "width": 0.5
             },
             "pattern": {
              "fillmode": "overlay",
              "size": 10,
              "solidity": 0.2
             }
            },
            "type": "barpolar"
           }
          ],
          "carpet": [
           {
            "aaxis": {
             "endlinecolor": "#2a3f5f",
             "gridcolor": "white",
             "linecolor": "white",
             "minorgridcolor": "white",
             "startlinecolor": "#2a3f5f"
            },
            "baxis": {
             "endlinecolor": "#2a3f5f",
             "gridcolor": "white",
             "linecolor": "white",
             "minorgridcolor": "white",
             "startlinecolor": "#2a3f5f"
            },
            "type": "carpet"
           }
          ],
          "choropleth": [
           {
            "colorbar": {
             "outlinewidth": 0,
             "ticks": ""
            },
            "type": "choropleth"
           }
          ],
          "contour": [
           {
            "colorbar": {
             "outlinewidth": 0,
             "ticks": ""
            },
            "colorscale": [
             [
              0,
              "#0d0887"
             ],
             [
              0.1111111111111111,
              "#46039f"
             ],
             [
              0.2222222222222222,
              "#7201a8"
             ],
             [
              0.3333333333333333,
              "#9c179e"
             ],
             [
              0.4444444444444444,
              "#bd3786"
             ],
             [
              0.5555555555555556,
              "#d8576b"
             ],
             [
              0.6666666666666666,
              "#ed7953"
             ],
             [
              0.7777777777777778,
              "#fb9f3a"
             ],
             [
              0.8888888888888888,
              "#fdca26"
             ],
             [
              1,
              "#f0f921"
             ]
            ],
            "type": "contour"
           }
          ],
          "contourcarpet": [
           {
            "colorbar": {
             "outlinewidth": 0,
             "ticks": ""
            },
            "type": "contourcarpet"
           }
          ],
          "heatmap": [
           {
            "colorbar": {
             "outlinewidth": 0,
             "ticks": ""
            },
            "colorscale": [
             [
              0,
              "#0d0887"
             ],
             [
              0.1111111111111111,
              "#46039f"
             ],
             [
              0.2222222222222222,
              "#7201a8"
             ],
             [
              0.3333333333333333,
              "#9c179e"
             ],
             [
              0.4444444444444444,
              "#bd3786"
             ],
             [
              0.5555555555555556,
              "#d8576b"
             ],
             [
              0.6666666666666666,
              "#ed7953"
             ],
             [
              0.7777777777777778,
              "#fb9f3a"
             ],
             [
              0.8888888888888888,
              "#fdca26"
             ],
             [
              1,
              "#f0f921"
             ]
            ],
            "type": "heatmap"
           }
          ],
          "heatmapgl": [
           {
            "colorbar": {
             "outlinewidth": 0,
             "ticks": ""
            },
            "colorscale": [
             [
              0,
              "#0d0887"
             ],
             [
              0.1111111111111111,
              "#46039f"
             ],
             [
              0.2222222222222222,
              "#7201a8"
             ],
             [
              0.3333333333333333,
              "#9c179e"
             ],
             [
              0.4444444444444444,
              "#bd3786"
             ],
             [
              0.5555555555555556,
              "#d8576b"
             ],
             [
              0.6666666666666666,
              "#ed7953"
             ],
             [
              0.7777777777777778,
              "#fb9f3a"
             ],
             [
              0.8888888888888888,
              "#fdca26"
             ],
             [
              1,
              "#f0f921"
             ]
            ],
            "type": "heatmapgl"
           }
          ],
          "histogram": [
           {
            "marker": {
             "pattern": {
              "fillmode": "overlay",
              "size": 10,
              "solidity": 0.2
             }
            },
            "type": "histogram"
           }
          ],
          "histogram2d": [
           {
            "colorbar": {
             "outlinewidth": 0,
             "ticks": ""
            },
            "colorscale": [
             [
              0,
              "#0d0887"
             ],
             [
              0.1111111111111111,
              "#46039f"
             ],
             [
              0.2222222222222222,
              "#7201a8"
             ],
             [
              0.3333333333333333,
              "#9c179e"
             ],
             [
              0.4444444444444444,
              "#bd3786"
             ],
             [
              0.5555555555555556,
              "#d8576b"
             ],
             [
              0.6666666666666666,
              "#ed7953"
             ],
             [
              0.7777777777777778,
              "#fb9f3a"
             ],
             [
              0.8888888888888888,
              "#fdca26"
             ],
             [
              1,
              "#f0f921"
             ]
            ],
            "type": "histogram2d"
           }
          ],
          "histogram2dcontour": [
           {
            "colorbar": {
             "outlinewidth": 0,
             "ticks": ""
            },
            "colorscale": [
             [
              0,
              "#0d0887"
             ],
             [
              0.1111111111111111,
              "#46039f"
             ],
             [
              0.2222222222222222,
              "#7201a8"
             ],
             [
              0.3333333333333333,
              "#9c179e"
             ],
             [
              0.4444444444444444,
              "#bd3786"
             ],
             [
              0.5555555555555556,
              "#d8576b"
             ],
             [
              0.6666666666666666,
              "#ed7953"
             ],
             [
              0.7777777777777778,
              "#fb9f3a"
             ],
             [
              0.8888888888888888,
              "#fdca26"
             ],
             [
              1,
              "#f0f921"
             ]
            ],
            "type": "histogram2dcontour"
           }
          ],
          "mesh3d": [
           {
            "colorbar": {
             "outlinewidth": 0,
             "ticks": ""
            },
            "type": "mesh3d"
           }
          ],
          "parcoords": [
           {
            "line": {
             "colorbar": {
              "outlinewidth": 0,
              "ticks": ""
             }
            },
            "type": "parcoords"
           }
          ],
          "pie": [
           {
            "automargin": true,
            "type": "pie"
           }
          ],
          "scatter": [
           {
            "fillpattern": {
             "fillmode": "overlay",
             "size": 10,
             "solidity": 0.2
            },
            "type": "scatter"
           }
          ],
          "scatter3d": [
           {
            "line": {
             "colorbar": {
              "outlinewidth": 0,
              "ticks": ""
             }
            },
            "marker": {
             "colorbar": {
              "outlinewidth": 0,
              "ticks": ""
             }
            },
            "type": "scatter3d"
           }
          ],
          "scattercarpet": [
           {
            "marker": {
             "colorbar": {
              "outlinewidth": 0,
              "ticks": ""
             }
            },
            "type": "scattercarpet"
           }
          ],
          "scattergeo": [
           {
            "marker": {
             "colorbar": {
              "outlinewidth": 0,
              "ticks": ""
             }
            },
            "type": "scattergeo"
           }
          ],
          "scattergl": [
           {
            "marker": {
             "colorbar": {
              "outlinewidth": 0,
              "ticks": ""
             }
            },
            "type": "scattergl"
           }
          ],
          "scattermapbox": [
           {
            "marker": {
             "colorbar": {
              "outlinewidth": 0,
              "ticks": ""
             }
            },
            "type": "scattermapbox"
           }
          ],
          "scatterpolar": [
           {
            "marker": {
             "colorbar": {
              "outlinewidth": 0,
              "ticks": ""
             }
            },
            "type": "scatterpolar"
           }
          ],
          "scatterpolargl": [
           {
            "marker": {
             "colorbar": {
              "outlinewidth": 0,
              "ticks": ""
             }
            },
            "type": "scatterpolargl"
           }
          ],
          "scatterternary": [
           {
            "marker": {
             "colorbar": {
              "outlinewidth": 0,
              "ticks": ""
             }
            },
            "type": "scatterternary"
           }
          ],
          "surface": [
           {
            "colorbar": {
             "outlinewidth": 0,
             "ticks": ""
            },
            "colorscale": [
             [
              0,
              "#0d0887"
             ],
             [
              0.1111111111111111,
              "#46039f"
             ],
             [
              0.2222222222222222,
              "#7201a8"
             ],
             [
              0.3333333333333333,
              "#9c179e"
             ],
             [
              0.4444444444444444,
              "#bd3786"
             ],
             [
              0.5555555555555556,
              "#d8576b"
             ],
             [
              0.6666666666666666,
              "#ed7953"
             ],
             [
              0.7777777777777778,
              "#fb9f3a"
             ],
             [
              0.8888888888888888,
              "#fdca26"
             ],
             [
              1,
              "#f0f921"
             ]
            ],
            "type": "surface"
           }
          ],
          "table": [
           {
            "cells": {
             "fill": {
              "color": "#EBF0F8"
             },
             "line": {
              "color": "white"
             }
            },
            "header": {
             "fill": {
              "color": "#C8D4E3"
             },
             "line": {
              "color": "white"
             }
            },
            "type": "table"
           }
          ]
         },
         "layout": {
          "annotationdefaults": {
           "arrowcolor": "#2a3f5f",
           "arrowhead": 0,
           "arrowwidth": 1
          },
          "autotypenumbers": "strict",
          "coloraxis": {
           "colorbar": {
            "outlinewidth": 0,
            "ticks": ""
           }
          },
          "colorscale": {
           "diverging": [
            [
             0,
             "#8e0152"
            ],
            [
             0.1,
             "#c51b7d"
            ],
            [
             0.2,
             "#de77ae"
            ],
            [
             0.3,
             "#f1b6da"
            ],
            [
             0.4,
             "#fde0ef"
            ],
            [
             0.5,
             "#f7f7f7"
            ],
            [
             0.6,
             "#e6f5d0"
            ],
            [
             0.7,
             "#b8e186"
            ],
            [
             0.8,
             "#7fbc41"
            ],
            [
             0.9,
             "#4d9221"
            ],
            [
             1,
             "#276419"
            ]
           ],
           "sequential": [
            [
             0,
             "#0d0887"
            ],
            [
             0.1111111111111111,
             "#46039f"
            ],
            [
             0.2222222222222222,
             "#7201a8"
            ],
            [
             0.3333333333333333,
             "#9c179e"
            ],
            [
             0.4444444444444444,
             "#bd3786"
            ],
            [
             0.5555555555555556,
             "#d8576b"
            ],
            [
             0.6666666666666666,
             "#ed7953"
            ],
            [
             0.7777777777777778,
             "#fb9f3a"
            ],
            [
             0.8888888888888888,
             "#fdca26"
            ],
            [
             1,
             "#f0f921"
            ]
           ],
           "sequentialminus": [
            [
             0,
             "#0d0887"
            ],
            [
             0.1111111111111111,
             "#46039f"
            ],
            [
             0.2222222222222222,
             "#7201a8"
            ],
            [
             0.3333333333333333,
             "#9c179e"
            ],
            [
             0.4444444444444444,
             "#bd3786"
            ],
            [
             0.5555555555555556,
             "#d8576b"
            ],
            [
             0.6666666666666666,
             "#ed7953"
            ],
            [
             0.7777777777777778,
             "#fb9f3a"
            ],
            [
             0.8888888888888888,
             "#fdca26"
            ],
            [
             1,
             "#f0f921"
            ]
           ]
          },
          "colorway": [
           "#636efa",
           "#EF553B",
           "#00cc96",
           "#ab63fa",
           "#FFA15A",
           "#19d3f3",
           "#FF6692",
           "#B6E880",
           "#FF97FF",
           "#FECB52"
          ],
          "font": {
           "color": "#2a3f5f"
          },
          "geo": {
           "bgcolor": "white",
           "lakecolor": "white",
           "landcolor": "#E5ECF6",
           "showlakes": true,
           "showland": true,
           "subunitcolor": "white"
          },
          "hoverlabel": {
           "align": "left"
          },
          "hovermode": "closest",
          "mapbox": {
           "style": "light"
          },
          "paper_bgcolor": "white",
          "plot_bgcolor": "#E5ECF6",
          "polar": {
           "angularaxis": {
            "gridcolor": "white",
            "linecolor": "white",
            "ticks": ""
           },
           "bgcolor": "#E5ECF6",
           "radialaxis": {
            "gridcolor": "white",
            "linecolor": "white",
            "ticks": ""
           }
          },
          "scene": {
           "xaxis": {
            "backgroundcolor": "#E5ECF6",
            "gridcolor": "white",
            "gridwidth": 2,
            "linecolor": "white",
            "showbackground": true,
            "ticks": "",
            "zerolinecolor": "white"
           },
           "yaxis": {
            "backgroundcolor": "#E5ECF6",
            "gridcolor": "white",
            "gridwidth": 2,
            "linecolor": "white",
            "showbackground": true,
            "ticks": "",
            "zerolinecolor": "white"
           },
           "zaxis": {
            "backgroundcolor": "#E5ECF6",
            "gridcolor": "white",
            "gridwidth": 2,
            "linecolor": "white",
            "showbackground": true,
            "ticks": "",
            "zerolinecolor": "white"
           }
          },
          "shapedefaults": {
           "line": {
            "color": "#2a3f5f"
           }
          },
          "ternary": {
           "aaxis": {
            "gridcolor": "white",
            "linecolor": "white",
            "ticks": ""
           },
           "baxis": {
            "gridcolor": "white",
            "linecolor": "white",
            "ticks": ""
           },
           "bgcolor": "#E5ECF6",
           "caxis": {
            "gridcolor": "white",
            "linecolor": "white",
            "ticks": ""
           }
          },
          "title": {
           "x": 0.05
          },
          "xaxis": {
           "automargin": true,
           "gridcolor": "white",
           "linecolor": "white",
           "ticks": "",
           "title": {
            "standoff": 15
           },
           "zerolinecolor": "white",
           "zerolinewidth": 2
          },
          "yaxis": {
           "automargin": true,
           "gridcolor": "white",
           "linecolor": "white",
           "ticks": "",
           "title": {
            "standoff": 15
           },
           "zerolinecolor": "white",
           "zerolinewidth": 2
          }
         }
        },
        "title": {
         "text": "Candlestick Chart with Extra Line"
        },
        "xaxis": {
         "categoryorder": "category ascending",
         "type": "category"
        },
        "yaxis": {
         "title": {
          "text": "Price"
         }
        }
       }
      }
     },
     "metadata": {},
     "output_type": "display_data"
    }
   ],
   "source": [
    "draw_ATR_GRAPH(df_medium)"
   ]
  },
  {
   "cell_type": "markdown",
   "id": "01e061b9",
   "metadata": {},
   "source": [
    "Siit lihtsalt testimine. Salvestab ilusti htmlina ära. \n",
    "Siit edasi:\n",
    "1. tee tsükkel, kus teeb html-id nendest, mis on pullid ja bearid\n",
    "2. saada need meilile"
   ]
  },
  {
   "cell_type": "code",
   "execution_count": 46,
   "id": "49ac13d2",
   "metadata": {},
   "outputs": [],
   "source": [
    "import os\n",
    "import plotly.io as pio\n",
    "# Output directory where HTML files will be saved\n",
    "output_directory = '/Users/ahtojarve/Trading_bot/reports/figures/'\n",
    "os.makedirs(output_directory, exist_ok=True)\n",
    "chart_filename = f\"{output_directory}_testing.html\"\n",
    "pio.write_html(fig, file = chart_filename)"
   ]
  },
  {
   "cell_type": "markdown",
   "id": "aaf32bfa-c484-42d0-bd59-ac37cf11fbd8",
   "metadata": {},
   "source": [
    "# Päevase vaate graafikkute tegemine\n",
    "- vastavalt bull ja bear setile joonistan graafikud endale välja, kus on peal siis vajalikud jooned\n",
    "- teen ikkagilt ise otsuse\n",
    "- esitan orderi\n",
    "- (PÄRAST ON VAJA KUIDAGI SEE BACTESTIMINE SELGEKS SAADA)"
   ]
  }
 ],
 "metadata": {
  "kernelspec": {
   "display_name": "tradingbot",
   "language": "python",
   "name": "python3"
  },
  "language_info": {
   "codemirror_mode": {
    "name": "ipython",
    "version": 3
   },
   "file_extension": ".py",
   "mimetype": "text/x-python",
   "name": "python",
   "nbconvert_exporter": "python",
   "pygments_lexer": "ipython3",
   "version": "3.12.1"
  }
 },
 "nbformat": 4,
 "nbformat_minor": 5
}
